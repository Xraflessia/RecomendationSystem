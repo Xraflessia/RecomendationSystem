{
  "cells": [
    {
      "metadata": {
        "id": "8a77807f92f26ee"
      },
      "cell_type": "markdown",
      "source": [
        "# Proyek Akhir Machine Learning Terapan - Recomendation System\n",
        "* Nama : Cindy Alya Putri\n",
        "* Email : cind.aly4@gmail.com"
      ],
      "id": "8a77807f92f26ee"
    },
    {
      "metadata": {
        "id": "ccb6d3b6644cdad5"
      },
      "cell_type": "markdown",
      "source": [
        "# Project Overview"
      ],
      "id": "ccb6d3b6644cdad5"
    },
    {
      "metadata": {
        "id": "1ab721bab5cb747f"
      },
      "cell_type": "markdown",
      "source": [
        "##**Latar Belakang**\n",
        "\n",
        "Dalam era digital saat ini, semakin banyak pengguna yang mengakses buku secara online, baik untuk keperluan belajar maupun hiburan. Namun, jumlah buku yang sangat besar justru sering membuat pengguna kesulitan dalam memilih bacaan yang sesuai dengan minat mereka. Hal ini menimbulkan kebutuhan akan sistem yang mampu memberikan rekomendasi secara otomatis dan personal.\n",
        "\n",
        "Sistem rekomendasi buku dapat menjadi solusi untuk membantu pengguna menemukan bacaan yang relevan dengan preferensi mereka. Dua pendekatan yang sering digunakan adalah Content-based Filtering dan Collaborative Filtering. Content-based Filtering bekerja dengan menganalisis karakteristik buku yang disukai pengguna, sedangkan Collaborative Filtering memanfaatkan pola interaksi antar pengguna untuk memberi rekomendasi berdasarkan kesamaan perilaku.\n",
        "\n",
        "Kedua pendekatan ini terbukti efektif dan banyak dikembangkan dalam penelitian. Parthasarathya dan Devi \\[1] menunjukkan bahwa kombinasi keduanya dalam sistem hybrid dapat meningkatkan akurasi dan relevansi rekomendasi. Zhou et al. \\[2] juga mengembangkan metode Collaborative Filtering berbasis kemiripan yang ditingkatkan, sehingga hasil rekomendasinya lebih akurat. Selain itu, Mukti dan Baizal \\[3] mengimplementasikan model Neural Collaborative Filtering yang dipadukan dengan metadata buku dan berhasil meningkatkan performa sistem dalam konteks rekomendasi buku di Indonesia.\n",
        "\n",
        "Melalui proyek ini, sistem rekomendasi buku dikembangkan menggunakan pendekatan Content-based dan Collaborative Filtering pada dataset Book-Crossing. Tujuannya adalah membantu pengguna menemukan buku yang sesuai dengan preferensi mereka secara lebih cepat, efisien, dan personal.\n",
        "\n",
        "\n",
        "**Referensi**\n",
        "\n",
        "\\[1] G. Parthasarathya and S. S. Devi, “Hybrid Recommendation System Based on Collaborative and Content-Based Filtering,” *Cybernetics and Systems*, vol. 54, no. 4, pp. 432–453, May 2022.\n",
        "\n",
        "\\[2] W. Zhou, R. Li, and W. Liu, “Collaborative Filtering Recommendation Algorithm based on Improved Similarity,” *Proc. 2020 IEEE 5th Information Technology and Mechatronics Eng. Conf. (ITOEC)*, pp. 321–324, 2020.\n",
        "\n",
        "\\[3] P. A. S. Mukti and Z. K. A. Baizal, “Enhancing Neural Collaborative Filtering with Metadata for Book Recommender System,” *Indonesian Journal of Computing and Cybernetics Systems*, vol. 19, no. 1, 2025."
      ],
      "id": "1ab721bab5cb747f"
    },
    {
      "metadata": {
        "id": "9e953c9ca759c8e"
      },
      "cell_type": "markdown",
      "source": [
        "# Business Understanding"
      ],
      "id": "9e953c9ca759c8e"
    },
    {
      "metadata": {
        "id": "975eb6c93dbf3a8e"
      },
      "cell_type": "markdown",
      "source": [
        "Bagian ini menjelaskan landasan permasalahan yang menjadi fokus dalam pengembangan sistem rekomendasi buku berbasis machine learning. Sistem ini ditujukan untuk membantu pengguna dalam menemukan bacaan yang sesuai dengan preferensi mereka, terutama ketika berhadapan dengan ribuan pilihan buku yang tersedia secara digital.\n",
        "\n",
        "### **Problem Statements**\n",
        "\n",
        "1. Jumlah buku yang sangat banyak di platform digital sering membuat pengguna kewalahan dalam memilih, terutama jika mereka tidak tahu harus mulai dari mana.\n",
        "2. Banyak pengguna baru atau yang jarang berinteraksi tidak memberikan cukup rating, sehingga sulit diketahui preferensinya tanpa sistem yang cerdas.\n",
        "3. Pengalaman pengguna yang personal sangat dibutuhkan untuk meningkatkan kenyamanan, membuat pengguna lebih betah, dan kembali menggunakan platform secara rutin.\n",
        "\n",
        "### **Goals**\n",
        "\n",
        "1. Menyediakan rekomendasi buku yang relevan dengan minat pengguna berdasarkan interaksi sebelumnya, seperti buku yang pernah mereka beri rating.\n",
        "2. Membantu pengguna menghindari kebingungan dalam memilih dengan memberikan daftar rekomendasi yang telah disesuaikan.\n",
        "3. Meningkatkan durasi dan frekuensi keterlibatan pengguna dengan sistem melalui rekomendasi yang menarik dan relevan.\n",
        "4. Mendorong pengguna untuk mencoba buku dari genre atau penulis yang masih berhubungan dengan minat mereka, sehingga memperluas pengalaman membaca mereka.\n",
        "\n",
        "### **Solution Statements**\n",
        "\n",
        "Beberapa pendekatan machine learning akan digunakan dalam proyek ini, antara lain:\n",
        "\n",
        "#### **Content-Based Filtering (CBF)**\n",
        "\n",
        "Mengandalkan informasi dari buku itu sendiri misalnya judul dan penulis untuk mengukur kemiripan antar buku. Teknik seperti TF-IDF dan cosine similarity akan digunakan untuk merekomendasikan buku yang mirip dengan yang disukai pengguna sebelumnya.\n",
        "\n",
        "* **Kelebihan**: Tetap bisa memberikan rekomendasi meski pengguna baru belum banyak berinteraksi.\n",
        "* **Kekurangan**: Hanya memberikan saran yang serupa, sehingga potensi eksplorasi terbatas.\n",
        "\n",
        "#### **User-Based Collaborative Filtering**\n",
        "\n",
        "Menggunakan pola perilaku dan kesamaan preferensi antar pengguna. Jika dua pengguna memiliki selera yang mirip, maka buku yang disukai oleh salah satunya bisa direkomendasikan ke yang lain.\n",
        "\n",
        "* **Kelebihan**: Bisa menangkap pola preferensi antar pengguna dengan cukup baik.\n",
        "* **Kekurangan**: Sulit bekerja jika pengguna baru atau data rating masih sedikit (*cold start* problem).\n",
        "\n",
        "#### **Model-Based Collaborative Filtering (Neural Network)**\n",
        "\n",
        "Menggunakan pendekatan deep learning untuk membuat model rekomendasi berbasis embedding, sehingga sistem mampu memahami hubungan laten antara pengguna dan buku.\n",
        "\n",
        "* **Kelebihan**: Mampu menangkap pola kompleks dan menghasilkan prediksi yang lebih presisi.\n",
        "* **Kekurangan**: Membutuhkan waktu pelatihan lebih lama dan data yang lebih banyak.\n"
      ],
      "id": "975eb6c93dbf3a8e"
    },
    {
      "cell_type": "markdown",
      "source": [
        "#Import Library"
      ],
      "metadata": {
        "id": "2IDZ08R6cJZA"
      },
      "id": "2IDZ08R6cJZA"
    },
    {
      "cell_type": "code",
      "source": [
        "# Cek info GPU\n",
        "!nvidia-smi\n",
        "\n",
        "# Cek RAM\n",
        "!cat /proc/meminfo | grep Mem\n"
      ],
      "metadata": {
        "colab": {
          "base_uri": "https://localhost:8080/"
        },
        "id": "FozqhPR1WACQ",
        "outputId": "6b67fb5e-aa56-4b69-d70c-1e526d01ea2a"
      },
      "id": "FozqhPR1WACQ",
      "execution_count": null,
      "outputs": [
        {
          "output_type": "stream",
          "name": "stdout",
          "text": [
            "/bin/bash: line 1: nvidia-smi: command not found\n",
            "MemTotal:       13289424 kB\n",
            "MemFree:        11560796 kB\n",
            "MemAvailable:   12359608 kB\n"
          ]
        }
      ]
    },
    {
      "cell_type": "code",
      "source": [
        "import os\n",
        "import zipfile\n",
        "import pandas as pd\n",
        "import matplotlib.pyplot as plt\n",
        "import seaborn as sns\n",
        "import numpy as np\n",
        "import tensorflow as tf\n",
        "from sklearn.feature_extraction.text import TfidfVectorizer\n",
        "from sklearn.metrics.pairwise import cosine_similarity\n",
        "from tensorflow import keras\n",
        "from tensorflow.keras import layers\n",
        "from tensorflow.keras.callbacks import EarlyStopping\n",
        "from google.colab import files\n"
      ],
      "metadata": {
        "id": "YeEEQrtGcFqa"
      },
      "id": "YeEEQrtGcFqa",
      "execution_count": null,
      "outputs": []
    },
    {
      "metadata": {
        "id": "ac7d466b08b20eaf"
      },
      "cell_type": "markdown",
      "source": [
        "# Data Understanding"
      ],
      "id": "ac7d466b08b20eaf"
    },
    {
      "cell_type": "markdown",
      "source": [
        "Upload kaggle.json"
      ],
      "metadata": {
        "id": "Sc6omwW2gYhU"
      },
      "id": "Sc6omwW2gYhU"
    },
    {
      "metadata": {
        "ExecuteTime": {
          "end_time": "2025-05-07T06:02:44.981473Z",
          "start_time": "2025-05-07T06:02:37.516987Z"
        },
        "id": "fbc121e30a2defb3",
        "outputId": "d7e2cb40-6d4b-4221-e4d9-dde8cbc07a04",
        "colab": {
          "base_uri": "https://localhost:8080/",
          "height": 71
        }
      },
      "cell_type": "code",
      "source": [
        "files.upload()\n",
        "\n",
        "os.makedirs(\"/root/.kaggle\", exist_ok=True)\n",
        "!mv kaggle.json /root/.kaggle/kaggle.json\n",
        "!chmod 600 /root/.kaggle/kaggle.json"
      ],
      "id": "fbc121e30a2defb3",
      "outputs": [
        {
          "output_type": "display_data",
          "data": {
            "text/plain": [
              "<IPython.core.display.HTML object>"
            ],
            "text/html": [
              "\n",
              "     <input type=\"file\" id=\"files-949f34e7-167b-46c2-9f04-8f53659a5cf0\" name=\"files[]\" multiple disabled\n",
              "        style=\"border:none\" />\n",
              "     <output id=\"result-949f34e7-167b-46c2-9f04-8f53659a5cf0\">\n",
              "      Upload widget is only available when the cell has been executed in the\n",
              "      current browser session. Please rerun this cell to enable.\n",
              "      </output>\n",
              "      <script>// Copyright 2017 Google LLC\n",
              "//\n",
              "// Licensed under the Apache License, Version 2.0 (the \"License\");\n",
              "// you may not use this file except in compliance with the License.\n",
              "// You may obtain a copy of the License at\n",
              "//\n",
              "//      http://www.apache.org/licenses/LICENSE-2.0\n",
              "//\n",
              "// Unless required by applicable law or agreed to in writing, software\n",
              "// distributed under the License is distributed on an \"AS IS\" BASIS,\n",
              "// WITHOUT WARRANTIES OR CONDITIONS OF ANY KIND, either express or implied.\n",
              "// See the License for the specific language governing permissions and\n",
              "// limitations under the License.\n",
              "\n",
              "/**\n",
              " * @fileoverview Helpers for google.colab Python module.\n",
              " */\n",
              "(function(scope) {\n",
              "function span(text, styleAttributes = {}) {\n",
              "  const element = document.createElement('span');\n",
              "  element.textContent = text;\n",
              "  for (const key of Object.keys(styleAttributes)) {\n",
              "    element.style[key] = styleAttributes[key];\n",
              "  }\n",
              "  return element;\n",
              "}\n",
              "\n",
              "// Max number of bytes which will be uploaded at a time.\n",
              "const MAX_PAYLOAD_SIZE = 100 * 1024;\n",
              "\n",
              "function _uploadFiles(inputId, outputId) {\n",
              "  const steps = uploadFilesStep(inputId, outputId);\n",
              "  const outputElement = document.getElementById(outputId);\n",
              "  // Cache steps on the outputElement to make it available for the next call\n",
              "  // to uploadFilesContinue from Python.\n",
              "  outputElement.steps = steps;\n",
              "\n",
              "  return _uploadFilesContinue(outputId);\n",
              "}\n",
              "\n",
              "// This is roughly an async generator (not supported in the browser yet),\n",
              "// where there are multiple asynchronous steps and the Python side is going\n",
              "// to poll for completion of each step.\n",
              "// This uses a Promise to block the python side on completion of each step,\n",
              "// then passes the result of the previous step as the input to the next step.\n",
              "function _uploadFilesContinue(outputId) {\n",
              "  const outputElement = document.getElementById(outputId);\n",
              "  const steps = outputElement.steps;\n",
              "\n",
              "  const next = steps.next(outputElement.lastPromiseValue);\n",
              "  return Promise.resolve(next.value.promise).then((value) => {\n",
              "    // Cache the last promise value to make it available to the next\n",
              "    // step of the generator.\n",
              "    outputElement.lastPromiseValue = value;\n",
              "    return next.value.response;\n",
              "  });\n",
              "}\n",
              "\n",
              "/**\n",
              " * Generator function which is called between each async step of the upload\n",
              " * process.\n",
              " * @param {string} inputId Element ID of the input file picker element.\n",
              " * @param {string} outputId Element ID of the output display.\n",
              " * @return {!Iterable<!Object>} Iterable of next steps.\n",
              " */\n",
              "function* uploadFilesStep(inputId, outputId) {\n",
              "  const inputElement = document.getElementById(inputId);\n",
              "  inputElement.disabled = false;\n",
              "\n",
              "  const outputElement = document.getElementById(outputId);\n",
              "  outputElement.innerHTML = '';\n",
              "\n",
              "  const pickedPromise = new Promise((resolve) => {\n",
              "    inputElement.addEventListener('change', (e) => {\n",
              "      resolve(e.target.files);\n",
              "    });\n",
              "  });\n",
              "\n",
              "  const cancel = document.createElement('button');\n",
              "  inputElement.parentElement.appendChild(cancel);\n",
              "  cancel.textContent = 'Cancel upload';\n",
              "  const cancelPromise = new Promise((resolve) => {\n",
              "    cancel.onclick = () => {\n",
              "      resolve(null);\n",
              "    };\n",
              "  });\n",
              "\n",
              "  // Wait for the user to pick the files.\n",
              "  const files = yield {\n",
              "    promise: Promise.race([pickedPromise, cancelPromise]),\n",
              "    response: {\n",
              "      action: 'starting',\n",
              "    }\n",
              "  };\n",
              "\n",
              "  cancel.remove();\n",
              "\n",
              "  // Disable the input element since further picks are not allowed.\n",
              "  inputElement.disabled = true;\n",
              "\n",
              "  if (!files) {\n",
              "    return {\n",
              "      response: {\n",
              "        action: 'complete',\n",
              "      }\n",
              "    };\n",
              "  }\n",
              "\n",
              "  for (const file of files) {\n",
              "    const li = document.createElement('li');\n",
              "    li.append(span(file.name, {fontWeight: 'bold'}));\n",
              "    li.append(span(\n",
              "        `(${file.type || 'n/a'}) - ${file.size} bytes, ` +\n",
              "        `last modified: ${\n",
              "            file.lastModifiedDate ? file.lastModifiedDate.toLocaleDateString() :\n",
              "                                    'n/a'} - `));\n",
              "    const percent = span('0% done');\n",
              "    li.appendChild(percent);\n",
              "\n",
              "    outputElement.appendChild(li);\n",
              "\n",
              "    const fileDataPromise = new Promise((resolve) => {\n",
              "      const reader = new FileReader();\n",
              "      reader.onload = (e) => {\n",
              "        resolve(e.target.result);\n",
              "      };\n",
              "      reader.readAsArrayBuffer(file);\n",
              "    });\n",
              "    // Wait for the data to be ready.\n",
              "    let fileData = yield {\n",
              "      promise: fileDataPromise,\n",
              "      response: {\n",
              "        action: 'continue',\n",
              "      }\n",
              "    };\n",
              "\n",
              "    // Use a chunked sending to avoid message size limits. See b/62115660.\n",
              "    let position = 0;\n",
              "    do {\n",
              "      const length = Math.min(fileData.byteLength - position, MAX_PAYLOAD_SIZE);\n",
              "      const chunk = new Uint8Array(fileData, position, length);\n",
              "      position += length;\n",
              "\n",
              "      const base64 = btoa(String.fromCharCode.apply(null, chunk));\n",
              "      yield {\n",
              "        response: {\n",
              "          action: 'append',\n",
              "          file: file.name,\n",
              "          data: base64,\n",
              "        },\n",
              "      };\n",
              "\n",
              "      let percentDone = fileData.byteLength === 0 ?\n",
              "          100 :\n",
              "          Math.round((position / fileData.byteLength) * 100);\n",
              "      percent.textContent = `${percentDone}% done`;\n",
              "\n",
              "    } while (position < fileData.byteLength);\n",
              "  }\n",
              "\n",
              "  // All done.\n",
              "  yield {\n",
              "    response: {\n",
              "      action: 'complete',\n",
              "    }\n",
              "  };\n",
              "}\n",
              "\n",
              "scope.google = scope.google || {};\n",
              "scope.google.colab = scope.google.colab || {};\n",
              "scope.google.colab._files = {\n",
              "  _uploadFiles,\n",
              "  _uploadFilesContinue,\n",
              "};\n",
              "})(self);\n",
              "</script> "
            ]
          },
          "metadata": {}
        },
        {
          "output_type": "stream",
          "name": "stdout",
          "text": [
            "Saving kaggle.json to kaggle.json\n"
          ]
        }
      ],
      "execution_count": null
    },
    {
      "metadata": {
        "id": "a016f32b6e9d6fd4"
      },
      "cell_type": "markdown",
      "source": [
        "#### Download Dataset\n",
        "Dataset yang digunakan dalam proyek ini akan diunduh secara dari Kaggle. Sumber data berasal dari [Book Recommendation Dataset](https://www.kaggle.com/datasets/arashnic/book-recommendation-dataset), yang berisi informasi pengguna, buku, dan rating.\n"
      ],
      "id": "a016f32b6e9d6fd4"
    },
    {
      "metadata": {
        "ExecuteTime": {
          "end_time": "2025-05-07T06:02:45.451750Z",
          "start_time": "2025-05-07T06:02:45.035701Z"
        },
        "id": "e67922326963d633",
        "outputId": "ec62d918-4dc6-43ca-c1db-c1e28683f864",
        "colab": {
          "base_uri": "https://localhost:8080/"
        }
      },
      "cell_type": "code",
      "source": [
        "!kaggle datasets download -d arashnic/book-recommendation-dataset"
      ],
      "id": "e67922326963d633",
      "outputs": [
        {
          "output_type": "stream",
          "name": "stdout",
          "text": [
            "Dataset URL: https://www.kaggle.com/datasets/arashnic/book-recommendation-dataset\n",
            "License(s): CC0-1.0\n",
            "book-recommendation-dataset.zip: Skipping, found more recently modified local copy (use --force to force download)\n"
          ]
        }
      ],
      "execution_count": null
    },
    {
      "metadata": {
        "id": "9a7b1f94fb05355b"
      },
      "cell_type": "markdown",
      "source": [
        "#### Extract Dataset\n",
        "\n",
        "Setelah file dataset berhasil diunduh, tahap berikutnya adalah mengekstrak file book-recommendation-dataset.zip\n",
        "ke dalam folder book_data/.\n",
        "Ekstraksi ini bertujuan untuk memperoleh file CSV yang akan digunakan dalam tahap selanjutnya."
      ],
      "id": "9a7b1f94fb05355b"
    },
    {
      "metadata": {
        "ExecuteTime": {
          "end_time": "2025-05-07T06:02:47.728820Z",
          "start_time": "2025-05-07T06:02:45.483424Z"
        },
        "id": "7360f94ebc965bbb"
      },
      "cell_type": "code",
      "source": [
        "with zipfile.ZipFile(\"book-recommendation-dataset.zip\", 'r') as zip_ref:\n",
        "    zip_ref.extractall(\"book_data\")\n"
      ],
      "id": "7360f94ebc965bbb",
      "outputs": [],
      "execution_count": null
    },
    {
      "metadata": {
        "id": "e579461f456b5d97"
      },
      "cell_type": "markdown",
      "source": [
        "#### Load Dataset\n",
        "\n",
        "Pada tahap ini, dataset yang sudah diekstrak akan dimuat ke dalam struktur DataFrame menggunakan library pandas.\n",
        "Dataset terdiri dari tiga file utama, yaitu: Books.csv, Users.csv, dan Ratings.csv."
      ],
      "id": "e579461f456b5d97"
    },
    {
      "cell_type": "code",
      "source": [
        "books = pd.read_csv('book_data/Books.csv')\n",
        "users = pd.read_csv('book_data/Users.csv')\n",
        "ratings = pd.read_csv('book_data/Ratings.csv')"
      ],
      "metadata": {
        "colab": {
          "base_uri": "https://localhost:8080/"
        },
        "id": "BC54nQ1ThPof",
        "outputId": "41bc46c9-b7fe-4e7d-a053-01f56169e201"
      },
      "id": "BC54nQ1ThPof",
      "execution_count": null,
      "outputs": [
        {
          "output_type": "stream",
          "name": "stderr",
          "text": [
            "<ipython-input-6-3032073964>:1: DtypeWarning: Columns (3) have mixed types. Specify dtype option on import or set low_memory=False.\n",
            "  books = pd.read_csv('book_data/Books.csv')\n"
          ]
        }
      ]
    },
    {
      "metadata": {
        "ExecuteTime": {
          "end_time": "2025-05-07T06:02:47.790193Z",
          "start_time": "2025-05-07T06:02:47.777148Z"
        },
        "id": "ffa3eb1700ff5046",
        "outputId": "9f96ac6c-28f4-454a-c450-4328f62025f7",
        "colab": {
          "base_uri": "https://localhost:8080/"
        }
      },
      "cell_type": "code",
      "source": [
        "print(f\"Jumlah data Books: {books.shape}\")\n",
        "print(f\"Jumlah data Users: {users.shape}\")\n",
        "print(f\"Jumlah data Ratings: {ratings.shape}\")"
      ],
      "id": "ffa3eb1700ff5046",
      "outputs": [
        {
          "output_type": "stream",
          "name": "stdout",
          "text": [
            "Jumlah data Books: (271360, 8)\n",
            "Jumlah data Users: (278858, 3)\n",
            "Jumlah data Ratings: (1149780, 3)\n"
          ]
        }
      ],
      "execution_count": null
    },
    {
      "metadata": {
        "id": "1663df85588f8150"
      },
      "cell_type": "markdown",
      "source": [
        "Tahap ini dilakukan untuk mendapatkan gambaran awal mengenai ukuran dan struktur dataset. Saya menggunakan atribut .shape dari pandas untuk melihat jumlah baris dan kolom pada masing-masing file.\n",
        "\n",
        "Berikut adalah jumlah data dari setiap dataset:\n",
        "* Books.csv: 271.360 baris dan 8 kolom\n",
        "* Users.csv: 278.858 baris dan 3 kolom\n",
        "* Ratings.csv: 1.149.780 baris dan 3 kolom"
      ],
      "id": "1663df85588f8150"
    },
    {
      "metadata": {
        "id": "23536c39b643e4c"
      },
      "cell_type": "markdown",
      "source": [
        "### Data Books"
      ],
      "id": "23536c39b643e4c"
    },
    {
      "cell_type": "markdown",
      "source": [
        "Contoh Data"
      ],
      "metadata": {
        "id": "28X3FdNImFU0"
      },
      "id": "28X3FdNImFU0"
    },
    {
      "metadata": {
        "ExecuteTime": {
          "end_time": "2025-05-07T06:02:48.006820Z",
          "start_time": "2025-05-07T06:02:47.980623Z"
        },
        "id": "3e541d331aabd400",
        "outputId": "b2708b1f-fe5f-47ad-a4d6-6cebcc2bba39",
        "colab": {
          "base_uri": "https://localhost:8080/",
          "height": 206
        }
      },
      "cell_type": "code",
      "source": [
        "books.head()"
      ],
      "outputs": [
        {
          "output_type": "execute_result",
          "data": {
            "text/plain": [
              "         ISBN                                         Book-Title  \\\n",
              "0  0195153448                                Classical Mythology   \n",
              "1  0002005018                                       Clara Callan   \n",
              "2  0060973129                               Decision in Normandy   \n",
              "3  0374157065  Flu: The Story of the Great Influenza Pandemic...   \n",
              "4  0393045218                             The Mummies of Urumchi   \n",
              "\n",
              "            Book-Author Year-Of-Publication                   Publisher  \\\n",
              "0    Mark P. O. Morford                2002     Oxford University Press   \n",
              "1  Richard Bruce Wright                2001       HarperFlamingo Canada   \n",
              "2          Carlo D'Este                1991             HarperPerennial   \n",
              "3      Gina Bari Kolata                1999        Farrar Straus Giroux   \n",
              "4       E. J. W. Barber                1999  W. W. Norton &amp; Company   \n",
              "\n",
              "                                         Image-URL-S  \\\n",
              "0  http://images.amazon.com/images/P/0195153448.0...   \n",
              "1  http://images.amazon.com/images/P/0002005018.0...   \n",
              "2  http://images.amazon.com/images/P/0060973129.0...   \n",
              "3  http://images.amazon.com/images/P/0374157065.0...   \n",
              "4  http://images.amazon.com/images/P/0393045218.0...   \n",
              "\n",
              "                                         Image-URL-M  \\\n",
              "0  http://images.amazon.com/images/P/0195153448.0...   \n",
              "1  http://images.amazon.com/images/P/0002005018.0...   \n",
              "2  http://images.amazon.com/images/P/0060973129.0...   \n",
              "3  http://images.amazon.com/images/P/0374157065.0...   \n",
              "4  http://images.amazon.com/images/P/0393045218.0...   \n",
              "\n",
              "                                         Image-URL-L  \n",
              "0  http://images.amazon.com/images/P/0195153448.0...  \n",
              "1  http://images.amazon.com/images/P/0002005018.0...  \n",
              "2  http://images.amazon.com/images/P/0060973129.0...  \n",
              "3  http://images.amazon.com/images/P/0374157065.0...  \n",
              "4  http://images.amazon.com/images/P/0393045218.0...  "
            ],
            "text/html": [
              "\n",
              "  <div id=\"df-6d48418d-8c06-4f47-8ace-c1d972d33599\" class=\"colab-df-container\">\n",
              "    <div>\n",
              "<style scoped>\n",
              "    .dataframe tbody tr th:only-of-type {\n",
              "        vertical-align: middle;\n",
              "    }\n",
              "\n",
              "    .dataframe tbody tr th {\n",
              "        vertical-align: top;\n",
              "    }\n",
              "\n",
              "    .dataframe thead th {\n",
              "        text-align: right;\n",
              "    }\n",
              "</style>\n",
              "<table border=\"1\" class=\"dataframe\">\n",
              "  <thead>\n",
              "    <tr style=\"text-align: right;\">\n",
              "      <th></th>\n",
              "      <th>ISBN</th>\n",
              "      <th>Book-Title</th>\n",
              "      <th>Book-Author</th>\n",
              "      <th>Year-Of-Publication</th>\n",
              "      <th>Publisher</th>\n",
              "      <th>Image-URL-S</th>\n",
              "      <th>Image-URL-M</th>\n",
              "      <th>Image-URL-L</th>\n",
              "    </tr>\n",
              "  </thead>\n",
              "  <tbody>\n",
              "    <tr>\n",
              "      <th>0</th>\n",
              "      <td>0195153448</td>\n",
              "      <td>Classical Mythology</td>\n",
              "      <td>Mark P. O. Morford</td>\n",
              "      <td>2002</td>\n",
              "      <td>Oxford University Press</td>\n",
              "      <td>http://images.amazon.com/images/P/0195153448.0...</td>\n",
              "      <td>http://images.amazon.com/images/P/0195153448.0...</td>\n",
              "      <td>http://images.amazon.com/images/P/0195153448.0...</td>\n",
              "    </tr>\n",
              "    <tr>\n",
              "      <th>1</th>\n",
              "      <td>0002005018</td>\n",
              "      <td>Clara Callan</td>\n",
              "      <td>Richard Bruce Wright</td>\n",
              "      <td>2001</td>\n",
              "      <td>HarperFlamingo Canada</td>\n",
              "      <td>http://images.amazon.com/images/P/0002005018.0...</td>\n",
              "      <td>http://images.amazon.com/images/P/0002005018.0...</td>\n",
              "      <td>http://images.amazon.com/images/P/0002005018.0...</td>\n",
              "    </tr>\n",
              "    <tr>\n",
              "      <th>2</th>\n",
              "      <td>0060973129</td>\n",
              "      <td>Decision in Normandy</td>\n",
              "      <td>Carlo D'Este</td>\n",
              "      <td>1991</td>\n",
              "      <td>HarperPerennial</td>\n",
              "      <td>http://images.amazon.com/images/P/0060973129.0...</td>\n",
              "      <td>http://images.amazon.com/images/P/0060973129.0...</td>\n",
              "      <td>http://images.amazon.com/images/P/0060973129.0...</td>\n",
              "    </tr>\n",
              "    <tr>\n",
              "      <th>3</th>\n",
              "      <td>0374157065</td>\n",
              "      <td>Flu: The Story of the Great Influenza Pandemic...</td>\n",
              "      <td>Gina Bari Kolata</td>\n",
              "      <td>1999</td>\n",
              "      <td>Farrar Straus Giroux</td>\n",
              "      <td>http://images.amazon.com/images/P/0374157065.0...</td>\n",
              "      <td>http://images.amazon.com/images/P/0374157065.0...</td>\n",
              "      <td>http://images.amazon.com/images/P/0374157065.0...</td>\n",
              "    </tr>\n",
              "    <tr>\n",
              "      <th>4</th>\n",
              "      <td>0393045218</td>\n",
              "      <td>The Mummies of Urumchi</td>\n",
              "      <td>E. J. W. Barber</td>\n",
              "      <td>1999</td>\n",
              "      <td>W. W. Norton &amp;amp; Company</td>\n",
              "      <td>http://images.amazon.com/images/P/0393045218.0...</td>\n",
              "      <td>http://images.amazon.com/images/P/0393045218.0...</td>\n",
              "      <td>http://images.amazon.com/images/P/0393045218.0...</td>\n",
              "    </tr>\n",
              "  </tbody>\n",
              "</table>\n",
              "</div>\n",
              "    <div class=\"colab-df-buttons\">\n",
              "\n",
              "  <div class=\"colab-df-container\">\n",
              "    <button class=\"colab-df-convert\" onclick=\"convertToInteractive('df-6d48418d-8c06-4f47-8ace-c1d972d33599')\"\n",
              "            title=\"Convert this dataframe to an interactive table.\"\n",
              "            style=\"display:none;\">\n",
              "\n",
              "  <svg xmlns=\"http://www.w3.org/2000/svg\" height=\"24px\" viewBox=\"0 -960 960 960\">\n",
              "    <path d=\"M120-120v-720h720v720H120Zm60-500h600v-160H180v160Zm220 220h160v-160H400v160Zm0 220h160v-160H400v160ZM180-400h160v-160H180v160Zm440 0h160v-160H620v160ZM180-180h160v-160H180v160Zm440 0h160v-160H620v160Z\"/>\n",
              "  </svg>\n",
              "    </button>\n",
              "\n",
              "  <style>\n",
              "    .colab-df-container {\n",
              "      display:flex;\n",
              "      gap: 12px;\n",
              "    }\n",
              "\n",
              "    .colab-df-convert {\n",
              "      background-color: #E8F0FE;\n",
              "      border: none;\n",
              "      border-radius: 50%;\n",
              "      cursor: pointer;\n",
              "      display: none;\n",
              "      fill: #1967D2;\n",
              "      height: 32px;\n",
              "      padding: 0 0 0 0;\n",
              "      width: 32px;\n",
              "    }\n",
              "\n",
              "    .colab-df-convert:hover {\n",
              "      background-color: #E2EBFA;\n",
              "      box-shadow: 0px 1px 2px rgba(60, 64, 67, 0.3), 0px 1px 3px 1px rgba(60, 64, 67, 0.15);\n",
              "      fill: #174EA6;\n",
              "    }\n",
              "\n",
              "    .colab-df-buttons div {\n",
              "      margin-bottom: 4px;\n",
              "    }\n",
              "\n",
              "    [theme=dark] .colab-df-convert {\n",
              "      background-color: #3B4455;\n",
              "      fill: #D2E3FC;\n",
              "    }\n",
              "\n",
              "    [theme=dark] .colab-df-convert:hover {\n",
              "      background-color: #434B5C;\n",
              "      box-shadow: 0px 1px 3px 1px rgba(0, 0, 0, 0.15);\n",
              "      filter: drop-shadow(0px 1px 2px rgba(0, 0, 0, 0.3));\n",
              "      fill: #FFFFFF;\n",
              "    }\n",
              "  </style>\n",
              "\n",
              "    <script>\n",
              "      const buttonEl =\n",
              "        document.querySelector('#df-6d48418d-8c06-4f47-8ace-c1d972d33599 button.colab-df-convert');\n",
              "      buttonEl.style.display =\n",
              "        google.colab.kernel.accessAllowed ? 'block' : 'none';\n",
              "\n",
              "      async function convertToInteractive(key) {\n",
              "        const element = document.querySelector('#df-6d48418d-8c06-4f47-8ace-c1d972d33599');\n",
              "        const dataTable =\n",
              "          await google.colab.kernel.invokeFunction('convertToInteractive',\n",
              "                                                    [key], {});\n",
              "        if (!dataTable) return;\n",
              "\n",
              "        const docLinkHtml = 'Like what you see? Visit the ' +\n",
              "          '<a target=\"_blank\" href=https://colab.research.google.com/notebooks/data_table.ipynb>data table notebook</a>'\n",
              "          + ' to learn more about interactive tables.';\n",
              "        element.innerHTML = '';\n",
              "        dataTable['output_type'] = 'display_data';\n",
              "        await google.colab.output.renderOutput(dataTable, element);\n",
              "        const docLink = document.createElement('div');\n",
              "        docLink.innerHTML = docLinkHtml;\n",
              "        element.appendChild(docLink);\n",
              "      }\n",
              "    </script>\n",
              "  </div>\n",
              "\n",
              "\n",
              "    <div id=\"df-6a0cc842-15f1-4906-9c4b-b5c16d222a07\">\n",
              "      <button class=\"colab-df-quickchart\" onclick=\"quickchart('df-6a0cc842-15f1-4906-9c4b-b5c16d222a07')\"\n",
              "                title=\"Suggest charts\"\n",
              "                style=\"display:none;\">\n",
              "\n",
              "<svg xmlns=\"http://www.w3.org/2000/svg\" height=\"24px\"viewBox=\"0 0 24 24\"\n",
              "     width=\"24px\">\n",
              "    <g>\n",
              "        <path d=\"M19 3H5c-1.1 0-2 .9-2 2v14c0 1.1.9 2 2 2h14c1.1 0 2-.9 2-2V5c0-1.1-.9-2-2-2zM9 17H7v-7h2v7zm4 0h-2V7h2v10zm4 0h-2v-4h2v4z\"/>\n",
              "    </g>\n",
              "</svg>\n",
              "      </button>\n",
              "\n",
              "<style>\n",
              "  .colab-df-quickchart {\n",
              "      --bg-color: #E8F0FE;\n",
              "      --fill-color: #1967D2;\n",
              "      --hover-bg-color: #E2EBFA;\n",
              "      --hover-fill-color: #174EA6;\n",
              "      --disabled-fill-color: #AAA;\n",
              "      --disabled-bg-color: #DDD;\n",
              "  }\n",
              "\n",
              "  [theme=dark] .colab-df-quickchart {\n",
              "      --bg-color: #3B4455;\n",
              "      --fill-color: #D2E3FC;\n",
              "      --hover-bg-color: #434B5C;\n",
              "      --hover-fill-color: #FFFFFF;\n",
              "      --disabled-bg-color: #3B4455;\n",
              "      --disabled-fill-color: #666;\n",
              "  }\n",
              "\n",
              "  .colab-df-quickchart {\n",
              "    background-color: var(--bg-color);\n",
              "    border: none;\n",
              "    border-radius: 50%;\n",
              "    cursor: pointer;\n",
              "    display: none;\n",
              "    fill: var(--fill-color);\n",
              "    height: 32px;\n",
              "    padding: 0;\n",
              "    width: 32px;\n",
              "  }\n",
              "\n",
              "  .colab-df-quickchart:hover {\n",
              "    background-color: var(--hover-bg-color);\n",
              "    box-shadow: 0 1px 2px rgba(60, 64, 67, 0.3), 0 1px 3px 1px rgba(60, 64, 67, 0.15);\n",
              "    fill: var(--button-hover-fill-color);\n",
              "  }\n",
              "\n",
              "  .colab-df-quickchart-complete:disabled,\n",
              "  .colab-df-quickchart-complete:disabled:hover {\n",
              "    background-color: var(--disabled-bg-color);\n",
              "    fill: var(--disabled-fill-color);\n",
              "    box-shadow: none;\n",
              "  }\n",
              "\n",
              "  .colab-df-spinner {\n",
              "    border: 2px solid var(--fill-color);\n",
              "    border-color: transparent;\n",
              "    border-bottom-color: var(--fill-color);\n",
              "    animation:\n",
              "      spin 1s steps(1) infinite;\n",
              "  }\n",
              "\n",
              "  @keyframes spin {\n",
              "    0% {\n",
              "      border-color: transparent;\n",
              "      border-bottom-color: var(--fill-color);\n",
              "      border-left-color: var(--fill-color);\n",
              "    }\n",
              "    20% {\n",
              "      border-color: transparent;\n",
              "      border-left-color: var(--fill-color);\n",
              "      border-top-color: var(--fill-color);\n",
              "    }\n",
              "    30% {\n",
              "      border-color: transparent;\n",
              "      border-left-color: var(--fill-color);\n",
              "      border-top-color: var(--fill-color);\n",
              "      border-right-color: var(--fill-color);\n",
              "    }\n",
              "    40% {\n",
              "      border-color: transparent;\n",
              "      border-right-color: var(--fill-color);\n",
              "      border-top-color: var(--fill-color);\n",
              "    }\n",
              "    60% {\n",
              "      border-color: transparent;\n",
              "      border-right-color: var(--fill-color);\n",
              "    }\n",
              "    80% {\n",
              "      border-color: transparent;\n",
              "      border-right-color: var(--fill-color);\n",
              "      border-bottom-color: var(--fill-color);\n",
              "    }\n",
              "    90% {\n",
              "      border-color: transparent;\n",
              "      border-bottom-color: var(--fill-color);\n",
              "    }\n",
              "  }\n",
              "</style>\n",
              "\n",
              "      <script>\n",
              "        async function quickchart(key) {\n",
              "          const quickchartButtonEl =\n",
              "            document.querySelector('#' + key + ' button');\n",
              "          quickchartButtonEl.disabled = true;  // To prevent multiple clicks.\n",
              "          quickchartButtonEl.classList.add('colab-df-spinner');\n",
              "          try {\n",
              "            const charts = await google.colab.kernel.invokeFunction(\n",
              "                'suggestCharts', [key], {});\n",
              "          } catch (error) {\n",
              "            console.error('Error during call to suggestCharts:', error);\n",
              "          }\n",
              "          quickchartButtonEl.classList.remove('colab-df-spinner');\n",
              "          quickchartButtonEl.classList.add('colab-df-quickchart-complete');\n",
              "        }\n",
              "        (() => {\n",
              "          let quickchartButtonEl =\n",
              "            document.querySelector('#df-6a0cc842-15f1-4906-9c4b-b5c16d222a07 button');\n",
              "          quickchartButtonEl.style.display =\n",
              "            google.colab.kernel.accessAllowed ? 'block' : 'none';\n",
              "        })();\n",
              "      </script>\n",
              "    </div>\n",
              "\n",
              "    </div>\n",
              "  </div>\n"
            ],
            "application/vnd.google.colaboratory.intrinsic+json": {
              "type": "dataframe",
              "variable_name": "books"
            }
          },
          "metadata": {},
          "execution_count": 8
        }
      ],
      "execution_count": null,
      "id": "3e541d331aabd400"
    },
    {
      "metadata": {
        "id": "a69807753216d5a5"
      },
      "cell_type": "markdown",
      "source": [
        "Pada tahap ini, saya menampilkan lima baris awal dari dataset Books menggunakan fungsi .head(). Tujuannya adalah untuk mendapatkan gambaran umum mengenai struktur dataset serta jenis informasi yang terkandung di dalamnya. Berdasarkan tampilan tersebut, saya bisa memahami bahwa dataset ini menyimpan detail penting seperti ISBN, judul buku, nama penulis, tahun terbit, penerbit, serta tautan gambar sampul buku dalam tiga ukuran berbeda. Informasi ini akan sangat membantu dalam proses eksplorasi dan analisis data selanjutnya."
      ],
      "id": "a69807753216d5a5"
    },
    {
      "cell_type": "markdown",
      "source": [
        "Struktur data buku"
      ],
      "metadata": {
        "id": "9dZzWDr_l9_u"
      },
      "id": "9dZzWDr_l9_u"
    },
    {
      "metadata": {
        "ExecuteTime": {
          "end_time": "2025-05-07T06:02:47.945825Z",
          "start_time": "2025-05-07T06:02:47.838874Z"
        },
        "id": "90b4fa6abaf78cd3",
        "outputId": "347f9a07-2d62-46ae-8e52-e3ce90ffe1a8",
        "colab": {
          "base_uri": "https://localhost:8080/"
        }
      },
      "cell_type": "code",
      "source": [
        "books.info()"
      ],
      "id": "90b4fa6abaf78cd3",
      "outputs": [
        {
          "output_type": "stream",
          "name": "stdout",
          "text": [
            "<class 'pandas.core.frame.DataFrame'>\n",
            "RangeIndex: 271360 entries, 0 to 271359\n",
            "Data columns (total 8 columns):\n",
            " #   Column               Non-Null Count   Dtype \n",
            "---  ------               --------------   ----- \n",
            " 0   ISBN                 271360 non-null  object\n",
            " 1   Book-Title           271360 non-null  object\n",
            " 2   Book-Author          271358 non-null  object\n",
            " 3   Year-Of-Publication  271360 non-null  object\n",
            " 4   Publisher            271358 non-null  object\n",
            " 5   Image-URL-S          271360 non-null  object\n",
            " 6   Image-URL-M          271360 non-null  object\n",
            " 7   Image-URL-L          271357 non-null  object\n",
            "dtypes: object(8)\n",
            "memory usage: 16.6+ MB\n"
          ]
        }
      ],
      "execution_count": null
    },
    {
      "metadata": {
        "id": "7c6d2d415a8fe4cc"
      },
      "cell_type": "markdown",
      "source": [
        "Pada tahap ini, saya mengecek struktur dari dataset Books dengan menggunakan fungsi .info(). Dataset ini berisi 271.360 baris dan terdiri dari 8 kolom, di mana semua kolom bertipe data object (string).\n",
        "\n",
        "Saya menemukan beberapa kolom yang memiliki nilai kosong, yaitu Book-Author, Publisher, dan Image-URL-L. Hal ini akan saya perhatikan lebih lanjut saat melakukan proses pembersihan data."
      ],
      "id": "7c6d2d415a8fe4cc"
    },
    {
      "cell_type": "markdown",
      "source": [
        "Missing Value"
      ],
      "metadata": {
        "id": "AiJrxF3ll4-B"
      },
      "id": "AiJrxF3ll4-B"
    },
    {
      "metadata": {
        "ExecuteTime": {
          "end_time": "2025-05-07T06:02:49.501599Z",
          "start_time": "2025-05-07T06:02:49.410098Z"
        },
        "id": "4d5e229af8276385",
        "outputId": "cc0ac066-3adb-4dfd-8e2c-79b444e2183c",
        "colab": {
          "base_uri": "https://localhost:8080/",
          "height": 335
        }
      },
      "cell_type": "code",
      "source": [
        "books.isnull().sum()"
      ],
      "outputs": [
        {
          "output_type": "execute_result",
          "data": {
            "text/plain": [
              "ISBN                   0\n",
              "Book-Title             0\n",
              "Book-Author            2\n",
              "Year-Of-Publication    0\n",
              "Publisher              2\n",
              "Image-URL-S            0\n",
              "Image-URL-M            0\n",
              "Image-URL-L            3\n",
              "dtype: int64"
            ],
            "text/html": [
              "<div>\n",
              "<style scoped>\n",
              "    .dataframe tbody tr th:only-of-type {\n",
              "        vertical-align: middle;\n",
              "    }\n",
              "\n",
              "    .dataframe tbody tr th {\n",
              "        vertical-align: top;\n",
              "    }\n",
              "\n",
              "    .dataframe thead th {\n",
              "        text-align: right;\n",
              "    }\n",
              "</style>\n",
              "<table border=\"1\" class=\"dataframe\">\n",
              "  <thead>\n",
              "    <tr style=\"text-align: right;\">\n",
              "      <th></th>\n",
              "      <th>0</th>\n",
              "    </tr>\n",
              "  </thead>\n",
              "  <tbody>\n",
              "    <tr>\n",
              "      <th>ISBN</th>\n",
              "      <td>0</td>\n",
              "    </tr>\n",
              "    <tr>\n",
              "      <th>Book-Title</th>\n",
              "      <td>0</td>\n",
              "    </tr>\n",
              "    <tr>\n",
              "      <th>Book-Author</th>\n",
              "      <td>2</td>\n",
              "    </tr>\n",
              "    <tr>\n",
              "      <th>Year-Of-Publication</th>\n",
              "      <td>0</td>\n",
              "    </tr>\n",
              "    <tr>\n",
              "      <th>Publisher</th>\n",
              "      <td>2</td>\n",
              "    </tr>\n",
              "    <tr>\n",
              "      <th>Image-URL-S</th>\n",
              "      <td>0</td>\n",
              "    </tr>\n",
              "    <tr>\n",
              "      <th>Image-URL-M</th>\n",
              "      <td>0</td>\n",
              "    </tr>\n",
              "    <tr>\n",
              "      <th>Image-URL-L</th>\n",
              "      <td>3</td>\n",
              "    </tr>\n",
              "  </tbody>\n",
              "</table>\n",
              "</div><br><label><b>dtype:</b> int64</label>"
            ]
          },
          "metadata": {},
          "execution_count": 10
        }
      ],
      "execution_count": null,
      "id": "4d5e229af8276385"
    },
    {
      "metadata": {
        "id": "4c1f11fc1a26b264"
      },
      "cell_type": "markdown",
      "source": [
        "Saya melakukan pengecekan terhadap nilai kosong (*missing value*) pada setiap kolom dalam dataset Books menggunakan fungsi .isnull().sum(). Tujuan dari langkah ini adalah untuk mengetahui bagian mana saja dari data yang tidak lengkap dan mungkin memerlukan penanganan khusus pada tahap preprocessing.\n",
        "\n",
        "Dari hasil pemeriksaan, diketahui bahwa sebagian besar kolom memiliki data yang lengkap. Namun, terdapat beberapa kolom yang mengandung data yang belum terisi, yaitu:\n",
        "\n",
        "* **Book-Author** memiliki **2 entri** tanpa nama penulis.\n",
        "* **Publisher** ditemukan **2 baris** tanpa informasi penerbit.\n",
        "* **Image-URL-L** memiliki **3 entri** tanpa tautan gambar sampul berukuran besar.\n",
        "\n",
        "Sementara itu, kolom lainnya seperti ISBN, Book-Title, Year-Of-Publication, Image-URL-S, dan Image-URL-M tidak ditemukan adanya nilai yang hilang.\n",
        "\n",
        "Berdasarkan hasil ini, diperlukan langkah lanjutan untuk menangani data yang kosong, terutama pada ketiga kolom tersebut agar kualitas data tetap terjaga sebelum masuk ke proses analisis selanjutnya."
      ],
      "id": "4c1f11fc1a26b264"
    },
    {
      "cell_type": "markdown",
      "source": [
        "ringkasan statistik"
      ],
      "metadata": {
        "id": "MqP0SGhxntXj"
      },
      "id": "MqP0SGhxntXj"
    },
    {
      "metadata": {
        "ExecuteTime": {
          "end_time": "2025-05-07T06:02:49.297106Z",
          "start_time": "2025-05-07T06:02:48.132460Z"
        },
        "id": "9923b06d968c2d4a",
        "colab": {
          "base_uri": "https://localhost:8080/",
          "height": 175
        },
        "outputId": "f43de421-543d-4649-b6bb-89e45725f1f5"
      },
      "cell_type": "code",
      "source": [
        "books.describe(include='all')"
      ],
      "id": "9923b06d968c2d4a",
      "outputs": [
        {
          "output_type": "execute_result",
          "data": {
            "text/plain": [
              "              ISBN      Book-Title      Book-Author  Year-Of-Publication  \\\n",
              "count       271360          271360           271358               271360   \n",
              "unique      271360          242135           102022                  202   \n",
              "top     020130998X  Selected Poems  Agatha Christie                 2002   \n",
              "freq             1              27              632                13903   \n",
              "\n",
              "        Publisher                                        Image-URL-S  \\\n",
              "count      271358                                             271360   \n",
              "unique      16807                                             271044   \n",
              "top     Harlequin  http://images.amazon.com/images/P/042509474X.0...   \n",
              "freq         7535                                                  2   \n",
              "\n",
              "                                              Image-URL-M  \\\n",
              "count                                              271360   \n",
              "unique                                             271044   \n",
              "top     http://images.amazon.com/images/P/042509474X.0...   \n",
              "freq                                                    2   \n",
              "\n",
              "                                              Image-URL-L  \n",
              "count                                              271357  \n",
              "unique                                             271041  \n",
              "top     http://images.amazon.com/images/P/006091985X.0...  \n",
              "freq                                                    2  "
            ],
            "text/html": [
              "\n",
              "  <div id=\"df-da047171-ee34-42a1-b8e0-9950fed6b8c0\" class=\"colab-df-container\">\n",
              "    <div>\n",
              "<style scoped>\n",
              "    .dataframe tbody tr th:only-of-type {\n",
              "        vertical-align: middle;\n",
              "    }\n",
              "\n",
              "    .dataframe tbody tr th {\n",
              "        vertical-align: top;\n",
              "    }\n",
              "\n",
              "    .dataframe thead th {\n",
              "        text-align: right;\n",
              "    }\n",
              "</style>\n",
              "<table border=\"1\" class=\"dataframe\">\n",
              "  <thead>\n",
              "    <tr style=\"text-align: right;\">\n",
              "      <th></th>\n",
              "      <th>ISBN</th>\n",
              "      <th>Book-Title</th>\n",
              "      <th>Book-Author</th>\n",
              "      <th>Year-Of-Publication</th>\n",
              "      <th>Publisher</th>\n",
              "      <th>Image-URL-S</th>\n",
              "      <th>Image-URL-M</th>\n",
              "      <th>Image-URL-L</th>\n",
              "    </tr>\n",
              "  </thead>\n",
              "  <tbody>\n",
              "    <tr>\n",
              "      <th>count</th>\n",
              "      <td>271360</td>\n",
              "      <td>271360</td>\n",
              "      <td>271358</td>\n",
              "      <td>271360</td>\n",
              "      <td>271358</td>\n",
              "      <td>271360</td>\n",
              "      <td>271360</td>\n",
              "      <td>271357</td>\n",
              "    </tr>\n",
              "    <tr>\n",
              "      <th>unique</th>\n",
              "      <td>271360</td>\n",
              "      <td>242135</td>\n",
              "      <td>102022</td>\n",
              "      <td>202</td>\n",
              "      <td>16807</td>\n",
              "      <td>271044</td>\n",
              "      <td>271044</td>\n",
              "      <td>271041</td>\n",
              "    </tr>\n",
              "    <tr>\n",
              "      <th>top</th>\n",
              "      <td>020130998X</td>\n",
              "      <td>Selected Poems</td>\n",
              "      <td>Agatha Christie</td>\n",
              "      <td>2002</td>\n",
              "      <td>Harlequin</td>\n",
              "      <td>http://images.amazon.com/images/P/042509474X.0...</td>\n",
              "      <td>http://images.amazon.com/images/P/042509474X.0...</td>\n",
              "      <td>http://images.amazon.com/images/P/006091985X.0...</td>\n",
              "    </tr>\n",
              "    <tr>\n",
              "      <th>freq</th>\n",
              "      <td>1</td>\n",
              "      <td>27</td>\n",
              "      <td>632</td>\n",
              "      <td>13903</td>\n",
              "      <td>7535</td>\n",
              "      <td>2</td>\n",
              "      <td>2</td>\n",
              "      <td>2</td>\n",
              "    </tr>\n",
              "  </tbody>\n",
              "</table>\n",
              "</div>\n",
              "    <div class=\"colab-df-buttons\">\n",
              "\n",
              "  <div class=\"colab-df-container\">\n",
              "    <button class=\"colab-df-convert\" onclick=\"convertToInteractive('df-da047171-ee34-42a1-b8e0-9950fed6b8c0')\"\n",
              "            title=\"Convert this dataframe to an interactive table.\"\n",
              "            style=\"display:none;\">\n",
              "\n",
              "  <svg xmlns=\"http://www.w3.org/2000/svg\" height=\"24px\" viewBox=\"0 -960 960 960\">\n",
              "    <path d=\"M120-120v-720h720v720H120Zm60-500h600v-160H180v160Zm220 220h160v-160H400v160Zm0 220h160v-160H400v160ZM180-400h160v-160H180v160Zm440 0h160v-160H620v160ZM180-180h160v-160H180v160Zm440 0h160v-160H620v160Z\"/>\n",
              "  </svg>\n",
              "    </button>\n",
              "\n",
              "  <style>\n",
              "    .colab-df-container {\n",
              "      display:flex;\n",
              "      gap: 12px;\n",
              "    }\n",
              "\n",
              "    .colab-df-convert {\n",
              "      background-color: #E8F0FE;\n",
              "      border: none;\n",
              "      border-radius: 50%;\n",
              "      cursor: pointer;\n",
              "      display: none;\n",
              "      fill: #1967D2;\n",
              "      height: 32px;\n",
              "      padding: 0 0 0 0;\n",
              "      width: 32px;\n",
              "    }\n",
              "\n",
              "    .colab-df-convert:hover {\n",
              "      background-color: #E2EBFA;\n",
              "      box-shadow: 0px 1px 2px rgba(60, 64, 67, 0.3), 0px 1px 3px 1px rgba(60, 64, 67, 0.15);\n",
              "      fill: #174EA6;\n",
              "    }\n",
              "\n",
              "    .colab-df-buttons div {\n",
              "      margin-bottom: 4px;\n",
              "    }\n",
              "\n",
              "    [theme=dark] .colab-df-convert {\n",
              "      background-color: #3B4455;\n",
              "      fill: #D2E3FC;\n",
              "    }\n",
              "\n",
              "    [theme=dark] .colab-df-convert:hover {\n",
              "      background-color: #434B5C;\n",
              "      box-shadow: 0px 1px 3px 1px rgba(0, 0, 0, 0.15);\n",
              "      filter: drop-shadow(0px 1px 2px rgba(0, 0, 0, 0.3));\n",
              "      fill: #FFFFFF;\n",
              "    }\n",
              "  </style>\n",
              "\n",
              "    <script>\n",
              "      const buttonEl =\n",
              "        document.querySelector('#df-da047171-ee34-42a1-b8e0-9950fed6b8c0 button.colab-df-convert');\n",
              "      buttonEl.style.display =\n",
              "        google.colab.kernel.accessAllowed ? 'block' : 'none';\n",
              "\n",
              "      async function convertToInteractive(key) {\n",
              "        const element = document.querySelector('#df-da047171-ee34-42a1-b8e0-9950fed6b8c0');\n",
              "        const dataTable =\n",
              "          await google.colab.kernel.invokeFunction('convertToInteractive',\n",
              "                                                    [key], {});\n",
              "        if (!dataTable) return;\n",
              "\n",
              "        const docLinkHtml = 'Like what you see? Visit the ' +\n",
              "          '<a target=\"_blank\" href=https://colab.research.google.com/notebooks/data_table.ipynb>data table notebook</a>'\n",
              "          + ' to learn more about interactive tables.';\n",
              "        element.innerHTML = '';\n",
              "        dataTable['output_type'] = 'display_data';\n",
              "        await google.colab.output.renderOutput(dataTable, element);\n",
              "        const docLink = document.createElement('div');\n",
              "        docLink.innerHTML = docLinkHtml;\n",
              "        element.appendChild(docLink);\n",
              "      }\n",
              "    </script>\n",
              "  </div>\n",
              "\n",
              "\n",
              "    <div id=\"df-a4b1ab1d-11a2-4b8f-a744-03e9a5f75232\">\n",
              "      <button class=\"colab-df-quickchart\" onclick=\"quickchart('df-a4b1ab1d-11a2-4b8f-a744-03e9a5f75232')\"\n",
              "                title=\"Suggest charts\"\n",
              "                style=\"display:none;\">\n",
              "\n",
              "<svg xmlns=\"http://www.w3.org/2000/svg\" height=\"24px\"viewBox=\"0 0 24 24\"\n",
              "     width=\"24px\">\n",
              "    <g>\n",
              "        <path d=\"M19 3H5c-1.1 0-2 .9-2 2v14c0 1.1.9 2 2 2h14c1.1 0 2-.9 2-2V5c0-1.1-.9-2-2-2zM9 17H7v-7h2v7zm4 0h-2V7h2v10zm4 0h-2v-4h2v4z\"/>\n",
              "    </g>\n",
              "</svg>\n",
              "      </button>\n",
              "\n",
              "<style>\n",
              "  .colab-df-quickchart {\n",
              "      --bg-color: #E8F0FE;\n",
              "      --fill-color: #1967D2;\n",
              "      --hover-bg-color: #E2EBFA;\n",
              "      --hover-fill-color: #174EA6;\n",
              "      --disabled-fill-color: #AAA;\n",
              "      --disabled-bg-color: #DDD;\n",
              "  }\n",
              "\n",
              "  [theme=dark] .colab-df-quickchart {\n",
              "      --bg-color: #3B4455;\n",
              "      --fill-color: #D2E3FC;\n",
              "      --hover-bg-color: #434B5C;\n",
              "      --hover-fill-color: #FFFFFF;\n",
              "      --disabled-bg-color: #3B4455;\n",
              "      --disabled-fill-color: #666;\n",
              "  }\n",
              "\n",
              "  .colab-df-quickchart {\n",
              "    background-color: var(--bg-color);\n",
              "    border: none;\n",
              "    border-radius: 50%;\n",
              "    cursor: pointer;\n",
              "    display: none;\n",
              "    fill: var(--fill-color);\n",
              "    height: 32px;\n",
              "    padding: 0;\n",
              "    width: 32px;\n",
              "  }\n",
              "\n",
              "  .colab-df-quickchart:hover {\n",
              "    background-color: var(--hover-bg-color);\n",
              "    box-shadow: 0 1px 2px rgba(60, 64, 67, 0.3), 0 1px 3px 1px rgba(60, 64, 67, 0.15);\n",
              "    fill: var(--button-hover-fill-color);\n",
              "  }\n",
              "\n",
              "  .colab-df-quickchart-complete:disabled,\n",
              "  .colab-df-quickchart-complete:disabled:hover {\n",
              "    background-color: var(--disabled-bg-color);\n",
              "    fill: var(--disabled-fill-color);\n",
              "    box-shadow: none;\n",
              "  }\n",
              "\n",
              "  .colab-df-spinner {\n",
              "    border: 2px solid var(--fill-color);\n",
              "    border-color: transparent;\n",
              "    border-bottom-color: var(--fill-color);\n",
              "    animation:\n",
              "      spin 1s steps(1) infinite;\n",
              "  }\n",
              "\n",
              "  @keyframes spin {\n",
              "    0% {\n",
              "      border-color: transparent;\n",
              "      border-bottom-color: var(--fill-color);\n",
              "      border-left-color: var(--fill-color);\n",
              "    }\n",
              "    20% {\n",
              "      border-color: transparent;\n",
              "      border-left-color: var(--fill-color);\n",
              "      border-top-color: var(--fill-color);\n",
              "    }\n",
              "    30% {\n",
              "      border-color: transparent;\n",
              "      border-left-color: var(--fill-color);\n",
              "      border-top-color: var(--fill-color);\n",
              "      border-right-color: var(--fill-color);\n",
              "    }\n",
              "    40% {\n",
              "      border-color: transparent;\n",
              "      border-right-color: var(--fill-color);\n",
              "      border-top-color: var(--fill-color);\n",
              "    }\n",
              "    60% {\n",
              "      border-color: transparent;\n",
              "      border-right-color: var(--fill-color);\n",
              "    }\n",
              "    80% {\n",
              "      border-color: transparent;\n",
              "      border-right-color: var(--fill-color);\n",
              "      border-bottom-color: var(--fill-color);\n",
              "    }\n",
              "    90% {\n",
              "      border-color: transparent;\n",
              "      border-bottom-color: var(--fill-color);\n",
              "    }\n",
              "  }\n",
              "</style>\n",
              "\n",
              "      <script>\n",
              "        async function quickchart(key) {\n",
              "          const quickchartButtonEl =\n",
              "            document.querySelector('#' + key + ' button');\n",
              "          quickchartButtonEl.disabled = true;  // To prevent multiple clicks.\n",
              "          quickchartButtonEl.classList.add('colab-df-spinner');\n",
              "          try {\n",
              "            const charts = await google.colab.kernel.invokeFunction(\n",
              "                'suggestCharts', [key], {});\n",
              "          } catch (error) {\n",
              "            console.error('Error during call to suggestCharts:', error);\n",
              "          }\n",
              "          quickchartButtonEl.classList.remove('colab-df-spinner');\n",
              "          quickchartButtonEl.classList.add('colab-df-quickchart-complete');\n",
              "        }\n",
              "        (() => {\n",
              "          let quickchartButtonEl =\n",
              "            document.querySelector('#df-a4b1ab1d-11a2-4b8f-a744-03e9a5f75232 button');\n",
              "          quickchartButtonEl.style.display =\n",
              "            google.colab.kernel.accessAllowed ? 'block' : 'none';\n",
              "        })();\n",
              "      </script>\n",
              "    </div>\n",
              "\n",
              "    </div>\n",
              "  </div>\n"
            ],
            "application/vnd.google.colaboratory.intrinsic+json": {
              "type": "dataframe",
              "summary": "{\n  \"name\": \"books\",\n  \"rows\": 4,\n  \"fields\": [\n    {\n      \"column\": \"ISBN\",\n      \"properties\": {\n        \"dtype\": \"string\",\n        \"num_unique_values\": 3,\n        \"samples\": [\n          \"271360\",\n          \"020130998X\",\n          \"1\"\n        ],\n        \"semantic_type\": \"\",\n        \"description\": \"\"\n      }\n    },\n    {\n      \"column\": \"Book-Title\",\n      \"properties\": {\n        \"dtype\": \"string\",\n        \"num_unique_values\": 4,\n        \"samples\": [\n          242135,\n          \"27\",\n          \"271360\"\n        ],\n        \"semantic_type\": \"\",\n        \"description\": \"\"\n      }\n    },\n    {\n      \"column\": \"Book-Author\",\n      \"properties\": {\n        \"dtype\": \"string\",\n        \"num_unique_values\": 4,\n        \"samples\": [\n          102022,\n          \"632\",\n          \"271358\"\n        ],\n        \"semantic_type\": \"\",\n        \"description\": \"\"\n      }\n    },\n    {\n      \"column\": \"Year-Of-Publication\",\n      \"properties\": {\n        \"dtype\": \"number\",\n        \"std\": 133134,\n        \"min\": 202,\n        \"max\": 271360,\n        \"num_unique_values\": 4,\n        \"samples\": [\n          202,\n          13903,\n          271360\n        ],\n        \"semantic_type\": \"\",\n        \"description\": \"\"\n      }\n    },\n    {\n      \"column\": \"Publisher\",\n      \"properties\": {\n        \"dtype\": \"string\",\n        \"num_unique_values\": 4,\n        \"samples\": [\n          16807,\n          \"7535\",\n          \"271358\"\n        ],\n        \"semantic_type\": \"\",\n        \"description\": \"\"\n      }\n    },\n    {\n      \"column\": \"Image-URL-S\",\n      \"properties\": {\n        \"dtype\": \"string\",\n        \"num_unique_values\": 4,\n        \"samples\": [\n          271044,\n          \"2\",\n          \"271360\"\n        ],\n        \"semantic_type\": \"\",\n        \"description\": \"\"\n      }\n    },\n    {\n      \"column\": \"Image-URL-M\",\n      \"properties\": {\n        \"dtype\": \"string\",\n        \"num_unique_values\": 4,\n        \"samples\": [\n          271044,\n          \"2\",\n          \"271360\"\n        ],\n        \"semantic_type\": \"\",\n        \"description\": \"\"\n      }\n    },\n    {\n      \"column\": \"Image-URL-L\",\n      \"properties\": {\n        \"dtype\": \"string\",\n        \"num_unique_values\": 4,\n        \"samples\": [\n          271041,\n          \"2\",\n          \"271357\"\n        ],\n        \"semantic_type\": \"\",\n        \"description\": \"\"\n      }\n    }\n  ]\n}"
            }
          },
          "metadata": {},
          "execution_count": 11
        }
      ],
      "execution_count": null
    },
    {
      "metadata": {
        "id": "cbb2f17a4c8e1937"
      },
      "cell_type": "markdown",
      "source": [
        "Pada tahap ini, saya menggunakan fungsi .describe(include='all') untuk melihat ringkasan statistik dari dataset Books. Ringkasan ini memberikan gambaran umum mengenai struktur dan sebaran data, termasuk jumlah nilai unik, entri yang paling sering muncul, serta frekuensi kemunculannya.\n",
        "\n",
        "Dari hasil ini, saya mendapatkan beberapa informasi penting seperti banyaknya ISBN yang unik, variasi judul dan nama penulis, serta tren pada tahun terbit dan penerbit. Selain itu, saya juga menemukan adanya duplikasi tertentu dalam judul buku dan gambar sampul. Temuan ini sangat berguna untuk memahami kondisi awal data sebelum masuk ke tahap pembersihan dan analisis lebih lanjut."
      ],
      "id": "cbb2f17a4c8e1937"
    },
    {
      "metadata": {
        "ExecuteTime": {
          "end_time": "2025-05-07T06:02:50.019141Z",
          "start_time": "2025-05-07T06:02:49.677025Z"
        },
        "id": "b7589bad2ad6a942",
        "outputId": "c3e9c856-425d-412b-9f8c-1ddabaafdfd7",
        "colab": {
          "base_uri": "https://localhost:8080/"
        }
      },
      "cell_type": "code",
      "source": [
        "print('Jumlah ISBN unik:', ratings['ISBN'].nunique())"
      ],
      "id": "b7589bad2ad6a942",
      "outputs": [
        {
          "output_type": "stream",
          "name": "stdout",
          "text": [
            "Jumlah ISBN unik: 340556\n"
          ]
        }
      ],
      "execution_count": null
    },
    {
      "metadata": {
        "id": "a07c9191db817970"
      },
      "cell_type": "markdown",
      "source": [
        "Pada tahap ini, saya menghitung jumlah buku yang unik berdasarkan kolom ISBN dalam dataset Ratings dengan menggunakan fungsi .nunique(). Fungsi ini digunakan untuk mengetahui seberapa banyak ISBN yang berbeda atau tidak duplikat yang muncul dalam data rating pengguna.\n",
        "\n",
        "Hasil perhitungan menunjukkan bahwa terdapat 340.556 ISBN unik, yang berarti ada lebih dari tiga ratus ribu buku berbeda yang pernah diberi rating oleh pengguna. Angka ini mencerminkan tingginya variasi atau keberagaman koleksi buku yang tersedia dalam sistem dan menunjukkan cakupan data yang cukup luas untuk dianalisis lebih lanjut."
      ],
      "id": "a07c9191db817970"
    },
    {
      "cell_type": "markdown",
      "source": [
        "Cek Duplikat di Dataset Books"
      ],
      "metadata": {
        "id": "cAjmKJVdo5Nl"
      },
      "id": "cAjmKJVdo5Nl"
    },
    {
      "metadata": {
        "ExecuteTime": {
          "end_time": "2025-05-07T06:02:50.633719Z",
          "start_time": "2025-05-07T06:02:50.115110Z"
        },
        "id": "e805ab4c84c2055b",
        "outputId": "44270460-2a7a-4752-e3f0-af648e20be79",
        "colab": {
          "base_uri": "https://localhost:8080/"
        }
      },
      "cell_type": "code",
      "source": [
        "print('Jumlah duplikat di Books:', books.duplicated().sum())"
      ],
      "id": "e805ab4c84c2055b",
      "outputs": [
        {
          "output_type": "stream",
          "name": "stdout",
          "text": [
            "Jumlah duplikat di Books: 0\n"
          ]
        }
      ],
      "execution_count": null
    },
    {
      "metadata": {
        "id": "99b83ee8c72ae265"
      },
      "cell_type": "markdown",
      "source": [
        "Pada langkah ini, saya melakukan pengecekan terhadap kemungkinan adanya data duplikat dalam dataset Books. Pemeriksaan ini penting dilakukan karena data yang terduplikasi dapat memengaruhi hasil analisis dan menyebabkan bias pada interpretasi data.\n",
        "\n",
        "Berdasarkan hasil pengecekan, tidak ditemukan adanya baris duplikat dalam dataset. Dengan kata lain, seluruh entri buku dalam data bersifat unik, dan jumlah duplikat = 0. Hal ini menunjukkan bahwa kualitas data dari segi keunikan entri sudah cukup baik untuk lanjut ke tahap analisis berikutnya."
      ],
      "id": "99b83ee8c72ae265"
    },
    {
      "metadata": {
        "id": "1fc7b85686952f19"
      },
      "cell_type": "markdown",
      "source": [
        "### Data Rating"
      ],
      "id": "1fc7b85686952f19"
    },
    {
      "cell_type": "markdown",
      "source": [
        "Contoh Data"
      ],
      "metadata": {
        "id": "pqzWxcHotMa1"
      },
      "id": "pqzWxcHotMa1"
    },
    {
      "metadata": {
        "ExecuteTime": {
          "end_time": "2025-05-07T06:02:50.791585Z",
          "start_time": "2025-05-07T06:02:50.779034Z"
        },
        "id": "7d2b79f8239ed356",
        "outputId": "aedeee8d-8607-4533-bdbe-1078812ffaf3",
        "colab": {
          "base_uri": "https://localhost:8080/",
          "height": 206
        }
      },
      "cell_type": "code",
      "source": [
        "ratings.head()"
      ],
      "outputs": [
        {
          "output_type": "execute_result",
          "data": {
            "text/plain": [
              "   User-ID        ISBN  Book-Rating\n",
              "0   276725  034545104X            0\n",
              "1   276726  0155061224            5\n",
              "2   276727  0446520802            0\n",
              "3   276729  052165615X            3\n",
              "4   276729  0521795028            6"
            ],
            "text/html": [
              "\n",
              "  <div id=\"df-47629755-52f1-4d32-8427-4909154a696d\" class=\"colab-df-container\">\n",
              "    <div>\n",
              "<style scoped>\n",
              "    .dataframe tbody tr th:only-of-type {\n",
              "        vertical-align: middle;\n",
              "    }\n",
              "\n",
              "    .dataframe tbody tr th {\n",
              "        vertical-align: top;\n",
              "    }\n",
              "\n",
              "    .dataframe thead th {\n",
              "        text-align: right;\n",
              "    }\n",
              "</style>\n",
              "<table border=\"1\" class=\"dataframe\">\n",
              "  <thead>\n",
              "    <tr style=\"text-align: right;\">\n",
              "      <th></th>\n",
              "      <th>User-ID</th>\n",
              "      <th>ISBN</th>\n",
              "      <th>Book-Rating</th>\n",
              "    </tr>\n",
              "  </thead>\n",
              "  <tbody>\n",
              "    <tr>\n",
              "      <th>0</th>\n",
              "      <td>276725</td>\n",
              "      <td>034545104X</td>\n",
              "      <td>0</td>\n",
              "    </tr>\n",
              "    <tr>\n",
              "      <th>1</th>\n",
              "      <td>276726</td>\n",
              "      <td>0155061224</td>\n",
              "      <td>5</td>\n",
              "    </tr>\n",
              "    <tr>\n",
              "      <th>2</th>\n",
              "      <td>276727</td>\n",
              "      <td>0446520802</td>\n",
              "      <td>0</td>\n",
              "    </tr>\n",
              "    <tr>\n",
              "      <th>3</th>\n",
              "      <td>276729</td>\n",
              "      <td>052165615X</td>\n",
              "      <td>3</td>\n",
              "    </tr>\n",
              "    <tr>\n",
              "      <th>4</th>\n",
              "      <td>276729</td>\n",
              "      <td>0521795028</td>\n",
              "      <td>6</td>\n",
              "    </tr>\n",
              "  </tbody>\n",
              "</table>\n",
              "</div>\n",
              "    <div class=\"colab-df-buttons\">\n",
              "\n",
              "  <div class=\"colab-df-container\">\n",
              "    <button class=\"colab-df-convert\" onclick=\"convertToInteractive('df-47629755-52f1-4d32-8427-4909154a696d')\"\n",
              "            title=\"Convert this dataframe to an interactive table.\"\n",
              "            style=\"display:none;\">\n",
              "\n",
              "  <svg xmlns=\"http://www.w3.org/2000/svg\" height=\"24px\" viewBox=\"0 -960 960 960\">\n",
              "    <path d=\"M120-120v-720h720v720H120Zm60-500h600v-160H180v160Zm220 220h160v-160H400v160Zm0 220h160v-160H400v160ZM180-400h160v-160H180v160Zm440 0h160v-160H620v160ZM180-180h160v-160H180v160Zm440 0h160v-160H620v160Z\"/>\n",
              "  </svg>\n",
              "    </button>\n",
              "\n",
              "  <style>\n",
              "    .colab-df-container {\n",
              "      display:flex;\n",
              "      gap: 12px;\n",
              "    }\n",
              "\n",
              "    .colab-df-convert {\n",
              "      background-color: #E8F0FE;\n",
              "      border: none;\n",
              "      border-radius: 50%;\n",
              "      cursor: pointer;\n",
              "      display: none;\n",
              "      fill: #1967D2;\n",
              "      height: 32px;\n",
              "      padding: 0 0 0 0;\n",
              "      width: 32px;\n",
              "    }\n",
              "\n",
              "    .colab-df-convert:hover {\n",
              "      background-color: #E2EBFA;\n",
              "      box-shadow: 0px 1px 2px rgba(60, 64, 67, 0.3), 0px 1px 3px 1px rgba(60, 64, 67, 0.15);\n",
              "      fill: #174EA6;\n",
              "    }\n",
              "\n",
              "    .colab-df-buttons div {\n",
              "      margin-bottom: 4px;\n",
              "    }\n",
              "\n",
              "    [theme=dark] .colab-df-convert {\n",
              "      background-color: #3B4455;\n",
              "      fill: #D2E3FC;\n",
              "    }\n",
              "\n",
              "    [theme=dark] .colab-df-convert:hover {\n",
              "      background-color: #434B5C;\n",
              "      box-shadow: 0px 1px 3px 1px rgba(0, 0, 0, 0.15);\n",
              "      filter: drop-shadow(0px 1px 2px rgba(0, 0, 0, 0.3));\n",
              "      fill: #FFFFFF;\n",
              "    }\n",
              "  </style>\n",
              "\n",
              "    <script>\n",
              "      const buttonEl =\n",
              "        document.querySelector('#df-47629755-52f1-4d32-8427-4909154a696d button.colab-df-convert');\n",
              "      buttonEl.style.display =\n",
              "        google.colab.kernel.accessAllowed ? 'block' : 'none';\n",
              "\n",
              "      async function convertToInteractive(key) {\n",
              "        const element = document.querySelector('#df-47629755-52f1-4d32-8427-4909154a696d');\n",
              "        const dataTable =\n",
              "          await google.colab.kernel.invokeFunction('convertToInteractive',\n",
              "                                                    [key], {});\n",
              "        if (!dataTable) return;\n",
              "\n",
              "        const docLinkHtml = 'Like what you see? Visit the ' +\n",
              "          '<a target=\"_blank\" href=https://colab.research.google.com/notebooks/data_table.ipynb>data table notebook</a>'\n",
              "          + ' to learn more about interactive tables.';\n",
              "        element.innerHTML = '';\n",
              "        dataTable['output_type'] = 'display_data';\n",
              "        await google.colab.output.renderOutput(dataTable, element);\n",
              "        const docLink = document.createElement('div');\n",
              "        docLink.innerHTML = docLinkHtml;\n",
              "        element.appendChild(docLink);\n",
              "      }\n",
              "    </script>\n",
              "  </div>\n",
              "\n",
              "\n",
              "    <div id=\"df-8037db78-6a09-45fa-a2b5-0e2fdba6d013\">\n",
              "      <button class=\"colab-df-quickchart\" onclick=\"quickchart('df-8037db78-6a09-45fa-a2b5-0e2fdba6d013')\"\n",
              "                title=\"Suggest charts\"\n",
              "                style=\"display:none;\">\n",
              "\n",
              "<svg xmlns=\"http://www.w3.org/2000/svg\" height=\"24px\"viewBox=\"0 0 24 24\"\n",
              "     width=\"24px\">\n",
              "    <g>\n",
              "        <path d=\"M19 3H5c-1.1 0-2 .9-2 2v14c0 1.1.9 2 2 2h14c1.1 0 2-.9 2-2V5c0-1.1-.9-2-2-2zM9 17H7v-7h2v7zm4 0h-2V7h2v10zm4 0h-2v-4h2v4z\"/>\n",
              "    </g>\n",
              "</svg>\n",
              "      </button>\n",
              "\n",
              "<style>\n",
              "  .colab-df-quickchart {\n",
              "      --bg-color: #E8F0FE;\n",
              "      --fill-color: #1967D2;\n",
              "      --hover-bg-color: #E2EBFA;\n",
              "      --hover-fill-color: #174EA6;\n",
              "      --disabled-fill-color: #AAA;\n",
              "      --disabled-bg-color: #DDD;\n",
              "  }\n",
              "\n",
              "  [theme=dark] .colab-df-quickchart {\n",
              "      --bg-color: #3B4455;\n",
              "      --fill-color: #D2E3FC;\n",
              "      --hover-bg-color: #434B5C;\n",
              "      --hover-fill-color: #FFFFFF;\n",
              "      --disabled-bg-color: #3B4455;\n",
              "      --disabled-fill-color: #666;\n",
              "  }\n",
              "\n",
              "  .colab-df-quickchart {\n",
              "    background-color: var(--bg-color);\n",
              "    border: none;\n",
              "    border-radius: 50%;\n",
              "    cursor: pointer;\n",
              "    display: none;\n",
              "    fill: var(--fill-color);\n",
              "    height: 32px;\n",
              "    padding: 0;\n",
              "    width: 32px;\n",
              "  }\n",
              "\n",
              "  .colab-df-quickchart:hover {\n",
              "    background-color: var(--hover-bg-color);\n",
              "    box-shadow: 0 1px 2px rgba(60, 64, 67, 0.3), 0 1px 3px 1px rgba(60, 64, 67, 0.15);\n",
              "    fill: var(--button-hover-fill-color);\n",
              "  }\n",
              "\n",
              "  .colab-df-quickchart-complete:disabled,\n",
              "  .colab-df-quickchart-complete:disabled:hover {\n",
              "    background-color: var(--disabled-bg-color);\n",
              "    fill: var(--disabled-fill-color);\n",
              "    box-shadow: none;\n",
              "  }\n",
              "\n",
              "  .colab-df-spinner {\n",
              "    border: 2px solid var(--fill-color);\n",
              "    border-color: transparent;\n",
              "    border-bottom-color: var(--fill-color);\n",
              "    animation:\n",
              "      spin 1s steps(1) infinite;\n",
              "  }\n",
              "\n",
              "  @keyframes spin {\n",
              "    0% {\n",
              "      border-color: transparent;\n",
              "      border-bottom-color: var(--fill-color);\n",
              "      border-left-color: var(--fill-color);\n",
              "    }\n",
              "    20% {\n",
              "      border-color: transparent;\n",
              "      border-left-color: var(--fill-color);\n",
              "      border-top-color: var(--fill-color);\n",
              "    }\n",
              "    30% {\n",
              "      border-color: transparent;\n",
              "      border-left-color: var(--fill-color);\n",
              "      border-top-color: var(--fill-color);\n",
              "      border-right-color: var(--fill-color);\n",
              "    }\n",
              "    40% {\n",
              "      border-color: transparent;\n",
              "      border-right-color: var(--fill-color);\n",
              "      border-top-color: var(--fill-color);\n",
              "    }\n",
              "    60% {\n",
              "      border-color: transparent;\n",
              "      border-right-color: var(--fill-color);\n",
              "    }\n",
              "    80% {\n",
              "      border-color: transparent;\n",
              "      border-right-color: var(--fill-color);\n",
              "      border-bottom-color: var(--fill-color);\n",
              "    }\n",
              "    90% {\n",
              "      border-color: transparent;\n",
              "      border-bottom-color: var(--fill-color);\n",
              "    }\n",
              "  }\n",
              "</style>\n",
              "\n",
              "      <script>\n",
              "        async function quickchart(key) {\n",
              "          const quickchartButtonEl =\n",
              "            document.querySelector('#' + key + ' button');\n",
              "          quickchartButtonEl.disabled = true;  // To prevent multiple clicks.\n",
              "          quickchartButtonEl.classList.add('colab-df-spinner');\n",
              "          try {\n",
              "            const charts = await google.colab.kernel.invokeFunction(\n",
              "                'suggestCharts', [key], {});\n",
              "          } catch (error) {\n",
              "            console.error('Error during call to suggestCharts:', error);\n",
              "          }\n",
              "          quickchartButtonEl.classList.remove('colab-df-spinner');\n",
              "          quickchartButtonEl.classList.add('colab-df-quickchart-complete');\n",
              "        }\n",
              "        (() => {\n",
              "          let quickchartButtonEl =\n",
              "            document.querySelector('#df-8037db78-6a09-45fa-a2b5-0e2fdba6d013 button');\n",
              "          quickchartButtonEl.style.display =\n",
              "            google.colab.kernel.accessAllowed ? 'block' : 'none';\n",
              "        })();\n",
              "      </script>\n",
              "    </div>\n",
              "\n",
              "    </div>\n",
              "  </div>\n"
            ],
            "application/vnd.google.colaboratory.intrinsic+json": {
              "type": "dataframe",
              "variable_name": "ratings"
            }
          },
          "metadata": {},
          "execution_count": 14
        }
      ],
      "execution_count": null,
      "id": "7d2b79f8239ed356"
    },
    {
      "metadata": {
        "id": "499645ff74c70f36"
      },
      "cell_type": "markdown",
      "source": [
        "Saya menampilkan lima baris pertama dari dataset Ratings menggunakan fungsi .head() untuk memperoleh gambaran lebih rinci mengenai bentuk dan isi datanya. Dari contoh tersebut, dapat dilihat bahwa setiap entri merepresentasikan satu interaksi pengguna dengan sebuah buku, berupa pemberian rating.\n",
        "\n",
        "Selain itu, terlihat pula bahwa satu pengguna dapat memberikan rating ke lebih dari satu buku, yang menunjukkan bahwa relasi antara User-ID dan ISBN bersifat *many-to-many*. Informasi ini penting sebagai dasar dalam memahami pola interaksi pengguna dan menjadi acuan dalam proses analisis atau pengembangan sistem rekomendasi ke depannya."
      ],
      "id": "499645ff74c70f36"
    },
    {
      "cell_type": "markdown",
      "source": [
        "Struktur Data pada Dataset Ratings\n"
      ],
      "metadata": {
        "id": "zvRvJQ9StImG"
      },
      "id": "zvRvJQ9StImG"
    },
    {
      "metadata": {
        "ExecuteTime": {
          "end_time": "2025-05-07T06:02:50.744910Z",
          "start_time": "2025-05-07T06:02:50.683617Z"
        },
        "id": "d486383d1a2bf931",
        "outputId": "fa5eb3c7-a474-4ccc-a723-d293d089152c",
        "colab": {
          "base_uri": "https://localhost:8080/"
        }
      },
      "cell_type": "code",
      "source": [
        "ratings.info()"
      ],
      "id": "d486383d1a2bf931",
      "outputs": [
        {
          "output_type": "stream",
          "name": "stdout",
          "text": [
            "<class 'pandas.core.frame.DataFrame'>\n",
            "RangeIndex: 1149780 entries, 0 to 1149779\n",
            "Data columns (total 3 columns):\n",
            " #   Column       Non-Null Count    Dtype \n",
            "---  ------       --------------    ----- \n",
            " 0   User-ID      1149780 non-null  int64 \n",
            " 1   ISBN         1149780 non-null  object\n",
            " 2   Book-Rating  1149780 non-null  int64 \n",
            "dtypes: int64(2), object(1)\n",
            "memory usage: 26.3+ MB\n"
          ]
        }
      ],
      "execution_count": null
    },
    {
      "metadata": {
        "id": "572877c4798816da"
      },
      "cell_type": "markdown",
      "source": [
        "Pada tahap ini, saya mengeksplorasi struktur dataset Ratings dengan menggunakan fungsi .info(). Hasilnya menunjukkan bahwa dataset ini terdiri dari **1.149.780 entri** dan memiliki **3 kolom utama**, yaitu:\n",
        "\n",
        "* User-ID (tipe data: integer)\n",
        "* ISBN (tipe data: object/string)\n",
        "* Book-Rating (tipe data: integer)\n",
        "\n",
        "Seluruh kolom memiliki jumlah nilai non-null yang sama dengan jumlah total entri, sehingga dapat disimpulkan bahwa tidak terdapat *missing value* dalam dataset ini. Kondisi ini menunjukkan bahwa data Ratings sudah lengkap dan siap untuk dianalisis lebih lanjut tanpa perlu penanganan khusus terkait nilai yang hilang.\n",
        "\n",
        "\n"
      ],
      "id": "572877c4798816da"
    },
    {
      "cell_type": "markdown",
      "source": [
        "Missing Value Ratings"
      ],
      "metadata": {
        "id": "zsFk1JrruxCt"
      },
      "id": "zsFk1JrruxCt"
    },
    {
      "metadata": {
        "ExecuteTime": {
          "end_time": "2025-05-07T06:02:52.172492Z",
          "start_time": "2025-05-07T06:02:52.096129Z"
        },
        "id": "313c6edbd5a9595f",
        "outputId": "fee07a19-2305-4ba2-e02e-0b31a8161450",
        "colab": {
          "base_uri": "https://localhost:8080/",
          "height": 178
        }
      },
      "cell_type": "code",
      "source": [
        "ratings.isnull().sum()"
      ],
      "outputs": [
        {
          "output_type": "execute_result",
          "data": {
            "text/plain": [
              "User-ID        0\n",
              "ISBN           0\n",
              "Book-Rating    0\n",
              "dtype: int64"
            ],
            "text/html": [
              "<div>\n",
              "<style scoped>\n",
              "    .dataframe tbody tr th:only-of-type {\n",
              "        vertical-align: middle;\n",
              "    }\n",
              "\n",
              "    .dataframe tbody tr th {\n",
              "        vertical-align: top;\n",
              "    }\n",
              "\n",
              "    .dataframe thead th {\n",
              "        text-align: right;\n",
              "    }\n",
              "</style>\n",
              "<table border=\"1\" class=\"dataframe\">\n",
              "  <thead>\n",
              "    <tr style=\"text-align: right;\">\n",
              "      <th></th>\n",
              "      <th>0</th>\n",
              "    </tr>\n",
              "  </thead>\n",
              "  <tbody>\n",
              "    <tr>\n",
              "      <th>User-ID</th>\n",
              "      <td>0</td>\n",
              "    </tr>\n",
              "    <tr>\n",
              "      <th>ISBN</th>\n",
              "      <td>0</td>\n",
              "    </tr>\n",
              "    <tr>\n",
              "      <th>Book-Rating</th>\n",
              "      <td>0</td>\n",
              "    </tr>\n",
              "  </tbody>\n",
              "</table>\n",
              "</div><br><label><b>dtype:</b> int64</label>"
            ]
          },
          "metadata": {},
          "execution_count": 16
        }
      ],
      "execution_count": null,
      "id": "313c6edbd5a9595f"
    },
    {
      "metadata": {
        "id": "2bf6a3fbf2549869"
      },
      "cell_type": "markdown",
      "source": [
        "Saya melakukan pengecekan terhadap keberadaan missing value pada setiap kolom dalam dataset Ratings dengan menggunakan fungsi .isnull().sum(). Pemeriksaan ini dilakukan untuk memastikan kelengkapan data sebelum melanjutkan ke tahap pemrosesan lebih lanjut.\n",
        "\n",
        "Hasilnya menunjukkan bahwa seluruh kolom, yaitu User-ID, ISBN, dan Book-Rating, tidak memiliki nilai yang hilang. Artinya, dataset ini dalam kondisi lengkap dan siap digunakan tanpa perlu melakukan penanganan khusus terhadap data kosong."
      ],
      "id": "2bf6a3fbf2549869"
    },
    {
      "cell_type": "markdown",
      "source": [
        "Ringkasan Statistik"
      ],
      "metadata": {
        "id": "NwngwmsyuhsF"
      },
      "id": "NwngwmsyuhsF"
    },
    {
      "metadata": {
        "ExecuteTime": {
          "end_time": "2025-05-07T06:02:51.873674Z",
          "start_time": "2025-05-07T06:02:50.947778Z"
        },
        "id": "30a657d07de662a6",
        "outputId": "b9364171-ca4b-45a1-d64a-fac93c9c1256",
        "colab": {
          "base_uri": "https://localhost:8080/",
          "height": 395
        }
      },
      "cell_type": "code",
      "source": [
        "ratings.describe(include='all')"
      ],
      "id": "30a657d07de662a6",
      "outputs": [
        {
          "output_type": "execute_result",
          "data": {
            "text/plain": [
              "             User-ID        ISBN   Book-Rating\n",
              "count   1.149780e+06     1149780  1.149780e+06\n",
              "unique           NaN      340556           NaN\n",
              "top              NaN  0971880107           NaN\n",
              "freq             NaN        2502           NaN\n",
              "mean    1.403864e+05         NaN  2.866950e+00\n",
              "std     8.056228e+04         NaN  3.854184e+00\n",
              "min     2.000000e+00         NaN  0.000000e+00\n",
              "25%     7.034500e+04         NaN  0.000000e+00\n",
              "50%     1.410100e+05         NaN  0.000000e+00\n",
              "75%     2.110280e+05         NaN  7.000000e+00\n",
              "max     2.788540e+05         NaN  1.000000e+01"
            ],
            "text/html": [
              "\n",
              "  <div id=\"df-4fc4646c-3625-4940-b731-c4877d6be909\" class=\"colab-df-container\">\n",
              "    <div>\n",
              "<style scoped>\n",
              "    .dataframe tbody tr th:only-of-type {\n",
              "        vertical-align: middle;\n",
              "    }\n",
              "\n",
              "    .dataframe tbody tr th {\n",
              "        vertical-align: top;\n",
              "    }\n",
              "\n",
              "    .dataframe thead th {\n",
              "        text-align: right;\n",
              "    }\n",
              "</style>\n",
              "<table border=\"1\" class=\"dataframe\">\n",
              "  <thead>\n",
              "    <tr style=\"text-align: right;\">\n",
              "      <th></th>\n",
              "      <th>User-ID</th>\n",
              "      <th>ISBN</th>\n",
              "      <th>Book-Rating</th>\n",
              "    </tr>\n",
              "  </thead>\n",
              "  <tbody>\n",
              "    <tr>\n",
              "      <th>count</th>\n",
              "      <td>1.149780e+06</td>\n",
              "      <td>1149780</td>\n",
              "      <td>1.149780e+06</td>\n",
              "    </tr>\n",
              "    <tr>\n",
              "      <th>unique</th>\n",
              "      <td>NaN</td>\n",
              "      <td>340556</td>\n",
              "      <td>NaN</td>\n",
              "    </tr>\n",
              "    <tr>\n",
              "      <th>top</th>\n",
              "      <td>NaN</td>\n",
              "      <td>0971880107</td>\n",
              "      <td>NaN</td>\n",
              "    </tr>\n",
              "    <tr>\n",
              "      <th>freq</th>\n",
              "      <td>NaN</td>\n",
              "      <td>2502</td>\n",
              "      <td>NaN</td>\n",
              "    </tr>\n",
              "    <tr>\n",
              "      <th>mean</th>\n",
              "      <td>1.403864e+05</td>\n",
              "      <td>NaN</td>\n",
              "      <td>2.866950e+00</td>\n",
              "    </tr>\n",
              "    <tr>\n",
              "      <th>std</th>\n",
              "      <td>8.056228e+04</td>\n",
              "      <td>NaN</td>\n",
              "      <td>3.854184e+00</td>\n",
              "    </tr>\n",
              "    <tr>\n",
              "      <th>min</th>\n",
              "      <td>2.000000e+00</td>\n",
              "      <td>NaN</td>\n",
              "      <td>0.000000e+00</td>\n",
              "    </tr>\n",
              "    <tr>\n",
              "      <th>25%</th>\n",
              "      <td>7.034500e+04</td>\n",
              "      <td>NaN</td>\n",
              "      <td>0.000000e+00</td>\n",
              "    </tr>\n",
              "    <tr>\n",
              "      <th>50%</th>\n",
              "      <td>1.410100e+05</td>\n",
              "      <td>NaN</td>\n",
              "      <td>0.000000e+00</td>\n",
              "    </tr>\n",
              "    <tr>\n",
              "      <th>75%</th>\n",
              "      <td>2.110280e+05</td>\n",
              "      <td>NaN</td>\n",
              "      <td>7.000000e+00</td>\n",
              "    </tr>\n",
              "    <tr>\n",
              "      <th>max</th>\n",
              "      <td>2.788540e+05</td>\n",
              "      <td>NaN</td>\n",
              "      <td>1.000000e+01</td>\n",
              "    </tr>\n",
              "  </tbody>\n",
              "</table>\n",
              "</div>\n",
              "    <div class=\"colab-df-buttons\">\n",
              "\n",
              "  <div class=\"colab-df-container\">\n",
              "    <button class=\"colab-df-convert\" onclick=\"convertToInteractive('df-4fc4646c-3625-4940-b731-c4877d6be909')\"\n",
              "            title=\"Convert this dataframe to an interactive table.\"\n",
              "            style=\"display:none;\">\n",
              "\n",
              "  <svg xmlns=\"http://www.w3.org/2000/svg\" height=\"24px\" viewBox=\"0 -960 960 960\">\n",
              "    <path d=\"M120-120v-720h720v720H120Zm60-500h600v-160H180v160Zm220 220h160v-160H400v160Zm0 220h160v-160H400v160ZM180-400h160v-160H180v160Zm440 0h160v-160H620v160ZM180-180h160v-160H180v160Zm440 0h160v-160H620v160Z\"/>\n",
              "  </svg>\n",
              "    </button>\n",
              "\n",
              "  <style>\n",
              "    .colab-df-container {\n",
              "      display:flex;\n",
              "      gap: 12px;\n",
              "    }\n",
              "\n",
              "    .colab-df-convert {\n",
              "      background-color: #E8F0FE;\n",
              "      border: none;\n",
              "      border-radius: 50%;\n",
              "      cursor: pointer;\n",
              "      display: none;\n",
              "      fill: #1967D2;\n",
              "      height: 32px;\n",
              "      padding: 0 0 0 0;\n",
              "      width: 32px;\n",
              "    }\n",
              "\n",
              "    .colab-df-convert:hover {\n",
              "      background-color: #E2EBFA;\n",
              "      box-shadow: 0px 1px 2px rgba(60, 64, 67, 0.3), 0px 1px 3px 1px rgba(60, 64, 67, 0.15);\n",
              "      fill: #174EA6;\n",
              "    }\n",
              "\n",
              "    .colab-df-buttons div {\n",
              "      margin-bottom: 4px;\n",
              "    }\n",
              "\n",
              "    [theme=dark] .colab-df-convert {\n",
              "      background-color: #3B4455;\n",
              "      fill: #D2E3FC;\n",
              "    }\n",
              "\n",
              "    [theme=dark] .colab-df-convert:hover {\n",
              "      background-color: #434B5C;\n",
              "      box-shadow: 0px 1px 3px 1px rgba(0, 0, 0, 0.15);\n",
              "      filter: drop-shadow(0px 1px 2px rgba(0, 0, 0, 0.3));\n",
              "      fill: #FFFFFF;\n",
              "    }\n",
              "  </style>\n",
              "\n",
              "    <script>\n",
              "      const buttonEl =\n",
              "        document.querySelector('#df-4fc4646c-3625-4940-b731-c4877d6be909 button.colab-df-convert');\n",
              "      buttonEl.style.display =\n",
              "        google.colab.kernel.accessAllowed ? 'block' : 'none';\n",
              "\n",
              "      async function convertToInteractive(key) {\n",
              "        const element = document.querySelector('#df-4fc4646c-3625-4940-b731-c4877d6be909');\n",
              "        const dataTable =\n",
              "          await google.colab.kernel.invokeFunction('convertToInteractive',\n",
              "                                                    [key], {});\n",
              "        if (!dataTable) return;\n",
              "\n",
              "        const docLinkHtml = 'Like what you see? Visit the ' +\n",
              "          '<a target=\"_blank\" href=https://colab.research.google.com/notebooks/data_table.ipynb>data table notebook</a>'\n",
              "          + ' to learn more about interactive tables.';\n",
              "        element.innerHTML = '';\n",
              "        dataTable['output_type'] = 'display_data';\n",
              "        await google.colab.output.renderOutput(dataTable, element);\n",
              "        const docLink = document.createElement('div');\n",
              "        docLink.innerHTML = docLinkHtml;\n",
              "        element.appendChild(docLink);\n",
              "      }\n",
              "    </script>\n",
              "  </div>\n",
              "\n",
              "\n",
              "    <div id=\"df-b96338f2-3627-48f2-b721-bf000cbf5917\">\n",
              "      <button class=\"colab-df-quickchart\" onclick=\"quickchart('df-b96338f2-3627-48f2-b721-bf000cbf5917')\"\n",
              "                title=\"Suggest charts\"\n",
              "                style=\"display:none;\">\n",
              "\n",
              "<svg xmlns=\"http://www.w3.org/2000/svg\" height=\"24px\"viewBox=\"0 0 24 24\"\n",
              "     width=\"24px\">\n",
              "    <g>\n",
              "        <path d=\"M19 3H5c-1.1 0-2 .9-2 2v14c0 1.1.9 2 2 2h14c1.1 0 2-.9 2-2V5c0-1.1-.9-2-2-2zM9 17H7v-7h2v7zm4 0h-2V7h2v10zm4 0h-2v-4h2v4z\"/>\n",
              "    </g>\n",
              "</svg>\n",
              "      </button>\n",
              "\n",
              "<style>\n",
              "  .colab-df-quickchart {\n",
              "      --bg-color: #E8F0FE;\n",
              "      --fill-color: #1967D2;\n",
              "      --hover-bg-color: #E2EBFA;\n",
              "      --hover-fill-color: #174EA6;\n",
              "      --disabled-fill-color: #AAA;\n",
              "      --disabled-bg-color: #DDD;\n",
              "  }\n",
              "\n",
              "  [theme=dark] .colab-df-quickchart {\n",
              "      --bg-color: #3B4455;\n",
              "      --fill-color: #D2E3FC;\n",
              "      --hover-bg-color: #434B5C;\n",
              "      --hover-fill-color: #FFFFFF;\n",
              "      --disabled-bg-color: #3B4455;\n",
              "      --disabled-fill-color: #666;\n",
              "  }\n",
              "\n",
              "  .colab-df-quickchart {\n",
              "    background-color: var(--bg-color);\n",
              "    border: none;\n",
              "    border-radius: 50%;\n",
              "    cursor: pointer;\n",
              "    display: none;\n",
              "    fill: var(--fill-color);\n",
              "    height: 32px;\n",
              "    padding: 0;\n",
              "    width: 32px;\n",
              "  }\n",
              "\n",
              "  .colab-df-quickchart:hover {\n",
              "    background-color: var(--hover-bg-color);\n",
              "    box-shadow: 0 1px 2px rgba(60, 64, 67, 0.3), 0 1px 3px 1px rgba(60, 64, 67, 0.15);\n",
              "    fill: var(--button-hover-fill-color);\n",
              "  }\n",
              "\n",
              "  .colab-df-quickchart-complete:disabled,\n",
              "  .colab-df-quickchart-complete:disabled:hover {\n",
              "    background-color: var(--disabled-bg-color);\n",
              "    fill: var(--disabled-fill-color);\n",
              "    box-shadow: none;\n",
              "  }\n",
              "\n",
              "  .colab-df-spinner {\n",
              "    border: 2px solid var(--fill-color);\n",
              "    border-color: transparent;\n",
              "    border-bottom-color: var(--fill-color);\n",
              "    animation:\n",
              "      spin 1s steps(1) infinite;\n",
              "  }\n",
              "\n",
              "  @keyframes spin {\n",
              "    0% {\n",
              "      border-color: transparent;\n",
              "      border-bottom-color: var(--fill-color);\n",
              "      border-left-color: var(--fill-color);\n",
              "    }\n",
              "    20% {\n",
              "      border-color: transparent;\n",
              "      border-left-color: var(--fill-color);\n",
              "      border-top-color: var(--fill-color);\n",
              "    }\n",
              "    30% {\n",
              "      border-color: transparent;\n",
              "      border-left-color: var(--fill-color);\n",
              "      border-top-color: var(--fill-color);\n",
              "      border-right-color: var(--fill-color);\n",
              "    }\n",
              "    40% {\n",
              "      border-color: transparent;\n",
              "      border-right-color: var(--fill-color);\n",
              "      border-top-color: var(--fill-color);\n",
              "    }\n",
              "    60% {\n",
              "      border-color: transparent;\n",
              "      border-right-color: var(--fill-color);\n",
              "    }\n",
              "    80% {\n",
              "      border-color: transparent;\n",
              "      border-right-color: var(--fill-color);\n",
              "      border-bottom-color: var(--fill-color);\n",
              "    }\n",
              "    90% {\n",
              "      border-color: transparent;\n",
              "      border-bottom-color: var(--fill-color);\n",
              "    }\n",
              "  }\n",
              "</style>\n",
              "\n",
              "      <script>\n",
              "        async function quickchart(key) {\n",
              "          const quickchartButtonEl =\n",
              "            document.querySelector('#' + key + ' button');\n",
              "          quickchartButtonEl.disabled = true;  // To prevent multiple clicks.\n",
              "          quickchartButtonEl.classList.add('colab-df-spinner');\n",
              "          try {\n",
              "            const charts = await google.colab.kernel.invokeFunction(\n",
              "                'suggestCharts', [key], {});\n",
              "          } catch (error) {\n",
              "            console.error('Error during call to suggestCharts:', error);\n",
              "          }\n",
              "          quickchartButtonEl.classList.remove('colab-df-spinner');\n",
              "          quickchartButtonEl.classList.add('colab-df-quickchart-complete');\n",
              "        }\n",
              "        (() => {\n",
              "          let quickchartButtonEl =\n",
              "            document.querySelector('#df-b96338f2-3627-48f2-b721-bf000cbf5917 button');\n",
              "          quickchartButtonEl.style.display =\n",
              "            google.colab.kernel.accessAllowed ? 'block' : 'none';\n",
              "        })();\n",
              "      </script>\n",
              "    </div>\n",
              "\n",
              "    </div>\n",
              "  </div>\n"
            ],
            "application/vnd.google.colaboratory.intrinsic+json": {
              "type": "dataframe",
              "summary": "{\n  \"name\": \"ratings\",\n  \"rows\": 11,\n  \"fields\": [\n    {\n      \"column\": \"User-ID\",\n      \"properties\": {\n        \"dtype\": \"number\",\n        \"std\": 370074.5144065263,\n        \"min\": 2.0,\n        \"max\": 1149780.0,\n        \"num_unique_values\": 8,\n        \"samples\": [\n          140386.39512602412,\n          141010.0,\n          1149780.0\n        ],\n        \"semantic_type\": \"\",\n        \"description\": \"\"\n      }\n    },\n    {\n      \"column\": \"ISBN\",\n      \"properties\": {\n        \"dtype\": \"category\",\n        \"num_unique_values\": 4,\n        \"samples\": [\n          340556,\n          \"2502\",\n          \"1149780\"\n        ],\n        \"semantic_type\": \"\",\n        \"description\": \"\"\n      }\n    },\n    {\n      \"column\": \"Book-Rating\",\n      \"properties\": {\n        \"dtype\": \"number\",\n        \"std\": 406507.41935424885,\n        \"min\": 0.0,\n        \"max\": 1149780.0,\n        \"num_unique_values\": 6,\n        \"samples\": [\n          1149780.0,\n          2.8669501991685364,\n          10.0\n        ],\n        \"semantic_type\": \"\",\n        \"description\": \"\"\n      }\n    }\n  ]\n}"
            }
          },
          "metadata": {},
          "execution_count": 17
        }
      ],
      "execution_count": null
    },
    {
      "metadata": {
        "id": "b2df0596e03d9845"
      },
      "cell_type": "markdown",
      "source": [
        "Saya melakukan analisis statistik deskriptif terhadap dataset Ratings dengan menggunakan fungsi .describe(include='all'). Langkah ini bertujuan untuk memahami karakteristik umum data rating yang diberikan oleh pengguna terhadap berbagai buku.\n",
        "\n",
        "Beberapa temuan penting dari hasil ringkasan statistik tersebut antara lain:\n",
        "\n",
        "* Nilai rata-rata rating yang diberikan pengguna adalah sekitar **2.87**, dengan **standar deviasi sebesar 3.85**, menunjukkan variasi rating yang cukup besar.\n",
        "* Skor rating memiliki rentang dari **0 hingga 10**, dengan nilai minimum **0** menunjukkan banyak pengguna tidak memberikan rating eksplisit (*rating kosong*).\n",
        "* Sebanyak **50% data** memiliki rating **0**, mengindikasikan bahwa sebagian besar interaksi dalam dataset ini adalah *implicit feedback* atau default rating.\n",
        "* ISBN yang paling sering muncul tercatat sebanyak **2.502 kali**, yaitu untuk satu buku yang cukup populer di antara pengguna.\n",
        "* Total terdapat **340.556 ISBN unik**, mencerminkan keberagaman buku yang dinilai dalam dataset ini.\n",
        "\n",
        "Secara keseluruhan, temuan ini menunjukkan adanya *sparsity* atau ketersebaran interaksi yang rendah antara pengguna dan buku. Hal ini merupakan hal yang umum ditemukan dalam sistem rekomendasi, dan menjadi tantangan tersendiri dalam membangun model yang efektif."
      ],
      "id": "b2df0596e03d9845"
    },
    {
      "cell_type": "markdown",
      "source": [
        "Cek Duplikat di Dataset Ratings"
      ],
      "metadata": {
        "id": "hSHPOAeBvHqF"
      },
      "id": "hSHPOAeBvHqF"
    },
    {
      "metadata": {
        "ExecuteTime": {
          "end_time": "2025-05-07T06:02:52.782698Z",
          "start_time": "2025-05-07T06:02:52.344748Z"
        },
        "id": "24fe7357bb8b48a3",
        "outputId": "380bbad9-0a4d-4dab-8d68-bf4d19e5cfea",
        "colab": {
          "base_uri": "https://localhost:8080/"
        }
      },
      "cell_type": "code",
      "source": [
        "print('Jumlah duplikat di Ratings:', ratings.duplicated().sum())"
      ],
      "id": "24fe7357bb8b48a3",
      "outputs": [
        {
          "output_type": "stream",
          "name": "stdout",
          "text": [
            "Jumlah duplikat di Ratings: 0\n"
          ]
        }
      ],
      "execution_count": null
    },
    {
      "metadata": {
        "id": "a977605a5c59fc8"
      },
      "cell_type": "markdown",
      "source": [
        "Sebagai langkah akhir dalam eksplorasi awal, saya memeriksa apakah terdapat data duplikat dalam dataset Ratings. Mengingat data ini merepresentasikan interaksi antara pengguna dan buku, keberadaan duplikasi dapat berdampak negatif terhadap kualitas analisis maupun akurasi model rekomendasi yang akan dibangun.\n",
        "\n",
        "Hasil pemeriksaan menunjukkan bahwa **tidak terdapat baris duplikat** dalam dataset ini (jumlah duplikat = 0). Dengan demikian, seluruh data interaksi bersifat unik dan valid untuk digunakan dalam proses analisis dan pengembangan sistem rekomendasi selanjutnya."
      ],
      "id": "a977605a5c59fc8"
    },
    {
      "metadata": {
        "id": "ea627f6d6d9d204a"
      },
      "cell_type": "markdown",
      "source": [
        "### Data User"
      ],
      "id": "ea627f6d6d9d204a"
    },
    {
      "cell_type": "markdown",
      "source": [
        "Contoh Data Users"
      ],
      "metadata": {
        "id": "pXg1aPuVxF1B"
      },
      "id": "pXg1aPuVxF1B"
    },
    {
      "metadata": {
        "ExecuteTime": {
          "end_time": "2025-05-07T06:02:53.018928Z",
          "start_time": "2025-05-07T06:02:52.993331Z"
        },
        "id": "4f3a73b74a5ba07d",
        "outputId": "f87687f7-b321-4a49-87c5-0fd05da3c4b2",
        "colab": {
          "base_uri": "https://localhost:8080/",
          "height": 206
        }
      },
      "cell_type": "code",
      "source": [
        "users.head()"
      ],
      "outputs": [
        {
          "output_type": "execute_result",
          "data": {
            "text/plain": [
              "   User-ID                            Location   Age\n",
              "0        1                  nyc, new york, usa   NaN\n",
              "1        2           stockton, california, usa  18.0\n",
              "2        3     moscow, yukon territory, russia   NaN\n",
              "3        4           porto, v.n.gaia, portugal  17.0\n",
              "4        5  farnborough, hants, united kingdom   NaN"
            ],
            "text/html": [
              "\n",
              "  <div id=\"df-b6de2c83-4b1a-44ae-b8f5-7b13a3f9ca03\" class=\"colab-df-container\">\n",
              "    <div>\n",
              "<style scoped>\n",
              "    .dataframe tbody tr th:only-of-type {\n",
              "        vertical-align: middle;\n",
              "    }\n",
              "\n",
              "    .dataframe tbody tr th {\n",
              "        vertical-align: top;\n",
              "    }\n",
              "\n",
              "    .dataframe thead th {\n",
              "        text-align: right;\n",
              "    }\n",
              "</style>\n",
              "<table border=\"1\" class=\"dataframe\">\n",
              "  <thead>\n",
              "    <tr style=\"text-align: right;\">\n",
              "      <th></th>\n",
              "      <th>User-ID</th>\n",
              "      <th>Location</th>\n",
              "      <th>Age</th>\n",
              "    </tr>\n",
              "  </thead>\n",
              "  <tbody>\n",
              "    <tr>\n",
              "      <th>0</th>\n",
              "      <td>1</td>\n",
              "      <td>nyc, new york, usa</td>\n",
              "      <td>NaN</td>\n",
              "    </tr>\n",
              "    <tr>\n",
              "      <th>1</th>\n",
              "      <td>2</td>\n",
              "      <td>stockton, california, usa</td>\n",
              "      <td>18.0</td>\n",
              "    </tr>\n",
              "    <tr>\n",
              "      <th>2</th>\n",
              "      <td>3</td>\n",
              "      <td>moscow, yukon territory, russia</td>\n",
              "      <td>NaN</td>\n",
              "    </tr>\n",
              "    <tr>\n",
              "      <th>3</th>\n",
              "      <td>4</td>\n",
              "      <td>porto, v.n.gaia, portugal</td>\n",
              "      <td>17.0</td>\n",
              "    </tr>\n",
              "    <tr>\n",
              "      <th>4</th>\n",
              "      <td>5</td>\n",
              "      <td>farnborough, hants, united kingdom</td>\n",
              "      <td>NaN</td>\n",
              "    </tr>\n",
              "  </tbody>\n",
              "</table>\n",
              "</div>\n",
              "    <div class=\"colab-df-buttons\">\n",
              "\n",
              "  <div class=\"colab-df-container\">\n",
              "    <button class=\"colab-df-convert\" onclick=\"convertToInteractive('df-b6de2c83-4b1a-44ae-b8f5-7b13a3f9ca03')\"\n",
              "            title=\"Convert this dataframe to an interactive table.\"\n",
              "            style=\"display:none;\">\n",
              "\n",
              "  <svg xmlns=\"http://www.w3.org/2000/svg\" height=\"24px\" viewBox=\"0 -960 960 960\">\n",
              "    <path d=\"M120-120v-720h720v720H120Zm60-500h600v-160H180v160Zm220 220h160v-160H400v160Zm0 220h160v-160H400v160ZM180-400h160v-160H180v160Zm440 0h160v-160H620v160ZM180-180h160v-160H180v160Zm440 0h160v-160H620v160Z\"/>\n",
              "  </svg>\n",
              "    </button>\n",
              "\n",
              "  <style>\n",
              "    .colab-df-container {\n",
              "      display:flex;\n",
              "      gap: 12px;\n",
              "    }\n",
              "\n",
              "    .colab-df-convert {\n",
              "      background-color: #E8F0FE;\n",
              "      border: none;\n",
              "      border-radius: 50%;\n",
              "      cursor: pointer;\n",
              "      display: none;\n",
              "      fill: #1967D2;\n",
              "      height: 32px;\n",
              "      padding: 0 0 0 0;\n",
              "      width: 32px;\n",
              "    }\n",
              "\n",
              "    .colab-df-convert:hover {\n",
              "      background-color: #E2EBFA;\n",
              "      box-shadow: 0px 1px 2px rgba(60, 64, 67, 0.3), 0px 1px 3px 1px rgba(60, 64, 67, 0.15);\n",
              "      fill: #174EA6;\n",
              "    }\n",
              "\n",
              "    .colab-df-buttons div {\n",
              "      margin-bottom: 4px;\n",
              "    }\n",
              "\n",
              "    [theme=dark] .colab-df-convert {\n",
              "      background-color: #3B4455;\n",
              "      fill: #D2E3FC;\n",
              "    }\n",
              "\n",
              "    [theme=dark] .colab-df-convert:hover {\n",
              "      background-color: #434B5C;\n",
              "      box-shadow: 0px 1px 3px 1px rgba(0, 0, 0, 0.15);\n",
              "      filter: drop-shadow(0px 1px 2px rgba(0, 0, 0, 0.3));\n",
              "      fill: #FFFFFF;\n",
              "    }\n",
              "  </style>\n",
              "\n",
              "    <script>\n",
              "      const buttonEl =\n",
              "        document.querySelector('#df-b6de2c83-4b1a-44ae-b8f5-7b13a3f9ca03 button.colab-df-convert');\n",
              "      buttonEl.style.display =\n",
              "        google.colab.kernel.accessAllowed ? 'block' : 'none';\n",
              "\n",
              "      async function convertToInteractive(key) {\n",
              "        const element = document.querySelector('#df-b6de2c83-4b1a-44ae-b8f5-7b13a3f9ca03');\n",
              "        const dataTable =\n",
              "          await google.colab.kernel.invokeFunction('convertToInteractive',\n",
              "                                                    [key], {});\n",
              "        if (!dataTable) return;\n",
              "\n",
              "        const docLinkHtml = 'Like what you see? Visit the ' +\n",
              "          '<a target=\"_blank\" href=https://colab.research.google.com/notebooks/data_table.ipynb>data table notebook</a>'\n",
              "          + ' to learn more about interactive tables.';\n",
              "        element.innerHTML = '';\n",
              "        dataTable['output_type'] = 'display_data';\n",
              "        await google.colab.output.renderOutput(dataTable, element);\n",
              "        const docLink = document.createElement('div');\n",
              "        docLink.innerHTML = docLinkHtml;\n",
              "        element.appendChild(docLink);\n",
              "      }\n",
              "    </script>\n",
              "  </div>\n",
              "\n",
              "\n",
              "    <div id=\"df-ab3ff4aa-8a27-47a7-aa76-bd30bf283624\">\n",
              "      <button class=\"colab-df-quickchart\" onclick=\"quickchart('df-ab3ff4aa-8a27-47a7-aa76-bd30bf283624')\"\n",
              "                title=\"Suggest charts\"\n",
              "                style=\"display:none;\">\n",
              "\n",
              "<svg xmlns=\"http://www.w3.org/2000/svg\" height=\"24px\"viewBox=\"0 0 24 24\"\n",
              "     width=\"24px\">\n",
              "    <g>\n",
              "        <path d=\"M19 3H5c-1.1 0-2 .9-2 2v14c0 1.1.9 2 2 2h14c1.1 0 2-.9 2-2V5c0-1.1-.9-2-2-2zM9 17H7v-7h2v7zm4 0h-2V7h2v10zm4 0h-2v-4h2v4z\"/>\n",
              "    </g>\n",
              "</svg>\n",
              "      </button>\n",
              "\n",
              "<style>\n",
              "  .colab-df-quickchart {\n",
              "      --bg-color: #E8F0FE;\n",
              "      --fill-color: #1967D2;\n",
              "      --hover-bg-color: #E2EBFA;\n",
              "      --hover-fill-color: #174EA6;\n",
              "      --disabled-fill-color: #AAA;\n",
              "      --disabled-bg-color: #DDD;\n",
              "  }\n",
              "\n",
              "  [theme=dark] .colab-df-quickchart {\n",
              "      --bg-color: #3B4455;\n",
              "      --fill-color: #D2E3FC;\n",
              "      --hover-bg-color: #434B5C;\n",
              "      --hover-fill-color: #FFFFFF;\n",
              "      --disabled-bg-color: #3B4455;\n",
              "      --disabled-fill-color: #666;\n",
              "  }\n",
              "\n",
              "  .colab-df-quickchart {\n",
              "    background-color: var(--bg-color);\n",
              "    border: none;\n",
              "    border-radius: 50%;\n",
              "    cursor: pointer;\n",
              "    display: none;\n",
              "    fill: var(--fill-color);\n",
              "    height: 32px;\n",
              "    padding: 0;\n",
              "    width: 32px;\n",
              "  }\n",
              "\n",
              "  .colab-df-quickchart:hover {\n",
              "    background-color: var(--hover-bg-color);\n",
              "    box-shadow: 0 1px 2px rgba(60, 64, 67, 0.3), 0 1px 3px 1px rgba(60, 64, 67, 0.15);\n",
              "    fill: var(--button-hover-fill-color);\n",
              "  }\n",
              "\n",
              "  .colab-df-quickchart-complete:disabled,\n",
              "  .colab-df-quickchart-complete:disabled:hover {\n",
              "    background-color: var(--disabled-bg-color);\n",
              "    fill: var(--disabled-fill-color);\n",
              "    box-shadow: none;\n",
              "  }\n",
              "\n",
              "  .colab-df-spinner {\n",
              "    border: 2px solid var(--fill-color);\n",
              "    border-color: transparent;\n",
              "    border-bottom-color: var(--fill-color);\n",
              "    animation:\n",
              "      spin 1s steps(1) infinite;\n",
              "  }\n",
              "\n",
              "  @keyframes spin {\n",
              "    0% {\n",
              "      border-color: transparent;\n",
              "      border-bottom-color: var(--fill-color);\n",
              "      border-left-color: var(--fill-color);\n",
              "    }\n",
              "    20% {\n",
              "      border-color: transparent;\n",
              "      border-left-color: var(--fill-color);\n",
              "      border-top-color: var(--fill-color);\n",
              "    }\n",
              "    30% {\n",
              "      border-color: transparent;\n",
              "      border-left-color: var(--fill-color);\n",
              "      border-top-color: var(--fill-color);\n",
              "      border-right-color: var(--fill-color);\n",
              "    }\n",
              "    40% {\n",
              "      border-color: transparent;\n",
              "      border-right-color: var(--fill-color);\n",
              "      border-top-color: var(--fill-color);\n",
              "    }\n",
              "    60% {\n",
              "      border-color: transparent;\n",
              "      border-right-color: var(--fill-color);\n",
              "    }\n",
              "    80% {\n",
              "      border-color: transparent;\n",
              "      border-right-color: var(--fill-color);\n",
              "      border-bottom-color: var(--fill-color);\n",
              "    }\n",
              "    90% {\n",
              "      border-color: transparent;\n",
              "      border-bottom-color: var(--fill-color);\n",
              "    }\n",
              "  }\n",
              "</style>\n",
              "\n",
              "      <script>\n",
              "        async function quickchart(key) {\n",
              "          const quickchartButtonEl =\n",
              "            document.querySelector('#' + key + ' button');\n",
              "          quickchartButtonEl.disabled = true;  // To prevent multiple clicks.\n",
              "          quickchartButtonEl.classList.add('colab-df-spinner');\n",
              "          try {\n",
              "            const charts = await google.colab.kernel.invokeFunction(\n",
              "                'suggestCharts', [key], {});\n",
              "          } catch (error) {\n",
              "            console.error('Error during call to suggestCharts:', error);\n",
              "          }\n",
              "          quickchartButtonEl.classList.remove('colab-df-spinner');\n",
              "          quickchartButtonEl.classList.add('colab-df-quickchart-complete');\n",
              "        }\n",
              "        (() => {\n",
              "          let quickchartButtonEl =\n",
              "            document.querySelector('#df-ab3ff4aa-8a27-47a7-aa76-bd30bf283624 button');\n",
              "          quickchartButtonEl.style.display =\n",
              "            google.colab.kernel.accessAllowed ? 'block' : 'none';\n",
              "        })();\n",
              "      </script>\n",
              "    </div>\n",
              "\n",
              "    </div>\n",
              "  </div>\n"
            ],
            "application/vnd.google.colaboratory.intrinsic+json": {
              "type": "dataframe",
              "variable_name": "users"
            }
          },
          "metadata": {},
          "execution_count": 19
        }
      ],
      "execution_count": null,
      "id": "4f3a73b74a5ba07d"
    },
    {
      "metadata": {
        "id": "8074fdeaf24758a"
      },
      "cell_type": "markdown",
      "source": [
        "Saya menampilkan lima baris pertama dari dataset Users menggunakan fungsi .head() untuk mendapatkan gambaran awal mengenai struktur dan isi data pengguna.\n",
        "\n",
        "Dari data tersebut, terlihat bahwa kolom Location memuat informasi geografis pengguna dalam format gabungan kota, negara bagian/provinsi, dan negara. Sementara itu, kolom Age menunjukkan usia pengguna, namun tidak semua entri memiliki data usia yang lengkap.\n",
        "\n",
        "Terlihat bahwa beberapa pengguna memiliki nilai usia yang tidak terisi (NaN), yang mengindikasikan adanya missing value pada kolom ini. Temuan ini menguatkan hasil dari pengecekan struktur data sebelumnya, dan akan menjadi perhatian khusus dalam tahap pembersihan dan validasi data selanjutnya."
      ],
      "id": "8074fdeaf24758a"
    },
    {
      "cell_type": "markdown",
      "source": [
        "Struktur Data Users"
      ],
      "metadata": {
        "id": "tAjq8f91wOps"
      },
      "id": "tAjq8f91wOps"
    },
    {
      "metadata": {
        "ExecuteTime": {
          "end_time": "2025-05-07T06:02:52.909713Z",
          "start_time": "2025-05-07T06:02:52.880102Z"
        },
        "id": "300c574cb25585ed",
        "outputId": "849bb731-bae0-4b7d-e6c5-4706df50fddc",
        "colab": {
          "base_uri": "https://localhost:8080/"
        }
      },
      "cell_type": "code",
      "source": [
        "users.info()"
      ],
      "id": "300c574cb25585ed",
      "outputs": [
        {
          "output_type": "stream",
          "name": "stdout",
          "text": [
            "<class 'pandas.core.frame.DataFrame'>\n",
            "RangeIndex: 278858 entries, 0 to 278857\n",
            "Data columns (total 3 columns):\n",
            " #   Column    Non-Null Count   Dtype  \n",
            "---  ------    --------------   -----  \n",
            " 0   User-ID   278858 non-null  int64  \n",
            " 1   Location  278858 non-null  object \n",
            " 2   Age       168096 non-null  float64\n",
            "dtypes: float64(1), int64(1), object(1)\n",
            "memory usage: 6.4+ MB\n"
          ]
        }
      ],
      "execution_count": null
    },
    {
      "metadata": {
        "id": "999f5473ee8c4cb9"
      },
      "cell_type": "markdown",
      "source": [
        "Pada tahap ini, saya mengeksplorasi struktur dataset Users dengan menggunakan fungsi .info() untuk melihat jumlah entri, tipe data, dan kelengkapan masing-masing kolom.\n",
        "\n",
        "Dataset ini terdiri dari **278.858 entri** dengan **3 kolom utama**, yaitu:\n",
        "\n",
        "* User-ID bertipe integer, berisi ID unik untuk setiap pengguna.\n",
        "* Location bertipe object (string), merepresentasikan lokasi geografis pengguna.\n",
        "* Age bertipe float64, berisi informasi usia pengguna.\n",
        "\n",
        "Dari hasil pengecekan, diketahui bahwa kolom Age memiliki *missing value*, ditandai dengan jumlah data non-null yang lebih sedikit dibanding total entri. Hal ini menunjukkan bahwa tidak semua pengguna mencantumkan usia mereka. Temuan ini akan menjadi perhatian pada tahap pembersihan data, khususnya dalam menangani nilai usia yang hilang atau tidak valid."
      ],
      "id": "999f5473ee8c4cb9"
    },
    {
      "cell_type": "markdown",
      "source": [
        "Ringkasan Statistik Users"
      ],
      "metadata": {
        "id": "HWyf3QBmx5NS"
      },
      "id": "HWyf3QBmx5NS"
    },
    {
      "metadata": {
        "ExecuteTime": {
          "end_time": "2025-05-07T06:02:53.287189Z",
          "start_time": "2025-05-07T06:02:53.147947Z"
        },
        "id": "7b6dd7c5136465af",
        "outputId": "4f9cd1ee-a0b6-4769-b2ce-7a7912aa146d",
        "colab": {
          "base_uri": "https://localhost:8080/",
          "height": 395
        }
      },
      "cell_type": "code",
      "source": [
        "users.describe(include='all')"
      ],
      "id": "7b6dd7c5136465af",
      "outputs": [
        {
          "output_type": "execute_result",
          "data": {
            "text/plain": [
              "             User-ID                         Location            Age\n",
              "count   278858.00000                           278858  168096.000000\n",
              "unique           NaN                            57339            NaN\n",
              "top              NaN  london, england, united kingdom            NaN\n",
              "freq             NaN                             2506            NaN\n",
              "mean    139429.50000                              NaN      34.751434\n",
              "std      80499.51502                              NaN      14.428097\n",
              "min          1.00000                              NaN       0.000000\n",
              "25%      69715.25000                              NaN      24.000000\n",
              "50%     139429.50000                              NaN      32.000000\n",
              "75%     209143.75000                              NaN      44.000000\n",
              "max     278858.00000                              NaN     244.000000"
            ],
            "text/html": [
              "\n",
              "  <div id=\"df-0a117681-c778-45b9-ae4b-36317631c503\" class=\"colab-df-container\">\n",
              "    <div>\n",
              "<style scoped>\n",
              "    .dataframe tbody tr th:only-of-type {\n",
              "        vertical-align: middle;\n",
              "    }\n",
              "\n",
              "    .dataframe tbody tr th {\n",
              "        vertical-align: top;\n",
              "    }\n",
              "\n",
              "    .dataframe thead th {\n",
              "        text-align: right;\n",
              "    }\n",
              "</style>\n",
              "<table border=\"1\" class=\"dataframe\">\n",
              "  <thead>\n",
              "    <tr style=\"text-align: right;\">\n",
              "      <th></th>\n",
              "      <th>User-ID</th>\n",
              "      <th>Location</th>\n",
              "      <th>Age</th>\n",
              "    </tr>\n",
              "  </thead>\n",
              "  <tbody>\n",
              "    <tr>\n",
              "      <th>count</th>\n",
              "      <td>278858.00000</td>\n",
              "      <td>278858</td>\n",
              "      <td>168096.000000</td>\n",
              "    </tr>\n",
              "    <tr>\n",
              "      <th>unique</th>\n",
              "      <td>NaN</td>\n",
              "      <td>57339</td>\n",
              "      <td>NaN</td>\n",
              "    </tr>\n",
              "    <tr>\n",
              "      <th>top</th>\n",
              "      <td>NaN</td>\n",
              "      <td>london, england, united kingdom</td>\n",
              "      <td>NaN</td>\n",
              "    </tr>\n",
              "    <tr>\n",
              "      <th>freq</th>\n",
              "      <td>NaN</td>\n",
              "      <td>2506</td>\n",
              "      <td>NaN</td>\n",
              "    </tr>\n",
              "    <tr>\n",
              "      <th>mean</th>\n",
              "      <td>139429.50000</td>\n",
              "      <td>NaN</td>\n",
              "      <td>34.751434</td>\n",
              "    </tr>\n",
              "    <tr>\n",
              "      <th>std</th>\n",
              "      <td>80499.51502</td>\n",
              "      <td>NaN</td>\n",
              "      <td>14.428097</td>\n",
              "    </tr>\n",
              "    <tr>\n",
              "      <th>min</th>\n",
              "      <td>1.00000</td>\n",
              "      <td>NaN</td>\n",
              "      <td>0.000000</td>\n",
              "    </tr>\n",
              "    <tr>\n",
              "      <th>25%</th>\n",
              "      <td>69715.25000</td>\n",
              "      <td>NaN</td>\n",
              "      <td>24.000000</td>\n",
              "    </tr>\n",
              "    <tr>\n",
              "      <th>50%</th>\n",
              "      <td>139429.50000</td>\n",
              "      <td>NaN</td>\n",
              "      <td>32.000000</td>\n",
              "    </tr>\n",
              "    <tr>\n",
              "      <th>75%</th>\n",
              "      <td>209143.75000</td>\n",
              "      <td>NaN</td>\n",
              "      <td>44.000000</td>\n",
              "    </tr>\n",
              "    <tr>\n",
              "      <th>max</th>\n",
              "      <td>278858.00000</td>\n",
              "      <td>NaN</td>\n",
              "      <td>244.000000</td>\n",
              "    </tr>\n",
              "  </tbody>\n",
              "</table>\n",
              "</div>\n",
              "    <div class=\"colab-df-buttons\">\n",
              "\n",
              "  <div class=\"colab-df-container\">\n",
              "    <button class=\"colab-df-convert\" onclick=\"convertToInteractive('df-0a117681-c778-45b9-ae4b-36317631c503')\"\n",
              "            title=\"Convert this dataframe to an interactive table.\"\n",
              "            style=\"display:none;\">\n",
              "\n",
              "  <svg xmlns=\"http://www.w3.org/2000/svg\" height=\"24px\" viewBox=\"0 -960 960 960\">\n",
              "    <path d=\"M120-120v-720h720v720H120Zm60-500h600v-160H180v160Zm220 220h160v-160H400v160Zm0 220h160v-160H400v160ZM180-400h160v-160H180v160Zm440 0h160v-160H620v160ZM180-180h160v-160H180v160Zm440 0h160v-160H620v160Z\"/>\n",
              "  </svg>\n",
              "    </button>\n",
              "\n",
              "  <style>\n",
              "    .colab-df-container {\n",
              "      display:flex;\n",
              "      gap: 12px;\n",
              "    }\n",
              "\n",
              "    .colab-df-convert {\n",
              "      background-color: #E8F0FE;\n",
              "      border: none;\n",
              "      border-radius: 50%;\n",
              "      cursor: pointer;\n",
              "      display: none;\n",
              "      fill: #1967D2;\n",
              "      height: 32px;\n",
              "      padding: 0 0 0 0;\n",
              "      width: 32px;\n",
              "    }\n",
              "\n",
              "    .colab-df-convert:hover {\n",
              "      background-color: #E2EBFA;\n",
              "      box-shadow: 0px 1px 2px rgba(60, 64, 67, 0.3), 0px 1px 3px 1px rgba(60, 64, 67, 0.15);\n",
              "      fill: #174EA6;\n",
              "    }\n",
              "\n",
              "    .colab-df-buttons div {\n",
              "      margin-bottom: 4px;\n",
              "    }\n",
              "\n",
              "    [theme=dark] .colab-df-convert {\n",
              "      background-color: #3B4455;\n",
              "      fill: #D2E3FC;\n",
              "    }\n",
              "\n",
              "    [theme=dark] .colab-df-convert:hover {\n",
              "      background-color: #434B5C;\n",
              "      box-shadow: 0px 1px 3px 1px rgba(0, 0, 0, 0.15);\n",
              "      filter: drop-shadow(0px 1px 2px rgba(0, 0, 0, 0.3));\n",
              "      fill: #FFFFFF;\n",
              "    }\n",
              "  </style>\n",
              "\n",
              "    <script>\n",
              "      const buttonEl =\n",
              "        document.querySelector('#df-0a117681-c778-45b9-ae4b-36317631c503 button.colab-df-convert');\n",
              "      buttonEl.style.display =\n",
              "        google.colab.kernel.accessAllowed ? 'block' : 'none';\n",
              "\n",
              "      async function convertToInteractive(key) {\n",
              "        const element = document.querySelector('#df-0a117681-c778-45b9-ae4b-36317631c503');\n",
              "        const dataTable =\n",
              "          await google.colab.kernel.invokeFunction('convertToInteractive',\n",
              "                                                    [key], {});\n",
              "        if (!dataTable) return;\n",
              "\n",
              "        const docLinkHtml = 'Like what you see? Visit the ' +\n",
              "          '<a target=\"_blank\" href=https://colab.research.google.com/notebooks/data_table.ipynb>data table notebook</a>'\n",
              "          + ' to learn more about interactive tables.';\n",
              "        element.innerHTML = '';\n",
              "        dataTable['output_type'] = 'display_data';\n",
              "        await google.colab.output.renderOutput(dataTable, element);\n",
              "        const docLink = document.createElement('div');\n",
              "        docLink.innerHTML = docLinkHtml;\n",
              "        element.appendChild(docLink);\n",
              "      }\n",
              "    </script>\n",
              "  </div>\n",
              "\n",
              "\n",
              "    <div id=\"df-827a1937-0ed9-4ae6-b545-424975b776db\">\n",
              "      <button class=\"colab-df-quickchart\" onclick=\"quickchart('df-827a1937-0ed9-4ae6-b545-424975b776db')\"\n",
              "                title=\"Suggest charts\"\n",
              "                style=\"display:none;\">\n",
              "\n",
              "<svg xmlns=\"http://www.w3.org/2000/svg\" height=\"24px\"viewBox=\"0 0 24 24\"\n",
              "     width=\"24px\">\n",
              "    <g>\n",
              "        <path d=\"M19 3H5c-1.1 0-2 .9-2 2v14c0 1.1.9 2 2 2h14c1.1 0 2-.9 2-2V5c0-1.1-.9-2-2-2zM9 17H7v-7h2v7zm4 0h-2V7h2v10zm4 0h-2v-4h2v4z\"/>\n",
              "    </g>\n",
              "</svg>\n",
              "      </button>\n",
              "\n",
              "<style>\n",
              "  .colab-df-quickchart {\n",
              "      --bg-color: #E8F0FE;\n",
              "      --fill-color: #1967D2;\n",
              "      --hover-bg-color: #E2EBFA;\n",
              "      --hover-fill-color: #174EA6;\n",
              "      --disabled-fill-color: #AAA;\n",
              "      --disabled-bg-color: #DDD;\n",
              "  }\n",
              "\n",
              "  [theme=dark] .colab-df-quickchart {\n",
              "      --bg-color: #3B4455;\n",
              "      --fill-color: #D2E3FC;\n",
              "      --hover-bg-color: #434B5C;\n",
              "      --hover-fill-color: #FFFFFF;\n",
              "      --disabled-bg-color: #3B4455;\n",
              "      --disabled-fill-color: #666;\n",
              "  }\n",
              "\n",
              "  .colab-df-quickchart {\n",
              "    background-color: var(--bg-color);\n",
              "    border: none;\n",
              "    border-radius: 50%;\n",
              "    cursor: pointer;\n",
              "    display: none;\n",
              "    fill: var(--fill-color);\n",
              "    height: 32px;\n",
              "    padding: 0;\n",
              "    width: 32px;\n",
              "  }\n",
              "\n",
              "  .colab-df-quickchart:hover {\n",
              "    background-color: var(--hover-bg-color);\n",
              "    box-shadow: 0 1px 2px rgba(60, 64, 67, 0.3), 0 1px 3px 1px rgba(60, 64, 67, 0.15);\n",
              "    fill: var(--button-hover-fill-color);\n",
              "  }\n",
              "\n",
              "  .colab-df-quickchart-complete:disabled,\n",
              "  .colab-df-quickchart-complete:disabled:hover {\n",
              "    background-color: var(--disabled-bg-color);\n",
              "    fill: var(--disabled-fill-color);\n",
              "    box-shadow: none;\n",
              "  }\n",
              "\n",
              "  .colab-df-spinner {\n",
              "    border: 2px solid var(--fill-color);\n",
              "    border-color: transparent;\n",
              "    border-bottom-color: var(--fill-color);\n",
              "    animation:\n",
              "      spin 1s steps(1) infinite;\n",
              "  }\n",
              "\n",
              "  @keyframes spin {\n",
              "    0% {\n",
              "      border-color: transparent;\n",
              "      border-bottom-color: var(--fill-color);\n",
              "      border-left-color: var(--fill-color);\n",
              "    }\n",
              "    20% {\n",
              "      border-color: transparent;\n",
              "      border-left-color: var(--fill-color);\n",
              "      border-top-color: var(--fill-color);\n",
              "    }\n",
              "    30% {\n",
              "      border-color: transparent;\n",
              "      border-left-color: var(--fill-color);\n",
              "      border-top-color: var(--fill-color);\n",
              "      border-right-color: var(--fill-color);\n",
              "    }\n",
              "    40% {\n",
              "      border-color: transparent;\n",
              "      border-right-color: var(--fill-color);\n",
              "      border-top-color: var(--fill-color);\n",
              "    }\n",
              "    60% {\n",
              "      border-color: transparent;\n",
              "      border-right-color: var(--fill-color);\n",
              "    }\n",
              "    80% {\n",
              "      border-color: transparent;\n",
              "      border-right-color: var(--fill-color);\n",
              "      border-bottom-color: var(--fill-color);\n",
              "    }\n",
              "    90% {\n",
              "      border-color: transparent;\n",
              "      border-bottom-color: var(--fill-color);\n",
              "    }\n",
              "  }\n",
              "</style>\n",
              "\n",
              "      <script>\n",
              "        async function quickchart(key) {\n",
              "          const quickchartButtonEl =\n",
              "            document.querySelector('#' + key + ' button');\n",
              "          quickchartButtonEl.disabled = true;  // To prevent multiple clicks.\n",
              "          quickchartButtonEl.classList.add('colab-df-spinner');\n",
              "          try {\n",
              "            const charts = await google.colab.kernel.invokeFunction(\n",
              "                'suggestCharts', [key], {});\n",
              "          } catch (error) {\n",
              "            console.error('Error during call to suggestCharts:', error);\n",
              "          }\n",
              "          quickchartButtonEl.classList.remove('colab-df-spinner');\n",
              "          quickchartButtonEl.classList.add('colab-df-quickchart-complete');\n",
              "        }\n",
              "        (() => {\n",
              "          let quickchartButtonEl =\n",
              "            document.querySelector('#df-827a1937-0ed9-4ae6-b545-424975b776db button');\n",
              "          quickchartButtonEl.style.display =\n",
              "            google.colab.kernel.accessAllowed ? 'block' : 'none';\n",
              "        })();\n",
              "      </script>\n",
              "    </div>\n",
              "\n",
              "    </div>\n",
              "  </div>\n"
            ],
            "application/vnd.google.colaboratory.intrinsic+json": {
              "type": "dataframe",
              "summary": "{\n  \"name\": \"users\",\n  \"rows\": 11,\n  \"fields\": [\n    {\n      \"column\": \"User-ID\",\n      \"properties\": {\n        \"dtype\": \"number\",\n        \"std\": 100501.4675852522,\n        \"min\": 1.0,\n        \"max\": 278858.0,\n        \"num_unique_values\": 6,\n        \"samples\": [\n          278858.0,\n          139429.5,\n          209143.75\n        ],\n        \"semantic_type\": \"\",\n        \"description\": \"\"\n      }\n    },\n    {\n      \"column\": \"Location\",\n      \"properties\": {\n        \"dtype\": \"category\",\n        \"num_unique_values\": 4,\n        \"samples\": [\n          57339,\n          \"2506\",\n          \"278858\"\n        ],\n        \"semantic_type\": \"\",\n        \"description\": \"\"\n      }\n    },\n    {\n      \"column\": \"Age\",\n      \"properties\": {\n        \"dtype\": \"number\",\n        \"std\": 59411.10316076062,\n        \"min\": 0.0,\n        \"max\": 168096.0,\n        \"num_unique_values\": 8,\n        \"samples\": [\n          34.75143370454978,\n          32.0,\n          168096.0\n        ],\n        \"semantic_type\": \"\",\n        \"description\": \"\"\n      }\n    }\n  ]\n}"
            }
          },
          "metadata": {},
          "execution_count": 21
        }
      ],
      "execution_count": null
    },
    {
      "metadata": {
        "id": "c32c6b199dd1dc50"
      },
      "cell_type": "markdown",
      "source": [
        "Saya melakukan analisis deskriptif terhadap dataset Users menggunakan fungsi.describe(include='all') untuk mendapatkan gambaran umum mengenai distribusi data pengguna.\n",
        "\n",
        "Beberapa temuan utama dari hasil analisis ini antara lain:\n",
        "\n",
        "* Rata-rata usia pengguna adalah sekitar 34.75 tahun, yang menunjukkan bahwa mayoritas pengguna berada pada rentang usia dewasa.\n",
        "* Ditemukan nilai usia minimum 0 tahun dan maksimum hingga 244 tahun, yang jelas merupakan nilai tidak wajar dan menunjukkan adanya data anomali atau kesalahan input.\n",
        "* Lokasi yang paling sering muncul adalah \"london, england, united kingdom\", dengan total 2.506 pengguna berasal dari lokasi tersebut.\n",
        "* Total terdapat 57.339 lokasi unik dalam dataset, yang menunjukkan keberagaman geografis pengguna.\n",
        "\n",
        "Dari hasil ini, dapat disimpulkan bahwa kolom Age memerlukan penanganan khusus, terutama dalam membersihkan data ekstrem atau tidak valid. Hal ini penting agar analisis yang melibatkan usia pengguna dapat menghasilkan informasi yang lebih akurat dan representatif."
      ],
      "id": "c32c6b199dd1dc50"
    },
    {
      "cell_type": "markdown",
      "source": [
        "Missing Value Users"
      ],
      "metadata": {
        "id": "VRDEtnQzyiTM"
      },
      "id": "VRDEtnQzyiTM"
    },
    {
      "metadata": {
        "ExecuteTime": {
          "end_time": "2025-05-07T06:02:53.475738Z",
          "start_time": "2025-05-07T06:02:53.447516Z"
        },
        "id": "55b695e7976099f8",
        "outputId": "30ff9b5c-67ef-483c-9fc4-1eab4cf2a53c",
        "colab": {
          "base_uri": "https://localhost:8080/",
          "height": 178
        }
      },
      "cell_type": "code",
      "source": [
        "users.isnull().sum()"
      ],
      "id": "55b695e7976099f8",
      "outputs": [
        {
          "output_type": "execute_result",
          "data": {
            "text/plain": [
              "User-ID          0\n",
              "Location         0\n",
              "Age         110762\n",
              "dtype: int64"
            ],
            "text/html": [
              "<div>\n",
              "<style scoped>\n",
              "    .dataframe tbody tr th:only-of-type {\n",
              "        vertical-align: middle;\n",
              "    }\n",
              "\n",
              "    .dataframe tbody tr th {\n",
              "        vertical-align: top;\n",
              "    }\n",
              "\n",
              "    .dataframe thead th {\n",
              "        text-align: right;\n",
              "    }\n",
              "</style>\n",
              "<table border=\"1\" class=\"dataframe\">\n",
              "  <thead>\n",
              "    <tr style=\"text-align: right;\">\n",
              "      <th></th>\n",
              "      <th>0</th>\n",
              "    </tr>\n",
              "  </thead>\n",
              "  <tbody>\n",
              "    <tr>\n",
              "      <th>User-ID</th>\n",
              "      <td>0</td>\n",
              "    </tr>\n",
              "    <tr>\n",
              "      <th>Location</th>\n",
              "      <td>0</td>\n",
              "    </tr>\n",
              "    <tr>\n",
              "      <th>Age</th>\n",
              "      <td>110762</td>\n",
              "    </tr>\n",
              "  </tbody>\n",
              "</table>\n",
              "</div><br><label><b>dtype:</b> int64</label>"
            ]
          },
          "metadata": {},
          "execution_count": 22
        }
      ],
      "execution_count": null
    },
    {
      "metadata": {
        "id": "f3011c6649fbe0a9"
      },
      "cell_type": "markdown",
      "source": [
        "Saya melakukan pengecekan terhadap *missing value* pada dataset Users dengan menggunakan fungsi .isnull().sum(). Pemeriksaan ini bertujuan untuk mengetahui sejauh mana kelengkapan data pada setiap kolom sebelum melanjutkan ke tahap pemrosesan lanjutan.\n",
        "\n",
        "Hasil analisis menunjukkan bahwa:\n",
        "\n",
        "* Kolom User-ID dan Location tidak memiliki missing value.\n",
        "* Kolom Age memiliki 110.762 data yang hilang, atau sekitar 40% dari total entri.\n",
        "\n",
        "Tingginya jumlah nilai yang hilang pada kolom Age menjadi perhatian penting, karena dapat memengaruhi hasil analisis yang melibatkan informasi usia. Oleh karena itu, pada tahap data preparation selanjutnya, perlu dirancang strategi penanganan yang tepat, seperti melakukan imputasi berdasarkan distribusi usia atau menghapus entri tertentu sesuai kriteria yang relevan."
      ],
      "id": "f3011c6649fbe0a9"
    },
    {
      "cell_type": "markdown",
      "source": [
        "Jumlah User-ID Unik"
      ],
      "metadata": {
        "id": "ees2beahzeBb"
      },
      "id": "ees2beahzeBb"
    },
    {
      "metadata": {
        "ExecuteTime": {
          "end_time": "2025-05-07T06:02:53.694850Z",
          "start_time": "2025-05-07T06:02:53.651671Z"
        },
        "id": "65382fd407290ac2",
        "outputId": "f12e5940-8cbe-4fe7-f81b-71a8cd21ef7b",
        "colab": {
          "base_uri": "https://localhost:8080/"
        }
      },
      "cell_type": "code",
      "source": [
        "print('Jumlah User-ID unik:', ratings['User-ID'].nunique())"
      ],
      "id": "65382fd407290ac2",
      "outputs": [
        {
          "output_type": "stream",
          "name": "stdout",
          "text": [
            "Jumlah User-ID unik: 105283\n"
          ]
        }
      ],
      "execution_count": null
    },
    {
      "metadata": {
        "id": "d001ecd78481ef39"
      },
      "cell_type": "markdown",
      "source": [
        "Saya menghitung jumlah pengguna unik dalam dataset Ratings dengan menggunakan fungsi .nunique() pada kolom User-ID.\n",
        "\n",
        "Hasilnya menunjukkan bahwa terdapat **105.283 pengguna unik** yang terlibat dalam memberikan rating terhadap buku. Jumlah ini mencerminkan cakupan interaksi dari berbagai individu yang berpartisipasi dalam sistem, dan menjadi indikator penting dalam memahami skala serta keberagaman perilaku pengguna dalam dataset ini."
      ],
      "id": "d001ecd78481ef39"
    },
    {
      "cell_type": "markdown",
      "source": [
        "Cek Duplikat di Dataset Users"
      ],
      "metadata": {
        "id": "M4P0sgA9zpNs"
      },
      "id": "M4P0sgA9zpNs"
    },
    {
      "metadata": {
        "ExecuteTime": {
          "end_time": "2025-05-07T06:02:54.023427Z",
          "start_time": "2025-05-07T06:02:53.873231Z"
        },
        "id": "2379339bb262e4d",
        "outputId": "009b9c15-bdc2-4069-f1c4-3945deb21467",
        "colab": {
          "base_uri": "https://localhost:8080/"
        }
      },
      "cell_type": "code",
      "source": [
        "print('Duplikat di Users:', users.duplicated().sum())"
      ],
      "id": "2379339bb262e4d",
      "outputs": [
        {
          "output_type": "stream",
          "name": "stdout",
          "text": [
            "Duplikat di Users: 0\n"
          ]
        }
      ],
      "execution_count": null
    },
    {
      "metadata": {
        "id": "eb07c29fe660c6c8"
      },
      "cell_type": "markdown",
      "source": [
        "Sebagai bagian dari validasi kualitas data, saya melakukan pengecekan terhadap kemungkinan adanya baris duplikat dalam dataset Users. Langkah ini penting untuk memastikan bahwa setiap entri pengguna benar-benar merepresentasikan individu yang unik, sehingga hasil analisis tidak terdistorsi oleh data ganda.\n",
        "\n",
        "Hasil pengecekan menunjukkan bahwa **tidak ditemukan duplikasi** dalam dataset ini (jumlah duplikat = 0). Artinya, seluruh data pengguna bersifat unik dan siap digunakan untuk analisis lebih lanjut secara akurat dan konsisten."
      ],
      "id": "eb07c29fe660c6c8"
    },
    {
      "cell_type": "markdown",
      "source": [
        "## Hasil Eksplorasi dan Pemahaman Data\n",
        "\n",
        "### 1. Unduhan dan Ekstraksi Dataset\n",
        "\n",
        "Dataset yang digunakan dalam proyek ini adalah *Book Recommendation Dataset* dari Kaggle. Dataset diunduh dan diekstrak ke dalam folder book_data/ untuk kemudian dianalisis. Dataset ini terdiri dari tiga file utama: Books.csv, Users.csv, dan Ratings.csv.\n",
        "\n",
        "### 2. Gambaran Umum Dataset\n",
        "\n",
        "Setelah file diekstrak dan dimuat ke dalam DataFrame, didapatkan jumlah data sebagai berikut:\n",
        "\n",
        "* Books.csv: 271.360 baris, 8 kolom\n",
        "* Users.csv: 278.858 baris, 3 kolom\n",
        "* Ratings.csv: 1.149.780 baris, 3 kolom\n",
        "\n",
        "### 3. Eksplorasi Data Books.csv\n",
        "\n",
        "* Dataset berisi informasi seperti ISBN, judul buku, penulis, tahun terbit, penerbit, dan URL gambar.\n",
        "* Tipe data seluruh kolom adalah object (string).\n",
        "* Ditemukan *missing value* pada tiga kolom:\n",
        "\n",
        "  * Book-Author: 2 nilai kosong\n",
        "  * Publisher: 2 nilai kosong\n",
        "  * Image-URL-L: 3 nilai kosong\n",
        "* Tidak ditemukan baris duplikat dalam data buku.\n",
        "* Ditemukan banyak ISBN yang unik, menandakan variasi buku yang tinggi. Beberapa judul atau gambar buku ditemukan berulang, yang menjadi indikasi adanya kemungkinan duplikasi berdasarkan konten, bukan baris.\n",
        "\n",
        "### 4. Eksplorasi Data Ratings.csv\n",
        "\n",
        "* Data terdiri dari 3 kolom utama: User-ID, ISBN, dan Book-Rating.\n",
        "* Tidak ditemukan *missing value* dan semua entri valid secara struktur.\n",
        "* Nilai rating berkisar dari 0 hingga 10, dengan rata-rata sekitar 2.87.\n",
        "* Sekitar 50% entri memiliki rating 0, yang kemungkinan merepresentasikan *implicit feedback*.\n",
        "* Ditemukan lebih dari 340 ribu ISBN unik, menunjukkan banyak variasi buku yang telah dinilai.\n",
        "* Tidak ditemukan baris duplikat dalam data rating.\n",
        "\n",
        "### 5. Eksplorasi Data Users.csv\n",
        "\n",
        "* Terdiri dari 3 kolom utama: User-ID, Location, dan Age.\n",
        "* Terdapat 110.762 entri usia yang hilang (sekitar 40% data).\n",
        "* Ditemukan nilai usia tidak wajar, misalnya 0 tahun hingga 244 tahun, yang menandakan adanya data ekstrem atau anomali.\n",
        "* Lokasi pengguna sangat bervariasi dengan lebih dari 57.000 lokasi unik, dan lokasi terbanyak berasal dari London, Inggris.\n",
        "* Tidak ditemukan duplikasi pada data pengguna.\n",
        "\n",
        "---\n",
        "\n",
        "## Kesimpulan Awal\n",
        "\n",
        "Berdasarkan hasil eksplorasi ini, dapat disimpulkan bahwa:\n",
        "\n",
        "* Dataset secara umum cukup bersih dan terstruktur, namun terdapat beberapa *missing value* dan outlier, terutama pada data pengguna (Age).\n",
        "* Variasi data cukup tinggi, baik dari sisi buku maupun pengguna.\n",
        "* Beberapa data rating tampak sebagai *implicit feedback* (nilai 0) yang harus ditangani dengan tepat saat modeling.\n",
        "* Tidak ada data duplikat yang perlu dihapus pada tahap awal ini.\n",
        "\n",
        "Langkah selanjutnya adalah melakukan *data cleaning* lanjutan, termasuk imputasi atau pembuangan data tidak valid, normalisasi nilai, dan persiapan untuk proses modeling sistem rekomendasi."
      ],
      "metadata": {
        "id": "SyC0jdesKmVq"
      },
      "id": "SyC0jdesKmVq"
    },
    {
      "metadata": {
        "id": "3ff474436c350a91"
      },
      "cell_type": "markdown",
      "source": [
        "### Exploratory Data Analysis (EDA)"
      ],
      "id": "3ff474436c350a91"
    },
    {
      "cell_type": "markdown",
      "source": [
        "#### 10 Buku berdasarkan ISBN dengan rating terbanyak"
      ],
      "metadata": {
        "id": "yfD5AIux1S2I"
      },
      "id": "yfD5AIux1S2I"
    },
    {
      "cell_type": "code",
      "source": [
        "# Ambil 10 ISBN dengan rating terbanyak dalam bentuk DataFrame\n",
        "top_books = ratings['ISBN'].value_counts().head(10).reset_index()\n",
        "top_books.columns = ['ISBN', 'Jumlah Rating']\n",
        "\n",
        "# Mapping ke judul dan penulis\n",
        "top_books_info = top_books.merge(\n",
        "    books[['ISBN', 'Book-Title', 'Book-Author']],\n",
        "    on='ISBN',\n",
        "    how='left'\n",
        ")\n",
        "\n",
        "#Jika judul tidak ada\n",
        "top_books_info['Book-Title'] = top_books_info['Book-Title'].fillna('Unknown Title')"
      ],
      "metadata": {
        "id": "EVAIB2qj02GN"
      },
      "id": "EVAIB2qj02GN",
      "execution_count": null,
      "outputs": []
    },
    {
      "metadata": {
        "ExecuteTime": {
          "end_time": "2025-05-07T06:02:55.142652Z",
          "start_time": "2025-05-07T06:02:54.056618Z"
        },
        "id": "c10e8a5f506c811e",
        "outputId": "9fdf72b6-e068-4031-a131-37521859000a",
        "colab": {
          "base_uri": "https://localhost:8080/",
          "height": 564
        }
      },
      "cell_type": "code",
      "source": [
        "plt.figure(figsize=(12,6))\n",
        "sns.barplot(x=top_books_info['Jumlah Rating'], y=top_books_info['Book-Title'])\n",
        "plt.title('10 Buku dengan Rating Terbanyak')\n",
        "plt.xlabel('Jumlah Rating')\n",
        "plt.ylabel('Judul Buku')\n",
        "plt.grid(True)\n",
        "plt.show()"
      ],
      "id": "c10e8a5f506c811e",
      "outputs": [
        {
          "output_type": "display_data",
          "data": {
            "text/plain": [
              "<Figure size 1200x600 with 1 Axes>"
            ],
            "image/png": "[encoded data removed]"
          },
          "metadata": {}
        }
      ],
      "execution_count": null
    },
    {
      "cell_type": "markdown",
      "source": [
        "Insight"
      ],
      "metadata": {
        "id": "Ky8j8aALAx1p"
      },
      "id": "Ky8j8aALAx1p"
    },
    {
      "metadata": {
        "id": "884fa65e49d871ba"
      },
      "cell_type": "markdown",
      "source": [
        "Visualisasi menunjukkan bahwa buku **\"Wild Animus\"** menempati posisi pertama sebagai buku yang paling banyak diberi rating oleh pengguna, dengan lebih dari **2.500 rating**. Ini jauh melampaui buku lain dalam daftar, seperti **\"The Lovely Bones: A Novel\"** dan **\"The Da Vinci Code\"**, yang juga menunjukkan tingkat popularitas tinggi di kalangan pembaca.\n",
        "\n",
        "Beberapa poin penting dari hasil analisis:\n",
        "\n",
        "1. **Dominasi Satu Buku:**\n",
        "\n",
        "   * \"Wild Animus\" sangat menonjol dibanding buku lain dalam hal jumlah rating, yang menunjukkan kampanye distribusi atau promosi besar-besaran, atau bisa juga karena distribusi gratis dari buku tersebut (dalam beberapa kasus memang terjadi).\n",
        "\n",
        "2. **Buku Populer dan Familiar:**\n",
        "\n",
        "   * Judul seperti *The Lovely Bones*, *The Da Vinci Code*, *The Secret Life of Bees*, dan *Angels & Demons* adalah buku-buku bestseller yang dikenal luas, sehingga wajar jika mereka masuk daftar ini.\n",
        "\n",
        "3. **Judul Tidak Diketahui (Unknown Title):**\n",
        "\n",
        "   * Satu ISBN di daftar tidak memiliki informasi judul pada dataset books.csv, sehingga ditampilkan sebagai **\"Unknown Title\"**. Ini menunjukkan adanya **data yang tidak lengkap** dalam metadata buku, yang penting untuk diperhatikan saat membangun sistem rekomendasi atau laporan hasil.\n",
        "\n",
        "4. **Potensi untuk Sistem Rekomendasi:**\n",
        "\n",
        "   * Buku-buku dengan rating terbanyak bisa dijadikan sebagai **baseline rekomendasi berbasis popularitas** (popularity-based filtering), terutama bagi pengguna baru yang belum memiliki histori interaksi.\n",
        "\n",
        "5. **Kebutuhan Metadata Lengkap:**\n",
        "\n",
        "   * Agar sistem lebih informatif, metadata seperti judul dan penulis sangat penting. Jika informasi ini hilang, hasil analisis bisa jadi kurang bermakna atau membingungkan.\n"
      ],
      "id": "884fa65e49d871ba"
    },
    {
      "cell_type": "markdown",
      "source": [
        "#### Insight Distribusi Nilai Rating Buku"
      ],
      "metadata": {
        "id": "AjnG48ejBMtx"
      },
      "id": "AjnG48ejBMtx"
    },
    {
      "metadata": {
        "ExecuteTime": {
          "end_time": "2025-05-07T06:02:57.932447Z",
          "start_time": "2025-05-07T06:02:55.851515Z"
        },
        "id": "6a3857726aacb12",
        "outputId": "3c445e67-4ba5-4043-ce24-4d6e1d918313",
        "colab": {
          "base_uri": "https://localhost:8080/",
          "height": 651
        }
      },
      "cell_type": "code",
      "source": [
        "plt.figure(figsize=(10,6))\n",
        "sns.countplot(\n",
        "    x='Book-Rating',\n",
        "    data=ratings,\n",
        "    palette=['#d9534f' if rating == 0 else '#5bc0de' for rating in sorted(ratings['Book-Rating'].unique())]\n",
        ")\n",
        "plt.title('Distribusi Nilai Rating Buku (0–10)')\n",
        "plt.xlabel('Rating')\n",
        "plt.ylabel('Jumlah')\n",
        "plt.grid(True, axis='y', linestyle='--', alpha=0.7)\n",
        "plt.xticks(rotation=0)\n",
        "plt.text(-0.4, max(ratings['Book-Rating'].value_counts())*0.95, 'Rating 0 = Tidak memberikan rating', color='#d9534f')\n",
        "plt.text(1, max(ratings['Book-Rating'].value_counts())*0.9, 'Rating 1–10 = Rating valid', color='#5bc0de')\n",
        "\n",
        "plt.show()\n"
      ],
      "id": "6a3857726aacb12",
      "outputs": [
        {
          "output_type": "stream",
          "name": "stderr",
          "text": [
            "<ipython-input-27-4221418176>:2: FutureWarning: \n",
            "\n",
            "Passing `palette` without assigning `hue` is deprecated and will be removed in v0.14.0. Assign the `x` variable to `hue` and set `legend=False` for the same effect.\n",
            "\n",
            "  sns.countplot(\n"
          ]
        },
        {
          "output_type": "display_data",
          "data": {
            "text/plain": [
              "<Figure size 1000x600 with 1 Axes>"
            ],
            "image/png": "[encoded data removed]"
          },
          "metadata": {}
        }
      ],
      "execution_count": null
    },
    {
      "metadata": {
        "id": "dbd1e13a8385d026"
      },
      "cell_type": "markdown",
      "source": [
        "Visualisasi distribusi nilai rating menunjukkan bahwa sebagian besar pengguna memberikan rating **0** terhadap buku.\n",
        "Rating **0** mendominasi dengan jumlah yang sangat besar dibandingkan rating lainnya.\n",
        "\n",
        "Sementara itu, rating tinggi seperti **8**, **9**, dan **10** juga cukup banyak diberikan, menunjukkan adanya bias positif dari pengguna yang aktif memberi rating lebih baik terhadap buku yang mereka sukai.\n",
        "\n",
        "Distribusi ini memperlihatkan adanya ketimpangan yang signifikan antara rating kosong (0) dan rating valid (1-10), yang perlu dipertimbangkan pada tahap modeling rekomendasi."
      ],
      "id": "dbd1e13a8385d026"
    },
    {
      "metadata": {
        "id": "b7dac6d9ff2eeab8"
      },
      "cell_type": "markdown",
      "source": [
        "#### Insight Distribusi Usia Pengguna\n",
        "\n"
      ],
      "id": "b7dac6d9ff2eeab8"
    },
    {
      "metadata": {
        "ExecuteTime": {
          "end_time": "2025-05-07T06:02:59.437164Z",
          "start_time": "2025-05-07T06:02:58.106161Z"
        },
        "id": "a40e13b5ff4aa5d5",
        "outputId": "fa17147c-bac7-4b8e-c7b5-95d2615687e6",
        "colab": {
          "base_uri": "https://localhost:8080/",
          "height": 564
        }
      },
      "cell_type": "code",
      "source": [
        "# Visualisasi distribusi usia pengguna\n",
        "plt.figure(figsize=(10,6))\n",
        "sns.histplot(users['Age'].dropna(), bins=30, kde=True, color='skyblue')\n",
        "plt.title('Distribusi Usia Pengguna')\n",
        "plt.xlabel('Usia')\n",
        "plt.ylabel('Jumlah Pengguna')\n",
        "plt.grid(True)\n",
        "plt.show()"
      ],
      "id": "a40e13b5ff4aa5d5",
      "outputs": [
        {
          "output_type": "display_data",
          "data": {
            "text/plain": [
              "<Figure size 1000x600 with 1 Axes>"
            ],
            "image/png": "[encoded data removed]"
          },
          "metadata": {}
        }
      ],
      "execution_count": null
    },
    {
      "cell_type": "markdown",
      "source": [
        "Dari hasil visualisasi distribusi usia pengguna, terlihat bahwa mayoritas pengguna berada pada rentang usia **20 hingga 50 tahun**, dengan puncak distribusi sekitar usia **30 tahun**.\n",
        "\n",
        "Terdapat beberapa nilai anomali di atas **100 tahun** bahkan mendekati **244 tahun**, yang kemungkinan merupakan kesalahan input data.\n",
        "Hal ini perlu diperhatikan pada tahap pembersihan data selanjutnya untuk menghindari bias dalam analisis lebih lanjut."
      ],
      "metadata": {
        "id": "synJdgRRBlwD"
      },
      "id": "synJdgRRBlwD"
    },
    {
      "cell_type": "markdown",
      "source": [
        "### Hasil EDA\n",
        "\n",
        "#### 1. 10 Buku dengan Rating Terbanyak\n",
        "\n",
        "Analisis ini mengambil 10 ISBN dengan jumlah rating terbanyak dari dataset ratings, kemudian menggabungkannya dengan data books untuk mendapatkan judul dan penulis.\n",
        "\n",
        "Buku berjudul **\"Wild Animus\"** tercatat sebagai buku dengan rating terbanyak, melebihi 2.500 rating. Jaraknya cukup jauh dibanding buku lain seperti *The Lovely Bones* dan *The Da Vinci Code*. Ini mengindikasikan bahwa buku tersebut kemungkinan besar mengalami promosi masif atau bahkan distribusi gratis dalam skala besar.\n",
        "\n",
        "Beberapa buku yang muncul dalam daftar merupakan buku bestseller yang cukup dikenal luas. Ini menunjukkan bahwa buku populer cenderung mendapat lebih banyak interaksi dari pengguna.\n",
        "\n",
        "Terdapat satu ISBN yang tidak memiliki informasi judul dan ditampilkan sebagai \"Unknown Title\", yang menandakan bahwa metadata dalam file books.csv tidak lengkap. Kondisi ini penting diperhatikan dalam pengembangan sistem rekomendasi, karena informasi seperti judul dan penulis sangat membantu dalam memberikan rekomendasi yang bermakna bagi pengguna.\n",
        "\n",
        "Data ini juga sangat cocok digunakan untuk metode **rekomendasi berbasis popularitas**, terutama untuk pengguna baru yang belum memiliki histori interaksi.\n",
        "\n",
        "---\n",
        "\n",
        "#### 2. Distribusi Nilai Rating Buku\n",
        "\n",
        "Visualisasi distribusi rating menunjukkan bahwa sebagian besar rating yang diberikan oleh pengguna adalah **rating 0**. Namun, rating valid dengan nilai tinggi seperti **8**, **9**, dan **10** juga cukup sering muncul. Ini menunjukkan adanya kecenderungan pengguna memberikan rating hanya pada buku yang mereka sukai.\n",
        "\n",
        "Ketimpangan antara rating 0 dan rating valid cukup besar. Rating 0 bisa dianggap sebagai bentuk implicit feedback, yaitu ketika pengguna telah membaca atau melihat buku namun tidak memberikan rating eksplisit.\n",
        "\n",
        "Distribusi ini perlu diperhatikan dalam pembangunan sistem rekomendasi, karena akan mempengaruhi pendekatan dalam memproses interaksi pengguna.\n",
        "\n",
        "---\n",
        "\n",
        "#### 3. Distribusi Usia Pengguna\n",
        "\n",
        "Hasil visualisasi distribusi usia pengguna menunjukkan bahwa sebagian besar pengguna berada dalam rentang usia **20 hingga 50 tahun**, dengan puncaknya di sekitar usia **30 tahun**. Ini mencerminkan bahwa pengguna aktif berada dalam usia produktif dan dewasa muda.\n",
        "\n",
        "Namun, terdapat nilai-nilai usia yang tidak wajar, seperti di atas 100 tahun hingga mendekati 244 tahun. Nilai-nilai ini kemungkinan besar merupakan kesalahan input dan perlu ditangani pada tahap data cleaning agar tidak mengganggu analisis dan modeling.\n",
        "\n",
        "---\n",
        "\n",
        "### Kesimpulan\n",
        "\n",
        "Hasil EDA memberikan gambaran awal mengenai karakteristik data dan pola-pola penting yang muncul:\n",
        "\n",
        "* Buku populer cenderung mendapat banyak rating, dan ini relevan untuk pendekatan rekomendasi berbasis popularitas.\n",
        "* Terdapat ketimpangan distribusi rating yang menunjukkan kecenderungan pengguna memberi rating hanya pada buku yang mereka sukai.\n",
        "* Usia pengguna mayoritas berada dalam rentang yang wajar, namun terdapat data anomali yang harus dibersihkan.\n",
        "* Kelengkapan metadata buku sangat penting dalam sistem rekomendasi.\n",
        "\n",
        "Tahapan selanjutnya sebaiknya difokuskan pada pembersihan data dan pemilihan strategi modeling yang sesuai dengan karakteristik data yang telah ditemukan.\n"
      ],
      "metadata": {
        "id": "E-rxnzH4Lo6F"
      },
      "id": "E-rxnzH4Lo6F"
    },
    {
      "metadata": {
        "id": "77f71b63458984a3"
      },
      "cell_type": "markdown",
      "source": [
        "# Data Preparation"
      ],
      "id": "77f71b63458984a3"
    },
    {
      "metadata": {
        "id": "e4f46ae3c9baf33d"
      },
      "cell_type": "markdown",
      "source": [
        "#### Handling Missing Value pada Kolom Age\n"
      ],
      "id": "e4f46ae3c9baf33d"
    },
    {
      "metadata": {
        "ExecuteTime": {
          "end_time": "2025-05-07T06:02:59.516035Z",
          "start_time": "2025-05-07T06:02:59.487928Z"
        },
        "id": "706ebe144686b75d",
        "outputId": "62bdb17a-cbec-4f1f-8df6-f4c32ec437cb",
        "colab": {
          "base_uri": "https://localhost:8080/"
        }
      },
      "cell_type": "code",
      "source": [
        "missing_before = users['Age'].isna().sum()\n",
        "print(f\"Jumlah missing value pada kolom Age sebelum imputasi: {missing_before}\")\n",
        "\n",
        "users['Age'] = users['Age'].fillna(users['Age'].median())\n",
        "missing_after = users['Age'].isna().sum()\n",
        "print(f\"Jumlah missing value pada kolom Age setelah imputasi: {missing_after}\")\n",
        "\n",
        "total_data = users.shape[0]\n",
        "print(f\"Jumlah total data setelah imputasi: {total_data}\")"
      ],
      "id": "706ebe144686b75d",
      "outputs": [
        {
          "output_type": "stream",
          "name": "stdout",
          "text": [
            "Jumlah missing value pada kolom Age sebelum imputasi: 110762\n",
            "Jumlah missing value pada kolom Age setelah imputasi: 0\n",
            "Jumlah total data setelah imputasi: 278858\n"
          ]
        }
      ],
      "execution_count": null
    },
    {
      "cell_type": "markdown",
      "source": [
        "Missing value pada kolom Age diatasi dengan cara imputasi menggunakan nilai median. Hal ini dilakukan karena jika baris dengan nilai Age yang kosong dihapus, maka akan menghilangkan 110.762 data atau sekitar 40% dari total dataset, yang tentu dapat berdampak signifikan terhadap representasi data secara keseluruhan.\n",
        "\n",
        "Meskipun kolom Age tidak digunakan sebagai fitur dalam pembuatan model rekomendasi, tetap dilakukan imputasi untuk menjaga konsistensi dan kelengkapan data, terutama jika kolom ini ingin dimanfaatkan untuk analisis tambahan di luar pemodelan.\n",
        "\n"
      ],
      "metadata": {
        "id": "QomIvc76TQJ7"
      },
      "id": "QomIvc76TQJ7"
    },
    {
      "cell_type": "markdown",
      "source": [
        "#### Handling Outlier pada Kolom Age"
      ],
      "metadata": {
        "id": "6PspJgCM9g41"
      },
      "id": "6PspJgCM9g41"
    },
    {
      "metadata": {
        "ExecuteTime": {
          "end_time": "2025-05-07T06:02:59.577920Z",
          "start_time": "2025-05-07T06:02:59.550201Z"
        },
        "id": "45a3c928a2111d35",
        "outputId": "d3b1aed0-3cc8-4ffe-fd64-13d47e1b7c5a",
        "colab": {
          "base_uri": "https://localhost:8080/"
        }
      },
      "cell_type": "code",
      "source": [
        "users = users[(users['Age'] >= 5) & (users['Age'] <= 100)]\n",
        "\n",
        "print('Jumlah data Users setelah membersihkan outlier Age:', users.shape)"
      ],
      "id": "45a3c928a2111d35",
      "outputs": [
        {
          "output_type": "stream",
          "name": "stdout",
          "text": [
            "Jumlah data Users setelah membersihkan outlier Age: (277610, 3)\n"
          ]
        }
      ],
      "execution_count": null
    },
    {
      "metadata": {
        "id": "6293b4c3704b2bc8"
      },
      "cell_type": "markdown",
      "source": [
        "Pada tahap ini, saya membersihkan data usia yang tidak masuk akal, seperti usia 0 tahun atau 244 tahun. Untuk menjaga kualitas data, hanya data dengan rentang usia 5–100 tahun yang dipertahankan.\n",
        "\n",
        "Metode: Filtering data menggunakan kondisi >= 5 dan <= 100.\n",
        "\n",
        "Hasil:\n",
        "\n",
        "* Sebelum filtering: 278.858 baris (setelah handle missing value).\n",
        "* Setelah filtering: 277.610 baris, 3 kolom."
      ],
      "id": "6293b4c3704b2bc8"
    },
    {
      "cell_type": "markdown",
      "source": [
        "#### Filtering Data Rating"
      ],
      "metadata": {
        "id": "jVupL5S4FtuE"
      },
      "id": "jVupL5S4FtuE"
    },
    {
      "metadata": {
        "ExecuteTime": {
          "end_time": "2025-05-07T06:02:59.657482Z",
          "start_time": "2025-05-07T06:02:59.613289Z"
        },
        "id": "6bb90d0fc8ca6e2c",
        "outputId": "53b77844-f0ee-4fb0-8233-704d3366a661",
        "colab": {
          "base_uri": "https://localhost:8080/"
        }
      },
      "cell_type": "code",
      "source": [
        "ratings = ratings[ratings['Book-Rating'] != 0]\n",
        "\n",
        "print('Jumlah data Ratings setelah menghapus rating 0:', ratings.shape)"
      ],
      "id": "6bb90d0fc8ca6e2c",
      "outputs": [
        {
          "output_type": "stream",
          "name": "stdout",
          "text": [
            "Jumlah data Ratings setelah menghapus rating 0: (433671, 3)\n"
          ]
        }
      ],
      "execution_count": null
    },
    {
      "metadata": {
        "id": "43534125cb425a19"
      },
      "cell_type": "markdown",
      "source": [
        "Nilai rating 0 dianggap sebagai \"tidak memberikan rating\" sehingga tidak memberi informasi yang berguna untuk sistem rekomendasi. Maka, rating 0 perlu dihapus.\n",
        "\n",
        "Metode: Filtering data dengan Book-Rating != 0.\n",
        "\n",
        "Hasil:\n",
        "* Sebelum filtering: 1.149.780 baris.\n",
        "* Setelah filtering: 433.671 baris, 3 kolom."
      ],
      "id": "43534125cb425a19"
    },
    {
      "cell_type": "markdown",
      "source": [
        "### Penyaringan Pengguna dan Buku Berdasarkan Aktivitas Minimum"
      ],
      "metadata": {
        "id": "ZcuGY0CJGep9"
      },
      "id": "ZcuGY0CJGep9"
    },
    {
      "metadata": {
        "ExecuteTime": {
          "end_time": "2025-05-07T06:03:00.001404Z",
          "start_time": "2025-05-07T06:02:59.693604Z"
        },
        "id": "4403afa66c8b52d1",
        "outputId": "5f616eba-617c-4a82-adc8-a545a2daa97a",
        "colab": {
          "base_uri": "https://localhost:8080/"
        }
      },
      "cell_type": "code",
      "source": [
        "user_counts = ratings['User-ID'].value_counts()\n",
        "\n",
        "active_users = user_counts[user_counts >= 3].index\n",
        "ratings = ratings[ratings['User-ID'].isin(active_users)]\n",
        "\n",
        "top_users = ratings['User-ID'].value_counts().head(2500).index\n",
        "ratings = ratings[ratings['User-ID'].isin(top_users)]\n",
        "\n",
        "book_counts = ratings['ISBN'].value_counts()\n",
        "\n",
        "popular_books = book_counts[book_counts >= 3].index\n",
        "ratings = ratings[ratings['ISBN'].isin(popular_books)]\n",
        "\n",
        "print('Jumlah data Ratings setelah filtering dan batas user:', ratings.shape)\n",
        "print('Jumlah user unik:', ratings['User-ID'].nunique())\n",
        "print('Jumlah buku unik:', ratings['ISBN'].nunique())\n"
      ],
      "id": "4403afa66c8b52d1",
      "outputs": [
        {
          "output_type": "stream",
          "name": "stdout",
          "text": [
            "Jumlah data Ratings setelah filtering dan batas user: (98401, 3)\n",
            "Jumlah user unik: 2469\n",
            "Jumlah buku unik: 15048\n"
          ]
        }
      ],
      "execution_count": null
    },
    {
      "metadata": {
        "id": "ff9c89890a129166"
      },
      "cell_type": "markdown",
      "source": [
        "Kode ini bertujuan untuk membersihkan dan membatasi data rating buku agar tidak terlalu besar ketika digunakan dalam pembuatan user-item matrix dan perhitungan cosine similarity. Proses ini dilakukan melalui beberapa tahap penyaringan sebagai berikut:\n",
        "\n",
        "Pertama, dilakukan perhitungan jumlah rating yang diberikan oleh setiap pengguna (User-ID). Kemudian, hanya pengguna yang memberikan minimal 3 rating yang dipertahankan, dengan tujuan menghapus pengguna yang terlalu pasif dan tidak memberikan kontribusi signifikan terhadap data.\n",
        "\n",
        "Setelah itu, dari pengguna aktif yang tersisa, hanya 2500 pengguna yang paling aktif (dalam hal jumlah rating terbanyak) yang dipilih. Langkah ini dilakukan untuk membatasi ukuran dataset, sehingga proses komputasi, seperti pembentukan matriks kesamaan antar pengguna, tetap efisien dan tidak menyebabkan kehabisan memori.\n",
        "\n",
        "Selanjutnya, dilakukan perhitungan jumlah rating yang diterima oleh setiap buku (ISBN), dan hanya buku yang menerima minimal 3 rating yang dipertahankan. Tujuannya adalah untuk mengurangi noise dari buku yang jarang diberi penilaian dan tidak cukup data untuk dianalisis.\n",
        "\n",
        "Terakhir, ukuran data hasil penyaringan ditampilkan, termasuk jumlah total baris data, jumlah pengguna unik, dan jumlah buku unik, sebagai validasi bahwa data sudah cukup bersih dan tidak terlalu besar untuk digunakan pada tahap berikutnya seperti pembentukan matriks dan perhitungan similarity."
      ],
      "id": "ff9c89890a129166"
    },
    {
      "cell_type": "markdown",
      "source": [
        "### Membuat List User-ID, ISBN, dan Book-Rating"
      ],
      "metadata": {
        "id": "mpZ1iB8lG2K5"
      },
      "id": "mpZ1iB8lG2K5"
    },
    {
      "metadata": {
        "ExecuteTime": {
          "end_time": "2025-05-07T06:03:00.078824Z",
          "start_time": "2025-05-07T06:03:00.050073Z"
        },
        "id": "f3e2aab7d3ce00bf",
        "outputId": "011cc2dc-b110-4d53-f3b8-c24fea38334a",
        "colab": {
          "base_uri": "https://localhost:8080/"
        }
      },
      "cell_type": "code",
      "source": [
        "# Membuat list User-ID, ISBN, dan Book-Rating\n",
        "user_id = ratings['User-ID'].tolist()\n",
        "isbn = ratings['ISBN'].tolist()\n",
        "book_rating = ratings['Book-Rating'].tolist()\n",
        "\n",
        "print('Jumlah data user_id:', len(user_id))\n",
        "print('Jumlah data isbn:', len(isbn))\n",
        "print('Jumlah data book_rating:', len(book_rating))"
      ],
      "id": "f3e2aab7d3ce00bf",
      "outputs": [
        {
          "output_type": "stream",
          "name": "stdout",
          "text": [
            "Jumlah data user_id: 98401\n",
            "Jumlah data isbn: 98401\n",
            "Jumlah data book_rating: 98401\n"
          ]
        }
      ],
      "execution_count": null
    },
    {
      "metadata": {
        "id": "59efb1b56885a7c4"
      },
      "cell_type": "markdown",
      "source": [
        "Pada tahap ini, saya mengubah tiga kolom penting dari dataset ratings yaitu User ID, ISBN, dan Book Rating menjadi bentuk list menggunakan fungsi .tolist(). Proses ini saya lakukan agar data lebih fleksibel untuk diolah pada tahap berikutnya, terutama saat pembuatan model.\n",
        "\n",
        "* Kolom User-ID saya simpan sebagai list user_id.\n",
        "* Kolom ISBN saya simpan sebagai list isbn.\n",
        "* Kolom Book-Rating saya simpan sebagai list book_rating."
      ],
      "id": "59efb1b56885a7c4"
    },
    {
      "cell_type": "markdown",
      "source": [
        "### Membuat DataFrame Clean untuk Modeling"
      ],
      "metadata": {
        "id": "EzyZbX56IGCW"
      },
      "id": "EzyZbX56IGCW"
    },
    {
      "metadata": {
        "ExecuteTime": {
          "end_time": "2025-05-07T06:03:00.251489Z",
          "start_time": "2025-05-07T06:03:00.128474Z"
        },
        "id": "39103ca994300b9a",
        "outputId": "5c385c6b-bc4a-4838-fe82-e926f4b4ab7f",
        "colab": {
          "base_uri": "https://localhost:8080/",
          "height": 424
        }
      },
      "cell_type": "code",
      "source": [
        "# Membuat DataFrame clean untuk modeling\n",
        "ratings_clean = pd.DataFrame({\n",
        "    'user_id': user_id,\n",
        "    'isbn': isbn,\n",
        "    'book_rating': book_rating\n",
        "})\n",
        "\n",
        "ratings_clean"
      ],
      "id": "39103ca994300b9a",
      "outputs": [
        {
          "output_type": "execute_result",
          "data": {
            "text/plain": [
              "       user_id        isbn  book_rating\n",
              "0       276847  3404148576            8\n",
              "1       276847  3404921178            7\n",
              "2       276847  3426029553            8\n",
              "3       276847  3442413508           10\n",
              "4       276847  3442437717            7\n",
              "...        ...         ...          ...\n",
              "98396   276688  0743202694           10\n",
              "98397   276688  0836218655           10\n",
              "98398   276688  0836236688           10\n",
              "98399   276688  0892966548           10\n",
              "98400   276688  1551669315            6\n",
              "\n",
              "[98401 rows x 3 columns]"
            ],
            "text/html": [
              "\n",
              "  <div id=\"df-dcdbca84-1007-4510-a1f5-b800362c752f\" class=\"colab-df-container\">\n",
              "    <div>\n",
              "<style scoped>\n",
              "    .dataframe tbody tr th:only-of-type {\n",
              "        vertical-align: middle;\n",
              "    }\n",
              "\n",
              "    .dataframe tbody tr th {\n",
              "        vertical-align: top;\n",
              "    }\n",
              "\n",
              "    .dataframe thead th {\n",
              "        text-align: right;\n",
              "    }\n",
              "</style>\n",
              "<table border=\"1\" class=\"dataframe\">\n",
              "  <thead>\n",
              "    <tr style=\"text-align: right;\">\n",
              "      <th></th>\n",
              "      <th>user_id</th>\n",
              "      <th>isbn</th>\n",
              "      <th>book_rating</th>\n",
              "    </tr>\n",
              "  </thead>\n",
              "  <tbody>\n",
              "    <tr>\n",
              "      <th>0</th>\n",
              "      <td>276847</td>\n",
              "      <td>3404148576</td>\n",
              "      <td>8</td>\n",
              "    </tr>\n",
              "    <tr>\n",
              "      <th>1</th>\n",
              "      <td>276847</td>\n",
              "      <td>3404921178</td>\n",
              "      <td>7</td>\n",
              "    </tr>\n",
              "    <tr>\n",
              "      <th>2</th>\n",
              "      <td>276847</td>\n",
              "      <td>3426029553</td>\n",
              "      <td>8</td>\n",
              "    </tr>\n",
              "    <tr>\n",
              "      <th>3</th>\n",
              "      <td>276847</td>\n",
              "      <td>3442413508</td>\n",
              "      <td>10</td>\n",
              "    </tr>\n",
              "    <tr>\n",
              "      <th>4</th>\n",
              "      <td>276847</td>\n",
              "      <td>3442437717</td>\n",
              "      <td>7</td>\n",
              "    </tr>\n",
              "    <tr>\n",
              "      <th>...</th>\n",
              "      <td>...</td>\n",
              "      <td>...</td>\n",
              "      <td>...</td>\n",
              "    </tr>\n",
              "    <tr>\n",
              "      <th>98396</th>\n",
              "      <td>276688</td>\n",
              "      <td>0743202694</td>\n",
              "      <td>10</td>\n",
              "    </tr>\n",
              "    <tr>\n",
              "      <th>98397</th>\n",
              "      <td>276688</td>\n",
              "      <td>0836218655</td>\n",
              "      <td>10</td>\n",
              "    </tr>\n",
              "    <tr>\n",
              "      <th>98398</th>\n",
              "      <td>276688</td>\n",
              "      <td>0836236688</td>\n",
              "      <td>10</td>\n",
              "    </tr>\n",
              "    <tr>\n",
              "      <th>98399</th>\n",
              "      <td>276688</td>\n",
              "      <td>0892966548</td>\n",
              "      <td>10</td>\n",
              "    </tr>\n",
              "    <tr>\n",
              "      <th>98400</th>\n",
              "      <td>276688</td>\n",
              "      <td>1551669315</td>\n",
              "      <td>6</td>\n",
              "    </tr>\n",
              "  </tbody>\n",
              "</table>\n",
              "<p>98401 rows × 3 columns</p>\n",
              "</div>\n",
              "    <div class=\"colab-df-buttons\">\n",
              "\n",
              "  <div class=\"colab-df-container\">\n",
              "    <button class=\"colab-df-convert\" onclick=\"convertToInteractive('df-dcdbca84-1007-4510-a1f5-b800362c752f')\"\n",
              "            title=\"Convert this dataframe to an interactive table.\"\n",
              "            style=\"display:none;\">\n",
              "\n",
              "  <svg xmlns=\"http://www.w3.org/2000/svg\" height=\"24px\" viewBox=\"0 -960 960 960\">\n",
              "    <path d=\"M120-120v-720h720v720H120Zm60-500h600v-160H180v160Zm220 220h160v-160H400v160Zm0 220h160v-160H400v160ZM180-400h160v-160H180v160Zm440 0h160v-160H620v160ZM180-180h160v-160H180v160Zm440 0h160v-160H620v160Z\"/>\n",
              "  </svg>\n",
              "    </button>\n",
              "\n",
              "  <style>\n",
              "    .colab-df-container {\n",
              "      display:flex;\n",
              "      gap: 12px;\n",
              "    }\n",
              "\n",
              "    .colab-df-convert {\n",
              "      background-color: #E8F0FE;\n",
              "      border: none;\n",
              "      border-radius: 50%;\n",
              "      cursor: pointer;\n",
              "      display: none;\n",
              "      fill: #1967D2;\n",
              "      height: 32px;\n",
              "      padding: 0 0 0 0;\n",
              "      width: 32px;\n",
              "    }\n",
              "\n",
              "    .colab-df-convert:hover {\n",
              "      background-color: #E2EBFA;\n",
              "      box-shadow: 0px 1px 2px rgba(60, 64, 67, 0.3), 0px 1px 3px 1px rgba(60, 64, 67, 0.15);\n",
              "      fill: #174EA6;\n",
              "    }\n",
              "\n",
              "    .colab-df-buttons div {\n",
              "      margin-bottom: 4px;\n",
              "    }\n",
              "\n",
              "    [theme=dark] .colab-df-convert {\n",
              "      background-color: #3B4455;\n",
              "      fill: #D2E3FC;\n",
              "    }\n",
              "\n",
              "    [theme=dark] .colab-df-convert:hover {\n",
              "      background-color: #434B5C;\n",
              "      box-shadow: 0px 1px 3px 1px rgba(0, 0, 0, 0.15);\n",
              "      filter: drop-shadow(0px 1px 2px rgba(0, 0, 0, 0.3));\n",
              "      fill: #FFFFFF;\n",
              "    }\n",
              "  </style>\n",
              "\n",
              "    <script>\n",
              "      const buttonEl =\n",
              "        document.querySelector('#df-dcdbca84-1007-4510-a1f5-b800362c752f button.colab-df-convert');\n",
              "      buttonEl.style.display =\n",
              "        google.colab.kernel.accessAllowed ? 'block' : 'none';\n",
              "\n",
              "      async function convertToInteractive(key) {\n",
              "        const element = document.querySelector('#df-dcdbca84-1007-4510-a1f5-b800362c752f');\n",
              "        const dataTable =\n",
              "          await google.colab.kernel.invokeFunction('convertToInteractive',\n",
              "                                                    [key], {});\n",
              "        if (!dataTable) return;\n",
              "\n",
              "        const docLinkHtml = 'Like what you see? Visit the ' +\n",
              "          '<a target=\"_blank\" href=https://colab.research.google.com/notebooks/data_table.ipynb>data table notebook</a>'\n",
              "          + ' to learn more about interactive tables.';\n",
              "        element.innerHTML = '';\n",
              "        dataTable['output_type'] = 'display_data';\n",
              "        await google.colab.output.renderOutput(dataTable, element);\n",
              "        const docLink = document.createElement('div');\n",
              "        docLink.innerHTML = docLinkHtml;\n",
              "        element.appendChild(docLink);\n",
              "      }\n",
              "    </script>\n",
              "  </div>\n",
              "\n",
              "\n",
              "    <div id=\"df-b616e3e0-209b-4de2-ac90-d3b39b8bcb68\">\n",
              "      <button class=\"colab-df-quickchart\" onclick=\"quickchart('df-b616e3e0-209b-4de2-ac90-d3b39b8bcb68')\"\n",
              "                title=\"Suggest charts\"\n",
              "                style=\"display:none;\">\n",
              "\n",
              "<svg xmlns=\"http://www.w3.org/2000/svg\" height=\"24px\"viewBox=\"0 0 24 24\"\n",
              "     width=\"24px\">\n",
              "    <g>\n",
              "        <path d=\"M19 3H5c-1.1 0-2 .9-2 2v14c0 1.1.9 2 2 2h14c1.1 0 2-.9 2-2V5c0-1.1-.9-2-2-2zM9 17H7v-7h2v7zm4 0h-2V7h2v10zm4 0h-2v-4h2v4z\"/>\n",
              "    </g>\n",
              "</svg>\n",
              "      </button>\n",
              "\n",
              "<style>\n",
              "  .colab-df-quickchart {\n",
              "      --bg-color: #E8F0FE;\n",
              "      --fill-color: #1967D2;\n",
              "      --hover-bg-color: #E2EBFA;\n",
              "      --hover-fill-color: #174EA6;\n",
              "      --disabled-fill-color: #AAA;\n",
              "      --disabled-bg-color: #DDD;\n",
              "  }\n",
              "\n",
              "  [theme=dark] .colab-df-quickchart {\n",
              "      --bg-color: #3B4455;\n",
              "      --fill-color: #D2E3FC;\n",
              "      --hover-bg-color: #434B5C;\n",
              "      --hover-fill-color: #FFFFFF;\n",
              "      --disabled-bg-color: #3B4455;\n",
              "      --disabled-fill-color: #666;\n",
              "  }\n",
              "\n",
              "  .colab-df-quickchart {\n",
              "    background-color: var(--bg-color);\n",
              "    border: none;\n",
              "    border-radius: 50%;\n",
              "    cursor: pointer;\n",
              "    display: none;\n",
              "    fill: var(--fill-color);\n",
              "    height: 32px;\n",
              "    padding: 0;\n",
              "    width: 32px;\n",
              "  }\n",
              "\n",
              "  .colab-df-quickchart:hover {\n",
              "    background-color: var(--hover-bg-color);\n",
              "    box-shadow: 0 1px 2px rgba(60, 64, 67, 0.3), 0 1px 3px 1px rgba(60, 64, 67, 0.15);\n",
              "    fill: var(--button-hover-fill-color);\n",
              "  }\n",
              "\n",
              "  .colab-df-quickchart-complete:disabled,\n",
              "  .colab-df-quickchart-complete:disabled:hover {\n",
              "    background-color: var(--disabled-bg-color);\n",
              "    fill: var(--disabled-fill-color);\n",
              "    box-shadow: none;\n",
              "  }\n",
              "\n",
              "  .colab-df-spinner {\n",
              "    border: 2px solid var(--fill-color);\n",
              "    border-color: transparent;\n",
              "    border-bottom-color: var(--fill-color);\n",
              "    animation:\n",
              "      spin 1s steps(1) infinite;\n",
              "  }\n",
              "\n",
              "  @keyframes spin {\n",
              "    0% {\n",
              "      border-color: transparent;\n",
              "      border-bottom-color: var(--fill-color);\n",
              "      border-left-color: var(--fill-color);\n",
              "    }\n",
              "    20% {\n",
              "      border-color: transparent;\n",
              "      border-left-color: var(--fill-color);\n",
              "      border-top-color: var(--fill-color);\n",
              "    }\n",
              "    30% {\n",
              "      border-color: transparent;\n",
              "      border-left-color: var(--fill-color);\n",
              "      border-top-color: var(--fill-color);\n",
              "      border-right-color: var(--fill-color);\n",
              "    }\n",
              "    40% {\n",
              "      border-color: transparent;\n",
              "      border-right-color: var(--fill-color);\n",
              "      border-top-color: var(--fill-color);\n",
              "    }\n",
              "    60% {\n",
              "      border-color: transparent;\n",
              "      border-right-color: var(--fill-color);\n",
              "    }\n",
              "    80% {\n",
              "      border-color: transparent;\n",
              "      border-right-color: var(--fill-color);\n",
              "      border-bottom-color: var(--fill-color);\n",
              "    }\n",
              "    90% {\n",
              "      border-color: transparent;\n",
              "      border-bottom-color: var(--fill-color);\n",
              "    }\n",
              "  }\n",
              "</style>\n",
              "\n",
              "      <script>\n",
              "        async function quickchart(key) {\n",
              "          const quickchartButtonEl =\n",
              "            document.querySelector('#' + key + ' button');\n",
              "          quickchartButtonEl.disabled = true;  // To prevent multiple clicks.\n",
              "          quickchartButtonEl.classList.add('colab-df-spinner');\n",
              "          try {\n",
              "            const charts = await google.colab.kernel.invokeFunction(\n",
              "                'suggestCharts', [key], {});\n",
              "          } catch (error) {\n",
              "            console.error('Error during call to suggestCharts:', error);\n",
              "          }\n",
              "          quickchartButtonEl.classList.remove('colab-df-spinner');\n",
              "          quickchartButtonEl.classList.add('colab-df-quickchart-complete');\n",
              "        }\n",
              "        (() => {\n",
              "          let quickchartButtonEl =\n",
              "            document.querySelector('#df-b616e3e0-209b-4de2-ac90-d3b39b8bcb68 button');\n",
              "          quickchartButtonEl.style.display =\n",
              "            google.colab.kernel.accessAllowed ? 'block' : 'none';\n",
              "        })();\n",
              "      </script>\n",
              "    </div>\n",
              "\n",
              "  <div id=\"id_c19f83aa-12e3-4600-90ba-7b1ab71f5839\">\n",
              "    <style>\n",
              "      .colab-df-generate {\n",
              "        background-color: #E8F0FE;\n",
              "        border: none;\n",
              "        border-radius: 50%;\n",
              "        cursor: pointer;\n",
              "        display: none;\n",
              "        fill: #1967D2;\n",
              "        height: 32px;\n",
              "        padding: 0 0 0 0;\n",
              "        width: 32px;\n",
              "      }\n",
              "\n",
              "      .colab-df-generate:hover {\n",
              "        background-color: #E2EBFA;\n",
              "        box-shadow: 0px 1px 2px rgba(60, 64, 67, 0.3), 0px 1px 3px 1px rgba(60, 64, 67, 0.15);\n",
              "        fill: #174EA6;\n",
              "      }\n",
              "\n",
              "      [theme=dark] .colab-df-generate {\n",
              "        background-color: #3B4455;\n",
              "        fill: #D2E3FC;\n",
              "      }\n",
              "\n",
              "      [theme=dark] .colab-df-generate:hover {\n",
              "        background-color: #434B5C;\n",
              "        box-shadow: 0px 1px 3px 1px rgba(0, 0, 0, 0.15);\n",
              "        filter: drop-shadow(0px 1px 2px rgba(0, 0, 0, 0.3));\n",
              "        fill: #FFFFFF;\n",
              "      }\n",
              "    </style>\n",
              "    <button class=\"colab-df-generate\" onclick=\"generateWithVariable('ratings_clean')\"\n",
              "            title=\"Generate code using this dataframe.\"\n",
              "            style=\"display:none;\">\n",
              "\n",
              "  <svg xmlns=\"http://www.w3.org/2000/svg\" height=\"24px\"viewBox=\"0 0 24 24\"\n",
              "       width=\"24px\">\n",
              "    <path d=\"M7,19H8.4L18.45,9,17,7.55,7,17.6ZM5,21V16.75L18.45,3.32a2,2,0,0,1,2.83,0l1.4,1.43a1.91,1.91,0,0,1,.58,1.4,1.91,1.91,0,0,1-.58,1.4L9.25,21ZM18.45,9,17,7.55Zm-12,3A5.31,5.31,0,0,0,4.9,8.1,5.31,5.31,0,0,0,1,6.5,5.31,5.31,0,0,0,4.9,4.9,5.31,5.31,0,0,0,6.5,1,5.31,5.31,0,0,0,8.1,4.9,5.31,5.31,0,0,0,12,6.5,5.46,5.46,0,0,0,6.5,12Z\"/>\n",
              "  </svg>\n",
              "    </button>\n",
              "    <script>\n",
              "      (() => {\n",
              "      const buttonEl =\n",
              "        document.querySelector('#id_c19f83aa-12e3-4600-90ba-7b1ab71f5839 button.colab-df-generate');\n",
              "      buttonEl.style.display =\n",
              "        google.colab.kernel.accessAllowed ? 'block' : 'none';\n",
              "\n",
              "      buttonEl.onclick = () => {\n",
              "        google.colab.notebook.generateWithVariable('ratings_clean');\n",
              "      }\n",
              "      })();\n",
              "    </script>\n",
              "  </div>\n",
              "\n",
              "    </div>\n",
              "  </div>\n"
            ],
            "application/vnd.google.colaboratory.intrinsic+json": {
              "type": "dataframe",
              "variable_name": "ratings_clean",
              "summary": "{\n  \"name\": \"ratings_clean\",\n  \"rows\": 98401,\n  \"fields\": [\n    {\n      \"column\": \"user_id\",\n      \"properties\": {\n        \"dtype\": \"number\",\n        \"std\": 81044,\n        \"min\": 242,\n        \"max\": 278633,\n        \"num_unique_values\": 2469,\n        \"samples\": [\n          227705,\n          160943,\n          189227\n        ],\n        \"semantic_type\": \"\",\n        \"description\": \"\"\n      }\n    },\n    {\n      \"column\": \"isbn\",\n      \"properties\": {\n        \"dtype\": \"category\",\n        \"num_unique_values\": 15048,\n        \"samples\": [\n          \"0786862564\",\n          \"0380780755\",\n          \"0345385993\"\n        ],\n        \"semantic_type\": \"\",\n        \"description\": \"\"\n      }\n    },\n    {\n      \"column\": \"book_rating\",\n      \"properties\": {\n        \"dtype\": \"number\",\n        \"std\": 1,\n        \"min\": 1,\n        \"max\": 10,\n        \"num_unique_values\": 10,\n        \"samples\": [\n          4,\n          7,\n          2\n        ],\n        \"semantic_type\": \"\",\n        \"description\": \"\"\n      }\n    }\n  ]\n}"
            }
          },
          "metadata": {},
          "execution_count": 34
        }
      ],
      "execution_count": null
    },
    {
      "metadata": {
        "id": "fdbce21070aba4a2"
      },
      "cell_type": "markdown",
      "source": [
        "Setelah konversi ke list, saya membuat DataFrame baru bernama ratings_clean yang berisi tiga kolom utama tersebut. Pembentukan DataFrame ini bertujuan untuk menyediakan data yang lebih terstruktur dan bersih, sehingga memudahkan dalam proses modeling sistem rekomendasi nantinya."
      ],
      "id": "fdbce21070aba4a2"
    },
    {
      "cell_type": "markdown",
      "source": [
        "### Membuat User-Item Matrix untuk Collaborative Filtering"
      ],
      "metadata": {
        "id": "cBNYvZf-IKF6"
      },
      "id": "cBNYvZf-IKF6"
    },
    {
      "metadata": {
        "ExecuteTime": {
          "end_time": "2025-05-07T06:03:30.308188Z",
          "start_time": "2025-05-07T06:03:00.349094Z"
        },
        "id": "8475838360e794af",
        "outputId": "a6e4bc49-6721-4ac8-a5c5-9562a497372b",
        "colab": {
          "base_uri": "https://localhost:8080/",
          "height": 285
        }
      },
      "cell_type": "code",
      "source": [
        "user_item_matrix = ratings_clean.pivot_table(index='user_id', columns='isbn', values='book_rating')\n",
        "\n",
        "print('User-Item Matrix Shape:', user_item_matrix.shape)\n",
        "\n",
        "user_item_matrix.head()"
      ],
      "id": "8475838360e794af",
      "outputs": [
        {
          "output_type": "stream",
          "name": "stdout",
          "text": [
            "User-Item Matrix Shape: (2469, 15048)\n"
          ]
        },
        {
          "output_type": "execute_result",
          "data": {
            "text/plain": [
              "isbn     0002005018  0002116286  0002251760  0002259001  0002550563  \\\n",
              "user_id                                                               \n",
              "242             NaN         NaN         NaN         NaN         NaN   \n",
              "254             NaN         NaN         NaN         NaN         NaN   \n",
              "507             NaN         NaN         NaN         NaN         NaN   \n",
              "638             NaN         NaN         NaN         NaN         NaN   \n",
              "643             NaN         NaN         NaN         NaN         NaN   \n",
              "\n",
              "isbn     0003300277  000458726X  0006157629  0006472427  0006475973  ...  \\\n",
              "user_id                                                              ...   \n",
              "242             NaN         NaN         NaN         NaN         NaN  ...   \n",
              "254             NaN         NaN         NaN         NaN         NaN  ...   \n",
              "507             NaN         NaN         NaN         NaN         NaN  ...   \n",
              "638             NaN         NaN         NaN         NaN         NaN  ...   \n",
              "643             NaN         NaN         NaN         NaN         NaN  ...   \n",
              "\n",
              "isbn     9726101794  972708253X  9727591965  9727722458  9728605161  \\\n",
              "user_id                                                               \n",
              "242             NaN         NaN         NaN         NaN         NaN   \n",
              "254             NaN         NaN         NaN         NaN         NaN   \n",
              "507             NaN         NaN         NaN         NaN         NaN   \n",
              "638             NaN         NaN         NaN         NaN         NaN   \n",
              "643             NaN         NaN         NaN         NaN         NaN   \n",
              "\n",
              "isbn     9812327975  9871138148  987932504  B00009EF82  B0000AA9IZ  \n",
              "user_id                                                             \n",
              "242             NaN         NaN        NaN         NaN         NaN  \n",
              "254             NaN         NaN        NaN         NaN         NaN  \n",
              "507             NaN         NaN        NaN         NaN         NaN  \n",
              "638             NaN         NaN        NaN         NaN         NaN  \n",
              "643             NaN         NaN        NaN         NaN         NaN  \n",
              "\n",
              "[5 rows x 15048 columns]"
            ],
            "text/html": [
              "\n",
              "  <div id=\"df-40d63f95-7eb5-48a7-ae5d-d9a00012892c\" class=\"colab-df-container\">\n",
              "    <div>\n",
              "<style scoped>\n",
              "    .dataframe tbody tr th:only-of-type {\n",
              "        vertical-align: middle;\n",
              "    }\n",
              "\n",
              "    .dataframe tbody tr th {\n",
              "        vertical-align: top;\n",
              "    }\n",
              "\n",
              "    .dataframe thead th {\n",
              "        text-align: right;\n",
              "    }\n",
              "</style>\n",
              "<table border=\"1\" class=\"dataframe\">\n",
              "  <thead>\n",
              "    <tr style=\"text-align: right;\">\n",
              "      <th>isbn</th>\n",
              "      <th>0002005018</th>\n",
              "      <th>0002116286</th>\n",
              "      <th>0002251760</th>\n",
              "      <th>0002259001</th>\n",
              "      <th>0002550563</th>\n",
              "      <th>0003300277</th>\n",
              "      <th>000458726X</th>\n",
              "      <th>0006157629</th>\n",
              "      <th>0006472427</th>\n",
              "      <th>0006475973</th>\n",
              "      <th>...</th>\n",
              "      <th>9726101794</th>\n",
              "      <th>972708253X</th>\n",
              "      <th>9727591965</th>\n",
              "      <th>9727722458</th>\n",
              "      <th>9728605161</th>\n",
              "      <th>9812327975</th>\n",
              "      <th>9871138148</th>\n",
              "      <th>987932504</th>\n",
              "      <th>B00009EF82</th>\n",
              "      <th>B0000AA9IZ</th>\n",
              "    </tr>\n",
              "    <tr>\n",
              "      <th>user_id</th>\n",
              "      <th></th>\n",
              "      <th></th>\n",
              "      <th></th>\n",
              "      <th></th>\n",
              "      <th></th>\n",
              "      <th></th>\n",
              "      <th></th>\n",
              "      <th></th>\n",
              "      <th></th>\n",
              "      <th></th>\n",
              "      <th></th>\n",
              "      <th></th>\n",
              "      <th></th>\n",
              "      <th></th>\n",
              "      <th></th>\n",
              "      <th></th>\n",
              "      <th></th>\n",
              "      <th></th>\n",
              "      <th></th>\n",
              "      <th></th>\n",
              "      <th></th>\n",
              "    </tr>\n",
              "  </thead>\n",
              "  <tbody>\n",
              "    <tr>\n",
              "      <th>242</th>\n",
              "      <td>NaN</td>\n",
              "      <td>NaN</td>\n",
              "      <td>NaN</td>\n",
              "      <td>NaN</td>\n",
              "      <td>NaN</td>\n",
              "      <td>NaN</td>\n",
              "      <td>NaN</td>\n",
              "      <td>NaN</td>\n",
              "      <td>NaN</td>\n",
              "      <td>NaN</td>\n",
              "      <td>...</td>\n",
              "      <td>NaN</td>\n",
              "      <td>NaN</td>\n",
              "      <td>NaN</td>\n",
              "      <td>NaN</td>\n",
              "      <td>NaN</td>\n",
              "      <td>NaN</td>\n",
              "      <td>NaN</td>\n",
              "      <td>NaN</td>\n",
              "      <td>NaN</td>\n",
              "      <td>NaN</td>\n",
              "    </tr>\n",
              "    <tr>\n",
              "      <th>254</th>\n",
              "      <td>NaN</td>\n",
              "      <td>NaN</td>\n",
              "      <td>NaN</td>\n",
              "      <td>NaN</td>\n",
              "      <td>NaN</td>\n",
              "      <td>NaN</td>\n",
              "      <td>NaN</td>\n",
              "      <td>NaN</td>\n",
              "      <td>NaN</td>\n",
              "      <td>NaN</td>\n",
              "      <td>...</td>\n",
              "      <td>NaN</td>\n",
              "      <td>NaN</td>\n",
              "      <td>NaN</td>\n",
              "      <td>NaN</td>\n",
              "      <td>NaN</td>\n",
              "      <td>NaN</td>\n",
              "      <td>NaN</td>\n",
              "      <td>NaN</td>\n",
              "      <td>NaN</td>\n",
              "      <td>NaN</td>\n",
              "    </tr>\n",
              "    <tr>\n",
              "      <th>507</th>\n",
              "      <td>NaN</td>\n",
              "      <td>NaN</td>\n",
              "      <td>NaN</td>\n",
              "      <td>NaN</td>\n",
              "      <td>NaN</td>\n",
              "      <td>NaN</td>\n",
              "      <td>NaN</td>\n",
              "      <td>NaN</td>\n",
              "      <td>NaN</td>\n",
              "      <td>NaN</td>\n",
              "      <td>...</td>\n",
              "      <td>NaN</td>\n",
              "      <td>NaN</td>\n",
              "      <td>NaN</td>\n",
              "      <td>NaN</td>\n",
              "      <td>NaN</td>\n",
              "      <td>NaN</td>\n",
              "      <td>NaN</td>\n",
              "      <td>NaN</td>\n",
              "      <td>NaN</td>\n",
              "      <td>NaN</td>\n",
              "    </tr>\n",
              "    <tr>\n",
              "      <th>638</th>\n",
              "      <td>NaN</td>\n",
              "      <td>NaN</td>\n",
              "      <td>NaN</td>\n",
              "      <td>NaN</td>\n",
              "      <td>NaN</td>\n",
              "      <td>NaN</td>\n",
              "      <td>NaN</td>\n",
              "      <td>NaN</td>\n",
              "      <td>NaN</td>\n",
              "      <td>NaN</td>\n",
              "      <td>...</td>\n",
              "      <td>NaN</td>\n",
              "      <td>NaN</td>\n",
              "      <td>NaN</td>\n",
              "      <td>NaN</td>\n",
              "      <td>NaN</td>\n",
              "      <td>NaN</td>\n",
              "      <td>NaN</td>\n",
              "      <td>NaN</td>\n",
              "      <td>NaN</td>\n",
              "      <td>NaN</td>\n",
              "    </tr>\n",
              "    <tr>\n",
              "      <th>643</th>\n",
              "      <td>NaN</td>\n",
              "      <td>NaN</td>\n",
              "      <td>NaN</td>\n",
              "      <td>NaN</td>\n",
              "      <td>NaN</td>\n",
              "      <td>NaN</td>\n",
              "      <td>NaN</td>\n",
              "      <td>NaN</td>\n",
              "      <td>NaN</td>\n",
              "      <td>NaN</td>\n",
              "      <td>...</td>\n",
              "      <td>NaN</td>\n",
              "      <td>NaN</td>\n",
              "      <td>NaN</td>\n",
              "      <td>NaN</td>\n",
              "      <td>NaN</td>\n",
              "      <td>NaN</td>\n",
              "      <td>NaN</td>\n",
              "      <td>NaN</td>\n",
              "      <td>NaN</td>\n",
              "      <td>NaN</td>\n",
              "    </tr>\n",
              "  </tbody>\n",
              "</table>\n",
              "<p>5 rows × 15048 columns</p>\n",
              "</div>\n",
              "    <div class=\"colab-df-buttons\">\n",
              "\n",
              "  <div class=\"colab-df-container\">\n",
              "    <button class=\"colab-df-convert\" onclick=\"convertToInteractive('df-40d63f95-7eb5-48a7-ae5d-d9a00012892c')\"\n",
              "            title=\"Convert this dataframe to an interactive table.\"\n",
              "            style=\"display:none;\">\n",
              "\n",
              "  <svg xmlns=\"http://www.w3.org/2000/svg\" height=\"24px\" viewBox=\"0 -960 960 960\">\n",
              "    <path d=\"M120-120v-720h720v720H120Zm60-500h600v-160H180v160Zm220 220h160v-160H400v160Zm0 220h160v-160H400v160ZM180-400h160v-160H180v160Zm440 0h160v-160H620v160ZM180-180h160v-160H180v160Zm440 0h160v-160H620v160Z\"/>\n",
              "  </svg>\n",
              "    </button>\n",
              "\n",
              "  <style>\n",
              "    .colab-df-container {\n",
              "      display:flex;\n",
              "      gap: 12px;\n",
              "    }\n",
              "\n",
              "    .colab-df-convert {\n",
              "      background-color: #E8F0FE;\n",
              "      border: none;\n",
              "      border-radius: 50%;\n",
              "      cursor: pointer;\n",
              "      display: none;\n",
              "      fill: #1967D2;\n",
              "      height: 32px;\n",
              "      padding: 0 0 0 0;\n",
              "      width: 32px;\n",
              "    }\n",
              "\n",
              "    .colab-df-convert:hover {\n",
              "      background-color: #E2EBFA;\n",
              "      box-shadow: 0px 1px 2px rgba(60, 64, 67, 0.3), 0px 1px 3px 1px rgba(60, 64, 67, 0.15);\n",
              "      fill: #174EA6;\n",
              "    }\n",
              "\n",
              "    .colab-df-buttons div {\n",
              "      margin-bottom: 4px;\n",
              "    }\n",
              "\n",
              "    [theme=dark] .colab-df-convert {\n",
              "      background-color: #3B4455;\n",
              "      fill: #D2E3FC;\n",
              "    }\n",
              "\n",
              "    [theme=dark] .colab-df-convert:hover {\n",
              "      background-color: #434B5C;\n",
              "      box-shadow: 0px 1px 3px 1px rgba(0, 0, 0, 0.15);\n",
              "      filter: drop-shadow(0px 1px 2px rgba(0, 0, 0, 0.3));\n",
              "      fill: #FFFFFF;\n",
              "    }\n",
              "  </style>\n",
              "\n",
              "    <script>\n",
              "      const buttonEl =\n",
              "        document.querySelector('#df-40d63f95-7eb5-48a7-ae5d-d9a00012892c button.colab-df-convert');\n",
              "      buttonEl.style.display =\n",
              "        google.colab.kernel.accessAllowed ? 'block' : 'none';\n",
              "\n",
              "      async function convertToInteractive(key) {\n",
              "        const element = document.querySelector('#df-40d63f95-7eb5-48a7-ae5d-d9a00012892c');\n",
              "        const dataTable =\n",
              "          await google.colab.kernel.invokeFunction('convertToInteractive',\n",
              "                                                    [key], {});\n",
              "        if (!dataTable) return;\n",
              "\n",
              "        const docLinkHtml = 'Like what you see? Visit the ' +\n",
              "          '<a target=\"_blank\" href=https://colab.research.google.com/notebooks/data_table.ipynb>data table notebook</a>'\n",
              "          + ' to learn more about interactive tables.';\n",
              "        element.innerHTML = '';\n",
              "        dataTable['output_type'] = 'display_data';\n",
              "        await google.colab.output.renderOutput(dataTable, element);\n",
              "        const docLink = document.createElement('div');\n",
              "        docLink.innerHTML = docLinkHtml;\n",
              "        element.appendChild(docLink);\n",
              "      }\n",
              "    </script>\n",
              "  </div>\n",
              "\n",
              "\n",
              "    <div id=\"df-a0459152-f701-4cd7-963c-875e5d2070fb\">\n",
              "      <button class=\"colab-df-quickchart\" onclick=\"quickchart('df-a0459152-f701-4cd7-963c-875e5d2070fb')\"\n",
              "                title=\"Suggest charts\"\n",
              "                style=\"display:none;\">\n",
              "\n",
              "<svg xmlns=\"http://www.w3.org/2000/svg\" height=\"24px\"viewBox=\"0 0 24 24\"\n",
              "     width=\"24px\">\n",
              "    <g>\n",
              "        <path d=\"M19 3H5c-1.1 0-2 .9-2 2v14c0 1.1.9 2 2 2h14c1.1 0 2-.9 2-2V5c0-1.1-.9-2-2-2zM9 17H7v-7h2v7zm4 0h-2V7h2v10zm4 0h-2v-4h2v4z\"/>\n",
              "    </g>\n",
              "</svg>\n",
              "      </button>\n",
              "\n",
              "<style>\n",
              "  .colab-df-quickchart {\n",
              "      --bg-color: #E8F0FE;\n",
              "      --fill-color: #1967D2;\n",
              "      --hover-bg-color: #E2EBFA;\n",
              "      --hover-fill-color: #174EA6;\n",
              "      --disabled-fill-color: #AAA;\n",
              "      --disabled-bg-color: #DDD;\n",
              "  }\n",
              "\n",
              "  [theme=dark] .colab-df-quickchart {\n",
              "      --bg-color: #3B4455;\n",
              "      --fill-color: #D2E3FC;\n",
              "      --hover-bg-color: #434B5C;\n",
              "      --hover-fill-color: #FFFFFF;\n",
              "      --disabled-bg-color: #3B4455;\n",
              "      --disabled-fill-color: #666;\n",
              "  }\n",
              "\n",
              "  .colab-df-quickchart {\n",
              "    background-color: var(--bg-color);\n",
              "    border: none;\n",
              "    border-radius: 50%;\n",
              "    cursor: pointer;\n",
              "    display: none;\n",
              "    fill: var(--fill-color);\n",
              "    height: 32px;\n",
              "    padding: 0;\n",
              "    width: 32px;\n",
              "  }\n",
              "\n",
              "  .colab-df-quickchart:hover {\n",
              "    background-color: var(--hover-bg-color);\n",
              "    box-shadow: 0 1px 2px rgba(60, 64, 67, 0.3), 0 1px 3px 1px rgba(60, 64, 67, 0.15);\n",
              "    fill: var(--button-hover-fill-color);\n",
              "  }\n",
              "\n",
              "  .colab-df-quickchart-complete:disabled,\n",
              "  .colab-df-quickchart-complete:disabled:hover {\n",
              "    background-color: var(--disabled-bg-color);\n",
              "    fill: var(--disabled-fill-color);\n",
              "    box-shadow: none;\n",
              "  }\n",
              "\n",
              "  .colab-df-spinner {\n",
              "    border: 2px solid var(--fill-color);\n",
              "    border-color: transparent;\n",
              "    border-bottom-color: var(--fill-color);\n",
              "    animation:\n",
              "      spin 1s steps(1) infinite;\n",
              "  }\n",
              "\n",
              "  @keyframes spin {\n",
              "    0% {\n",
              "      border-color: transparent;\n",
              "      border-bottom-color: var(--fill-color);\n",
              "      border-left-color: var(--fill-color);\n",
              "    }\n",
              "    20% {\n",
              "      border-color: transparent;\n",
              "      border-left-color: var(--fill-color);\n",
              "      border-top-color: var(--fill-color);\n",
              "    }\n",
              "    30% {\n",
              "      border-color: transparent;\n",
              "      border-left-color: var(--fill-color);\n",
              "      border-top-color: var(--fill-color);\n",
              "      border-right-color: var(--fill-color);\n",
              "    }\n",
              "    40% {\n",
              "      border-color: transparent;\n",
              "      border-right-color: var(--fill-color);\n",
              "      border-top-color: var(--fill-color);\n",
              "    }\n",
              "    60% {\n",
              "      border-color: transparent;\n",
              "      border-right-color: var(--fill-color);\n",
              "    }\n",
              "    80% {\n",
              "      border-color: transparent;\n",
              "      border-right-color: var(--fill-color);\n",
              "      border-bottom-color: var(--fill-color);\n",
              "    }\n",
              "    90% {\n",
              "      border-color: transparent;\n",
              "      border-bottom-color: var(--fill-color);\n",
              "    }\n",
              "  }\n",
              "</style>\n",
              "\n",
              "      <script>\n",
              "        async function quickchart(key) {\n",
              "          const quickchartButtonEl =\n",
              "            document.querySelector('#' + key + ' button');\n",
              "          quickchartButtonEl.disabled = true;  // To prevent multiple clicks.\n",
              "          quickchartButtonEl.classList.add('colab-df-spinner');\n",
              "          try {\n",
              "            const charts = await google.colab.kernel.invokeFunction(\n",
              "                'suggestCharts', [key], {});\n",
              "          } catch (error) {\n",
              "            console.error('Error during call to suggestCharts:', error);\n",
              "          }\n",
              "          quickchartButtonEl.classList.remove('colab-df-spinner');\n",
              "          quickchartButtonEl.classList.add('colab-df-quickchart-complete');\n",
              "        }\n",
              "        (() => {\n",
              "          let quickchartButtonEl =\n",
              "            document.querySelector('#df-a0459152-f701-4cd7-963c-875e5d2070fb button');\n",
              "          quickchartButtonEl.style.display =\n",
              "            google.colab.kernel.accessAllowed ? 'block' : 'none';\n",
              "        })();\n",
              "      </script>\n",
              "    </div>\n",
              "\n",
              "    </div>\n",
              "  </div>\n"
            ],
            "application/vnd.google.colaboratory.intrinsic+json": {
              "type": "dataframe",
              "variable_name": "user_item_matrix"
            }
          },
          "metadata": {},
          "execution_count": 35
        }
      ],
      "execution_count": null
    },
    {
      "metadata": {
        "id": "b77dbbc68e249439"
      },
      "cell_type": "markdown",
      "source": [
        "Saya menyusun User-Item Matrix menggunakan fungsi pivot_table dari pandas, dengan struktur:\n",
        "* Baris merepresentasikan pengguna (user_id)\n",
        "* Kolom mewakili buku (isbn)\n",
        "* Nilai pada sel adalah rating buku dari user (book_rating)\n",
        "\n",
        "Matriks ini penting dalam pendekatan Collaborative Filtering karena menunjukkan interaksi antar pengguna dan item. Banyak nilai kosong (NaN) muncul karena sebagian besar pengguna hanya memberikan rating ke sejumlah kecil buku."
      ],
      "id": "b77dbbc68e249439"
    },
    {
      "cell_type": "markdown",
      "source": [
        "### Membuat List User-ID dan ISBN Unik"
      ],
      "metadata": {
        "id": "Bp1rcFwPIpEf"
      },
      "id": "Bp1rcFwPIpEf"
    },
    {
      "metadata": {
        "ExecuteTime": {
          "end_time": "2025-05-07T06:03:39.614782Z",
          "start_time": "2025-05-07T06:03:38.820146Z"
        },
        "id": "8851639fba0230d2",
        "outputId": "824a591f-9240-4977-f686-5c94265dc103",
        "colab": {
          "base_uri": "https://localhost:8080/"
        }
      },
      "cell_type": "code",
      "source": [
        "# Membuat list user_id unik\n",
        "user_ids = ratings_clean['user_id'].unique().tolist()\n",
        "print('Jumlah user unik:', len(user_ids))\n",
        "\n",
        "# Membuat list isbn unik\n",
        "isbn_ids = ratings_clean['isbn'].unique().tolist()\n",
        "print('Jumlah buku unik:', len(isbn_ids))"
      ],
      "id": "8851639fba0230d2",
      "outputs": [
        {
          "output_type": "stream",
          "name": "stdout",
          "text": [
            "Jumlah user unik: 2469\n",
            "Jumlah buku unik: 15048\n"
          ]
        }
      ],
      "execution_count": null
    },
    {
      "metadata": {
        "id": "4f7d8011291809a0"
      },
      "cell_type": "markdown",
      "source": [
        "Saya mengambil seluruh nilai unik dari kolom user_id dan isbn untuk disiapkan dalam proses encoding ke bentuk integer. Langkah ini penting karena sebagian besar algoritma machine learning tidak bisa langsung memproses data string atau ID.\n"
      ],
      "id": "4f7d8011291809a0"
    },
    {
      "cell_type": "markdown",
      "source": [
        "### Encoding User-ID dan ISBN ke Integer"
      ],
      "metadata": {
        "id": "H9dZF_B-I2hj"
      },
      "id": "H9dZF_B-I2hj"
    },
    {
      "metadata": {
        "ExecuteTime": {
          "end_time": "2025-05-07T06:03:40.034865Z",
          "start_time": "2025-05-07T06:03:39.740223Z"
        },
        "id": "fdd7685798b7df47"
      },
      "cell_type": "code",
      "source": [
        "user_id_encoded_map = {x: i for i, x in enumerate(user_ids)}\n",
        "isbn_encoded_map = {x: i for i, x in enumerate(isbn_ids)}\n",
        "\n",
        "id_to_user_map = {i: x for i, x in enumerate(user_ids)}\n",
        "id_to_isbn_map = {i: x for i, x in enumerate(isbn_ids)}"
      ],
      "id": "fdd7685798b7df47",
      "outputs": [],
      "execution_count": null
    },
    {
      "metadata": {
        "id": "9c9012b9b7adda0d"
      },
      "cell_type": "markdown",
      "source": [
        "Saya membuat dua mapping:\n",
        "\n",
        "* Mapping dari user_id dan isbn ke angka (dari teks ke integer)\n",
        "* Mapping sebaliknya dari angka kembali ke ID asli\n",
        "\n",
        "Setelah proses encoding, saya menambahkan dua kolom baru ke dalam ratings_clean, yaitu:\n",
        "\n",
        "* user → hasil encoding dari user_id\n",
        "* book → hasil encoding dari isbn\n",
        "\n",
        "Kolom ini akan digunakan sebagai input untuk model embedding pada sistem rekomendasi."
      ],
      "id": "9c9012b9b7adda0d"
    },
    {
      "cell_type": "markdown",
      "source": [
        "### Mapping Encoded User dan ISBN ke DataFrame"
      ],
      "metadata": {
        "id": "4ZD_FEM9JINJ"
      },
      "id": "4ZD_FEM9JINJ"
    },
    {
      "metadata": {
        "ExecuteTime": {
          "end_time": "2025-05-07T06:03:40.365039Z",
          "start_time": "2025-05-07T06:03:40.115786Z"
        },
        "id": "6ea827aa26dcb883",
        "outputId": "f706516f-f42e-4a8c-d837-8e89e459f5fa",
        "colab": {
          "base_uri": "https://localhost:8080/",
          "height": 206
        }
      },
      "cell_type": "code",
      "source": [
        "ratings_clean['user'] = ratings_clean['user_id'].map(user_id_encoded_map)\n",
        "ratings_clean['book'] = ratings_clean['isbn'].map(isbn_encoded_map)\n",
        "ratings_clean.head()"
      ],
      "id": "6ea827aa26dcb883",
      "outputs": [
        {
          "output_type": "execute_result",
          "data": {
            "text/plain": [
              "   user_id        isbn  book_rating  user  book\n",
              "0   276847  3404148576            8     0     0\n",
              "1   276847  3404921178            7     0     1\n",
              "2   276847  3426029553            8     0     2\n",
              "3   276847  3442413508           10     0     3\n",
              "4   276847  3442437717            7     0     4"
            ],
            "text/html": [
              "\n",
              "  <div id=\"df-e1bf217f-16f4-4a89-9492-b765308eba6c\" class=\"colab-df-container\">\n",
              "    <div>\n",
              "<style scoped>\n",
              "    .dataframe tbody tr th:only-of-type {\n",
              "        vertical-align: middle;\n",
              "    }\n",
              "\n",
              "    .dataframe tbody tr th {\n",
              "        vertical-align: top;\n",
              "    }\n",
              "\n",
              "    .dataframe thead th {\n",
              "        text-align: right;\n",
              "    }\n",
              "</style>\n",
              "<table border=\"1\" class=\"dataframe\">\n",
              "  <thead>\n",
              "    <tr style=\"text-align: right;\">\n",
              "      <th></th>\n",
              "      <th>user_id</th>\n",
              "      <th>isbn</th>\n",
              "      <th>book_rating</th>\n",
              "      <th>user</th>\n",
              "      <th>book</th>\n",
              "    </tr>\n",
              "  </thead>\n",
              "  <tbody>\n",
              "    <tr>\n",
              "      <th>0</th>\n",
              "      <td>276847</td>\n",
              "      <td>3404148576</td>\n",
              "      <td>8</td>\n",
              "      <td>0</td>\n",
              "      <td>0</td>\n",
              "    </tr>\n",
              "    <tr>\n",
              "      <th>1</th>\n",
              "      <td>276847</td>\n",
              "      <td>3404921178</td>\n",
              "      <td>7</td>\n",
              "      <td>0</td>\n",
              "      <td>1</td>\n",
              "    </tr>\n",
              "    <tr>\n",
              "      <th>2</th>\n",
              "      <td>276847</td>\n",
              "      <td>3426029553</td>\n",
              "      <td>8</td>\n",
              "      <td>0</td>\n",
              "      <td>2</td>\n",
              "    </tr>\n",
              "    <tr>\n",
              "      <th>3</th>\n",
              "      <td>276847</td>\n",
              "      <td>3442413508</td>\n",
              "      <td>10</td>\n",
              "      <td>0</td>\n",
              "      <td>3</td>\n",
              "    </tr>\n",
              "    <tr>\n",
              "      <th>4</th>\n",
              "      <td>276847</td>\n",
              "      <td>3442437717</td>\n",
              "      <td>7</td>\n",
              "      <td>0</td>\n",
              "      <td>4</td>\n",
              "    </tr>\n",
              "  </tbody>\n",
              "</table>\n",
              "</div>\n",
              "    <div class=\"colab-df-buttons\">\n",
              "\n",
              "  <div class=\"colab-df-container\">\n",
              "    <button class=\"colab-df-convert\" onclick=\"convertToInteractive('df-e1bf217f-16f4-4a89-9492-b765308eba6c')\"\n",
              "            title=\"Convert this dataframe to an interactive table.\"\n",
              "            style=\"display:none;\">\n",
              "\n",
              "  <svg xmlns=\"http://www.w3.org/2000/svg\" height=\"24px\" viewBox=\"0 -960 960 960\">\n",
              "    <path d=\"M120-120v-720h720v720H120Zm60-500h600v-160H180v160Zm220 220h160v-160H400v160Zm0 220h160v-160H400v160ZM180-400h160v-160H180v160Zm440 0h160v-160H620v160ZM180-180h160v-160H180v160Zm440 0h160v-160H620v160Z\"/>\n",
              "  </svg>\n",
              "    </button>\n",
              "\n",
              "  <style>\n",
              "    .colab-df-container {\n",
              "      display:flex;\n",
              "      gap: 12px;\n",
              "    }\n",
              "\n",
              "    .colab-df-convert {\n",
              "      background-color: #E8F0FE;\n",
              "      border: none;\n",
              "      border-radius: 50%;\n",
              "      cursor: pointer;\n",
              "      display: none;\n",
              "      fill: #1967D2;\n",
              "      height: 32px;\n",
              "      padding: 0 0 0 0;\n",
              "      width: 32px;\n",
              "    }\n",
              "\n",
              "    .colab-df-convert:hover {\n",
              "      background-color: #E2EBFA;\n",
              "      box-shadow: 0px 1px 2px rgba(60, 64, 67, 0.3), 0px 1px 3px 1px rgba(60, 64, 67, 0.15);\n",
              "      fill: #174EA6;\n",
              "    }\n",
              "\n",
              "    .colab-df-buttons div {\n",
              "      margin-bottom: 4px;\n",
              "    }\n",
              "\n",
              "    [theme=dark] .colab-df-convert {\n",
              "      background-color: #3B4455;\n",
              "      fill: #D2E3FC;\n",
              "    }\n",
              "\n",
              "    [theme=dark] .colab-df-convert:hover {\n",
              "      background-color: #434B5C;\n",
              "      box-shadow: 0px 1px 3px 1px rgba(0, 0, 0, 0.15);\n",
              "      filter: drop-shadow(0px 1px 2px rgba(0, 0, 0, 0.3));\n",
              "      fill: #FFFFFF;\n",
              "    }\n",
              "  </style>\n",
              "\n",
              "    <script>\n",
              "      const buttonEl =\n",
              "        document.querySelector('#df-e1bf217f-16f4-4a89-9492-b765308eba6c button.colab-df-convert');\n",
              "      buttonEl.style.display =\n",
              "        google.colab.kernel.accessAllowed ? 'block' : 'none';\n",
              "\n",
              "      async function convertToInteractive(key) {\n",
              "        const element = document.querySelector('#df-e1bf217f-16f4-4a89-9492-b765308eba6c');\n",
              "        const dataTable =\n",
              "          await google.colab.kernel.invokeFunction('convertToInteractive',\n",
              "                                                    [key], {});\n",
              "        if (!dataTable) return;\n",
              "\n",
              "        const docLinkHtml = 'Like what you see? Visit the ' +\n",
              "          '<a target=\"_blank\" href=https://colab.research.google.com/notebooks/data_table.ipynb>data table notebook</a>'\n",
              "          + ' to learn more about interactive tables.';\n",
              "        element.innerHTML = '';\n",
              "        dataTable['output_type'] = 'display_data';\n",
              "        await google.colab.output.renderOutput(dataTable, element);\n",
              "        const docLink = document.createElement('div');\n",
              "        docLink.innerHTML = docLinkHtml;\n",
              "        element.appendChild(docLink);\n",
              "      }\n",
              "    </script>\n",
              "  </div>\n",
              "\n",
              "\n",
              "    <div id=\"df-4c43f101-8afd-4190-9fed-22ecbcd58ee4\">\n",
              "      <button class=\"colab-df-quickchart\" onclick=\"quickchart('df-4c43f101-8afd-4190-9fed-22ecbcd58ee4')\"\n",
              "                title=\"Suggest charts\"\n",
              "                style=\"display:none;\">\n",
              "\n",
              "<svg xmlns=\"http://www.w3.org/2000/svg\" height=\"24px\"viewBox=\"0 0 24 24\"\n",
              "     width=\"24px\">\n",
              "    <g>\n",
              "        <path d=\"M19 3H5c-1.1 0-2 .9-2 2v14c0 1.1.9 2 2 2h14c1.1 0 2-.9 2-2V5c0-1.1-.9-2-2-2zM9 17H7v-7h2v7zm4 0h-2V7h2v10zm4 0h-2v-4h2v4z\"/>\n",
              "    </g>\n",
              "</svg>\n",
              "      </button>\n",
              "\n",
              "<style>\n",
              "  .colab-df-quickchart {\n",
              "      --bg-color: #E8F0FE;\n",
              "      --fill-color: #1967D2;\n",
              "      --hover-bg-color: #E2EBFA;\n",
              "      --hover-fill-color: #174EA6;\n",
              "      --disabled-fill-color: #AAA;\n",
              "      --disabled-bg-color: #DDD;\n",
              "  }\n",
              "\n",
              "  [theme=dark] .colab-df-quickchart {\n",
              "      --bg-color: #3B4455;\n",
              "      --fill-color: #D2E3FC;\n",
              "      --hover-bg-color: #434B5C;\n",
              "      --hover-fill-color: #FFFFFF;\n",
              "      --disabled-bg-color: #3B4455;\n",
              "      --disabled-fill-color: #666;\n",
              "  }\n",
              "\n",
              "  .colab-df-quickchart {\n",
              "    background-color: var(--bg-color);\n",
              "    border: none;\n",
              "    border-radius: 50%;\n",
              "    cursor: pointer;\n",
              "    display: none;\n",
              "    fill: var(--fill-color);\n",
              "    height: 32px;\n",
              "    padding: 0;\n",
              "    width: 32px;\n",
              "  }\n",
              "\n",
              "  .colab-df-quickchart:hover {\n",
              "    background-color: var(--hover-bg-color);\n",
              "    box-shadow: 0 1px 2px rgba(60, 64, 67, 0.3), 0 1px 3px 1px rgba(60, 64, 67, 0.15);\n",
              "    fill: var(--button-hover-fill-color);\n",
              "  }\n",
              "\n",
              "  .colab-df-quickchart-complete:disabled,\n",
              "  .colab-df-quickchart-complete:disabled:hover {\n",
              "    background-color: var(--disabled-bg-color);\n",
              "    fill: var(--disabled-fill-color);\n",
              "    box-shadow: none;\n",
              "  }\n",
              "\n",
              "  .colab-df-spinner {\n",
              "    border: 2px solid var(--fill-color);\n",
              "    border-color: transparent;\n",
              "    border-bottom-color: var(--fill-color);\n",
              "    animation:\n",
              "      spin 1s steps(1) infinite;\n",
              "  }\n",
              "\n",
              "  @keyframes spin {\n",
              "    0% {\n",
              "      border-color: transparent;\n",
              "      border-bottom-color: var(--fill-color);\n",
              "      border-left-color: var(--fill-color);\n",
              "    }\n",
              "    20% {\n",
              "      border-color: transparent;\n",
              "      border-left-color: var(--fill-color);\n",
              "      border-top-color: var(--fill-color);\n",
              "    }\n",
              "    30% {\n",
              "      border-color: transparent;\n",
              "      border-left-color: var(--fill-color);\n",
              "      border-top-color: var(--fill-color);\n",
              "      border-right-color: var(--fill-color);\n",
              "    }\n",
              "    40% {\n",
              "      border-color: transparent;\n",
              "      border-right-color: var(--fill-color);\n",
              "      border-top-color: var(--fill-color);\n",
              "    }\n",
              "    60% {\n",
              "      border-color: transparent;\n",
              "      border-right-color: var(--fill-color);\n",
              "    }\n",
              "    80% {\n",
              "      border-color: transparent;\n",
              "      border-right-color: var(--fill-color);\n",
              "      border-bottom-color: var(--fill-color);\n",
              "    }\n",
              "    90% {\n",
              "      border-color: transparent;\n",
              "      border-bottom-color: var(--fill-color);\n",
              "    }\n",
              "  }\n",
              "</style>\n",
              "\n",
              "      <script>\n",
              "        async function quickchart(key) {\n",
              "          const quickchartButtonEl =\n",
              "            document.querySelector('#' + key + ' button');\n",
              "          quickchartButtonEl.disabled = true;  // To prevent multiple clicks.\n",
              "          quickchartButtonEl.classList.add('colab-df-spinner');\n",
              "          try {\n",
              "            const charts = await google.colab.kernel.invokeFunction(\n",
              "                'suggestCharts', [key], {});\n",
              "          } catch (error) {\n",
              "            console.error('Error during call to suggestCharts:', error);\n",
              "          }\n",
              "          quickchartButtonEl.classList.remove('colab-df-spinner');\n",
              "          quickchartButtonEl.classList.add('colab-df-quickchart-complete');\n",
              "        }\n",
              "        (() => {\n",
              "          let quickchartButtonEl =\n",
              "            document.querySelector('#df-4c43f101-8afd-4190-9fed-22ecbcd58ee4 button');\n",
              "          quickchartButtonEl.style.display =\n",
              "            google.colab.kernel.accessAllowed ? 'block' : 'none';\n",
              "        })();\n",
              "      </script>\n",
              "    </div>\n",
              "\n",
              "    </div>\n",
              "  </div>\n"
            ],
            "application/vnd.google.colaboratory.intrinsic+json": {
              "type": "dataframe",
              "variable_name": "ratings_clean",
              "summary": "{\n  \"name\": \"ratings_clean\",\n  \"rows\": 98401,\n  \"fields\": [\n    {\n      \"column\": \"user_id\",\n      \"properties\": {\n        \"dtype\": \"number\",\n        \"std\": 81044,\n        \"min\": 242,\n        \"max\": 278633,\n        \"num_unique_values\": 2469,\n        \"samples\": [\n          227705,\n          160943,\n          189227\n        ],\n        \"semantic_type\": \"\",\n        \"description\": \"\"\n      }\n    },\n    {\n      \"column\": \"isbn\",\n      \"properties\": {\n        \"dtype\": \"category\",\n        \"num_unique_values\": 15048,\n        \"samples\": [\n          \"0786862564\",\n          \"0380780755\",\n          \"0345385993\"\n        ],\n        \"semantic_type\": \"\",\n        \"description\": \"\"\n      }\n    },\n    {\n      \"column\": \"book_rating\",\n      \"properties\": {\n        \"dtype\": \"number\",\n        \"std\": 1,\n        \"min\": 1,\n        \"max\": 10,\n        \"num_unique_values\": 10,\n        \"samples\": [\n          4,\n          7,\n          2\n        ],\n        \"semantic_type\": \"\",\n        \"description\": \"\"\n      }\n    },\n    {\n      \"column\": \"user\",\n      \"properties\": {\n        \"dtype\": \"number\",\n        \"std\": 724,\n        \"min\": 0,\n        \"max\": 2468,\n        \"num_unique_values\": 2469,\n        \"samples\": [\n          2034,\n          1465,\n          1706\n        ],\n        \"semantic_type\": \"\",\n        \"description\": \"\"\n      }\n    },\n    {\n      \"column\": \"book\",\n      \"properties\": {\n        \"dtype\": \"number\",\n        \"std\": 4276,\n        \"min\": 0,\n        \"max\": 15047,\n        \"num_unique_values\": 15048,\n        \"samples\": [\n          2227,\n          13927,\n          8085\n        ],\n        \"semantic_type\": \"\",\n        \"description\": \"\"\n      }\n    }\n  ]\n}"
            }
          },
          "metadata": {},
          "execution_count": 38
        }
      ],
      "execution_count": null
    },
    {
      "cell_type": "markdown",
      "source": [
        "### Mengubah Rating Menjadi Float32"
      ],
      "metadata": {
        "id": "M71YosnEJx_l"
      },
      "id": "M71YosnEJx_l"
    },
    {
      "metadata": {
        "ExecuteTime": {
          "end_time": "2025-05-07T06:03:40.553570Z",
          "start_time": "2025-05-07T06:03:40.541521Z"
        },
        "id": "700ca6d3af9c5f8"
      },
      "cell_type": "code",
      "source": [
        "ratings_clean['book_rating'] = ratings_clean['book_rating'].values.astype(np.float32)"
      ],
      "id": "700ca6d3af9c5f8",
      "outputs": [],
      "execution_count": null
    },
    {
      "metadata": {
        "id": "b72eff72d03770bd"
      },
      "cell_type": "markdown",
      "source": [
        "Saya mengonversi nilai rating ke dalam tipe float32 untuk menyesuaikan format yang dibutuhkan model TensorFlow. Hal ini penting agar proses pelatihan model dapat berjalan optimal tanpa error tipe data."
      ],
      "id": "b72eff72d03770bd"
    },
    {
      "cell_type": "markdown",
      "source": [
        "### Mengecek Jumlah User dan Buku setelah Encoding"
      ],
      "metadata": {
        "id": "atW73WH8J1Mv"
      },
      "id": "atW73WH8J1Mv"
    },
    {
      "metadata": {
        "ExecuteTime": {
          "end_time": "2025-05-07T06:03:40.708798Z",
          "start_time": "2025-05-07T06:03:40.696354Z"
        },
        "id": "334bc367118f4926",
        "outputId": "6770ad1c-aa3f-4f4c-8fef-2348ad71986c",
        "colab": {
          "base_uri": "https://localhost:8080/"
        }
      },
      "cell_type": "code",
      "source": [
        "num_users = len(user_id_encoded_map)\n",
        "num_books = len(id_to_isbn_map)\n",
        "\n",
        "print(f\"Jumlah user: {num_users}, Jumlah buku: {num_books}\")"
      ],
      "id": "334bc367118f4926",
      "outputs": [
        {
          "output_type": "stream",
          "name": "stdout",
          "text": [
            "Jumlah user: 2469, Jumlah buku: 15048\n"
          ]
        }
      ],
      "execution_count": null
    },
    {
      "metadata": {
        "id": "a915fdd0e312341"
      },
      "cell_type": "markdown",
      "source": [
        "Saya mengecek kembali jumlah total user dan buku setelah proses encoding. Hasilnya menunjukkan bahwa:\n",
        "\n",
        "* Total user yang berhasil di-encode: **2.469**\n",
        "* Total buku yang berhasil di-encode: **15.048**\n",
        "\n",
        "Jumlah ini sesuai dengan hasil eksplorasi data sebelumnya."
      ],
      "id": "a915fdd0e312341"
    },
    {
      "cell_type": "markdown",
      "source": [
        "### Membagi Data untuk Training dan Validasi"
      ],
      "metadata": {
        "id": "vK52CqscKJhk"
      },
      "id": "vK52CqscKJhk"
    },
    {
      "metadata": {
        "ExecuteTime": {
          "end_time": "2025-05-07T06:06:22.852866Z",
          "start_time": "2025-05-07T06:03:40.887732Z"
        },
        "id": "eaa7a8effb9eba98",
        "outputId": "2fa5d6c9-5b91-43c9-f743-905a8f90d409",
        "colab": {
          "base_uri": "https://localhost:8080/"
        }
      },
      "cell_type": "code",
      "source": [
        "ratings_clean = ratings_clean.sample(frac=1, random_state=42).reset_index(drop=True)\n",
        "\n",
        "rating_min = ratings_clean['book_rating'].min()\n",
        "rating_max = ratings_clean['book_rating'].max()\n",
        "ratings_clean['book_rating_norm'] = (ratings_clean['book_rating'] - rating_min) / (rating_max - rating_min)\n",
        "\n",
        "train_indices = int(0.8 * len(ratings_clean))\n",
        "train_data = ratings_clean.iloc[:train_indices]\n",
        "val_data = ratings_clean.iloc[train_indices:]\n",
        "\n",
        "x_train = train_data[['user', 'book']].values\n",
        "y_train = train_data['book_rating_norm'].values\n",
        "\n",
        "x_val = val_data[['user', 'book']].values\n",
        "y_val = val_data['book_rating_norm'].values\n",
        "\n",
        "print(f\"Shape x_train: {x_train.shape}, y_train: {y_train.shape}\")\n",
        "print(f\"Shape x_val: {x_val.shape}, y_val: {y_val.shape}\")\n"
      ],
      "id": "eaa7a8effb9eba98",
      "outputs": [
        {
          "output_type": "stream",
          "name": "stdout",
          "text": [
            "Shape x_train: (78720, 2), y_train: (78720,)\n",
            "Shape x_val: (19681, 2), y_val: (19681,)\n"
          ]
        }
      ],
      "execution_count": null
    },
    {
      "metadata": {
        "id": "302f37a2d106613d"
      },
      "cell_type": "markdown",
      "source": [
        "Untuk proses pelatihan model, saya mengacak seluruh data terlebih dahulu agar distribusinya merata. Setelah itu, data dibagi menjadi dua bagian:\n",
        "\n",
        "* **Training set**: 80% data\n",
        "* **Validation set**: 20% data\n",
        "\n",
        "Sebelum dibagi, nilai book_rating saya normalisasi ke rentang \\[0,1] agar model dapat belajar lebih stabil dan cepat.\n",
        "Data kemudian dipisahkan menjadi fitur x (berisi pasangan user dan book) dan target y (berisi nilai rating)."
      ],
      "id": "302f37a2d106613d"
    },
    {
      "metadata": {
        "id": "bfe02a2b001ee1db"
      },
      "cell_type": "markdown",
      "source": [
        "## Analisis Data Preparation"
      ],
      "id": "bfe02a2b001ee1db"
    },
    {
      "metadata": {
        "id": "3256c0791d953163"
      },
      "cell_type": "markdown",
      "source": [
        "Sebelum memasuki tahap pemodelan, data preparation dilakukan untuk memastikan bahwa data bersih, relevan, dan efisien secara komputasi. Berikut ini adalah 11 langkah utama yang diterapkan dalam proses pembersihan dan persiapan data:\n",
        "\n",
        "---\n",
        "\n",
        "### 1. Imputasi Missing Value pada Kolom Age\n",
        "\n",
        "Kolom Age memiliki 110.762 nilai kosong (missing). Jika baris-baris tersebut dihapus, maka sekitar 40% data akan hilang, yang dapat mengganggu distribusi data pengguna secara keseluruhan. Oleh karena itu, imputasi dilakukan menggunakan nilai median. Median dipilih karena lebih tahan terhadap outlier dibandingkan mean.\n",
        "\n",
        "\n",
        "**Hasil:**\n",
        "\n",
        "* Missing sebelum: 110.762\n",
        "* Setelah imputasi: 0\n",
        "* Jumlah total data: 278.858 baris\n",
        "\n",
        "---\n",
        "\n",
        "### 2. Pembersihan Outlier pada Kolom Age\n",
        "\n",
        "Terdapat data usia ekstrem seperti 0 dan 244 tahun yang tidak masuk akal secara logis. Untuk meningkatkan kualitas data, hanya usia dalam rentang 5–100 tahun yang dipertahankan.\n",
        "\n",
        "**Hasil:**\n",
        "\n",
        "* Sebelum: 278.858 baris\n",
        "* Setelah: 277.610 baris\n",
        "\n",
        "---\n",
        "\n",
        "### 3. Penghapusan Nilai Rating 0\n",
        "\n",
        "Rating dengan nilai 0 diinterpretasikan sebagai \"tidak memberikan penilaian\" dan tidak memberikan informasi preferensi pengguna yang berguna. Maka, data dengan rating 0 dihapus.\n",
        "\n",
        "**Hasil:**\n",
        "\n",
        "* Sebelum: 1.149.780 baris\n",
        "* Setelah: 433.671 baris\n",
        "\n",
        "---\n",
        "\n",
        "### 4. Menyaring Pengguna yang Pasif\n",
        "\n",
        "Pengguna yang hanya memberi 1–2 rating tidak memberikan sinyal preferensi yang cukup kuat. Oleh karena itu, hanya pengguna yang memberikan minimal 3 rating yang dipertahankan.\n",
        "\n",
        "---\n",
        "\n",
        "### 5. Pemilihan 2500 User Paling Aktif\n",
        "\n",
        "Dari pengguna aktif yang tersisa, hanya 2500 pengguna dengan jumlah rating terbanyak yang dipertahankan. Hal ini dilakukan untuk membatasi ukuran data agar tidak menyebabkan crash saat komputasi di Google Colab, yang memiliki batas memori terbatas.\n",
        "\n",
        "---\n",
        "\n",
        "### 6. Menyaring Buku dengan Rating Minim\n",
        "\n",
        "Buku yang hanya memiliki sedikit rating tidak cukup representatif untuk dianalisis. Oleh karena itu, hanya buku yang memperoleh minimal 3 rating yang dipertahankan untuk mengurangi noise dalam data.\n",
        "\n",
        "\n",
        "**Hasil setelah langkah 4–6:**\n",
        "\n",
        "* Jumlah data rating: 433.671 → sekitar 350.000\n",
        "* Jumlah user unik: 2.469\n",
        "* Jumlah buku unik: 15.048\n",
        "\n",
        "---\n",
        "\n",
        "### 7. Konversi Kolom menjadi List\n",
        "\n",
        "Tiga kolom utama (User-ID, ISBN, dan Book-Rating) dikonversi ke dalam bentuk list untuk memudahkan pengolahan pada tahap selanjutnya.\n",
        "\n",
        "---\n",
        "\n",
        "### 8. Membuat DataFrame Bersih\n",
        "\n",
        "Dari list yang telah dibuat, disusun kembali sebuah DataFrame baru bernama ratings_clean yang berisi tiga kolom utama: user\\_id, isbn, dan book\\_rating. Struktur ini lebih terorganisir untuk keperluan modeling.\n",
        "\n",
        "---\n",
        "\n",
        "### 9. Pembuatan User-Item Matrix\n",
        "\n",
        "User-Item Matrix dibuat menggunakan fungsi pivot_table dari pandas. Matriks ini penting sebagai dasar pendekatan collaborative filtering karena memetakan interaksi antara pengguna dan buku berdasarkan rating.\n",
        "\n",
        "**Hasil:**\n",
        "\n",
        "* Dimensi matriks: 2469 pengguna × 15.048 buku\n",
        "\n",
        "---\n",
        "\n",
        "### 10. Encoding ID ke Integer\n",
        "\n",
        "Sebagian besar algoritma machine learning tidak menerima input berupa string. Oleh karena itu, dilakukan proses encoding untuk mengubah user\\_id dan isbn menjadi angka. Selain itu, dibuat pula mapping kebalikannya untuk kebutuhan interpretasi hasil prediksi.\n",
        "---\n",
        "\n",
        "### 11. Normalisasi Rating dan Split Data\n",
        "\n",
        "Nilai rating dinormalisasi ke rentang 0–1 untuk meningkatkan stabilitas proses pelatihan model. Selanjutnya, data dibagi menjadi training dan validation set dengan rasio 80:20. Pembagian ini penting untuk memastikan bahwa model tidak hanya menghafal data tetapi juga mampu melakukan generalisasi.\n",
        "\n",
        "**Hasil:**\n",
        "\n",
        "* x\\_train: (346.936, 2), y\\_train: (346.936,)\n",
        "* x\\_val: (86.735, 2), y\\_val: (86.735,)\n",
        "\n",
        "---\n",
        "\n",
        "## **Kesimpulan**\n",
        "\n",
        "Seluruh tahap data preparation di atas dilakukan untuk memastikan data memiliki kualitas yang baik, efisien, dan siap digunakan dalam pembuatan model sistem rekomendasi berbasis collaborative filtering. Setiap keputusan pembersihan, penyaringan, dan transformasi dilakukan dengan pertimbangan praktis maupun teoritis yang jelas, termasuk keterbatasan teknis platform pemrosesan (Google Colab). Data hasil akhir telah dikondisikan ke dalam bentuk dan skala yang sesuai untuk kebutuhan pelatihan model berbasis embedding dan similarity calculation.\n",
        "\n"
      ],
      "id": "3256c0791d953163"
    },
    {
      "metadata": {
        "id": "c6fda68f8759fe13"
      },
      "cell_type": "markdown",
      "source": [
        "# Modeling"
      ],
      "id": "c6fda68f8759fe13"
    },
    {
      "metadata": {
        "id": "583cfae4e6b3c1f7"
      },
      "cell_type": "markdown",
      "source": [
        "## Model Development dengan Content Based Filtering"
      ],
      "id": "583cfae4e6b3c1f7"
    },
    {
      "cell_type": "markdown",
      "source": [
        "Menggabungkan books dan ratings_clean untuk memastikan ISBN ada di kedua dataset"
      ],
      "metadata": {
        "id": "gKXOkBviTOi9"
      },
      "id": "gKXOkBviTOi9"
    },
    {
      "cell_type": "code",
      "source": [
        "books_filtered = books[books['ISBN'].isin(ratings_clean['isbn'])]"
      ],
      "metadata": {
        "id": "c4-D2pzATRIw"
      },
      "id": "c4-D2pzATRIw",
      "execution_count": null,
      "outputs": []
    },
    {
      "cell_type": "markdown",
      "source": [
        "#### Membuat TF-IDF Matrix dari Judul Buku"
      ],
      "metadata": {
        "id": "5pJXUBP8UrQD"
      },
      "id": "5pJXUBP8UrQD"
    },
    {
      "metadata": {
        "ExecuteTime": {
          "end_time": "2025-05-07T06:06:30.026881Z",
          "start_time": "2025-05-07T06:06:29.324961Z"
        },
        "id": "8ae1bf233e8b8311",
        "outputId": "00394d66-d9da-449e-b017-c104ea09cfa8",
        "colab": {
          "base_uri": "https://localhost:8080/"
        }
      },
      "cell_type": "code",
      "source": [
        "books_filtered = books_filtered.reset_index(drop=True)\n",
        "\n",
        "tfidf = TfidfVectorizer(stop_words='english')\n",
        "\n",
        "books_filtered['Book-Title'] = books_filtered['Book-Title'].fillna('')\n",
        "\n",
        "tfidf_matrix = tfidf.fit_transform(books_filtered['Book-Title'])\n",
        "\n",
        "print('TF-IDF Matrix Shape:', tfidf_matrix.shape)"
      ],
      "id": "8ae1bf233e8b8311",
      "outputs": [
        {
          "output_type": "stream",
          "name": "stdout",
          "text": [
            "TF-IDF Matrix Shape: (14437, 10949)\n"
          ]
        }
      ],
      "execution_count": null
    },
    {
      "metadata": {
        "id": "93f7e0c252c0e2e2"
      },
      "cell_type": "markdown",
      "source": [
        "##### **Analisis Hasil TF-IDF**\n",
        "\n",
        "Berdasarkan hasil proses ekstraksi fitur teks menggunakan TF-IDF Vectorization pada kolom **Book-Title**, diperoleh matriks dengan dimensi **(14.437, 10.949)**. Angka-angka ini memiliki makna sebagai berikut:\n",
        "\n",
        "* **14.437 baris** menunjukkan jumlah **judul buku unik** yang berhasil diproses dan dimasukkan ke dalam sistem rekomendasi. Artinya, sistem hanya akan memberikan rekomendasi berdasarkan buku-buku ini karena telah memenuhi kriteria (yaitu memiliki ISBN yang juga terdapat di data ratings).\n",
        "\n",
        "* **10.949 kolom** merepresentasikan **jumlah kata unik (fitur)** yang berhasil diekstraksi dari keseluruhan judul buku setelah dilakukan proses pembersihan, tokenisasi, dan penghapusan stop words.\n",
        "\n",
        "Dimensi matriks ini mengindikasikan bahwa meskipun judul buku biasanya singkat, gabungan seluruh judul dalam dataset mengandung keragaman kata yang cukup tinggi. Hal ini dapat memperkaya representasi masing-masing buku dalam bentuk vektor dan memungkinkan sistem untuk mengukur kemiripan antar buku secara lebih akurat berdasarkan kemiripan kosakata dalam judulnya.\n",
        "\n",
        "---\n",
        "\n",
        "##### **Implikasi terhadap Sistem Rekomendasi**\n",
        "\n",
        "Dengan terbentuknya matriks TF-IDF ini:\n",
        "\n",
        "* Sistem rekomendasi berbasis **Content-Based Filtering** kini dapat melakukan perhitungan **kemiripan antar buku** menggunakan teknik seperti **cosine similarity**.\n",
        "* Ketika seorang pengguna menyukai atau memberi rating tinggi pada sebuah buku, sistem dapat merekomendasikan buku lain yang memiliki representasi vektor serupa — dalam hal ini, buku dengan judul yang mengandung kata-kata yang mirip atau relevan secara semantik.\n"
      ],
      "id": "93f7e0c252c0e2e2"
    },
    {
      "cell_type": "markdown",
      "source": [
        "#### Menghitung Cosine Similarity Antar Judul Buku"
      ],
      "metadata": {
        "id": "Jg8AGnYIVOE-"
      },
      "id": "Jg8AGnYIVOE-"
    },
    {
      "metadata": {
        "ExecuteTime": {
          "end_time": "2025-05-07T06:06:31.458988Z",
          "start_time": "2025-05-07T06:06:30.135164Z"
        },
        "id": "35d914888a6f8956",
        "outputId": "3e1b072f-90c6-46a6-d380-25cbd2a8980b",
        "colab": {
          "base_uri": "https://localhost:8080/"
        }
      },
      "cell_type": "code",
      "source": [
        "cosine_sim = cosine_similarity(tfidf_matrix, tfidf_matrix)\n",
        "\n",
        "print('Cosine Similarity Matrix Shape:', cosine_sim.shape)"
      ],
      "id": "35d914888a6f8956",
      "outputs": [
        {
          "output_type": "stream",
          "name": "stdout",
          "text": [
            "Cosine Similarity Matrix Shape: (14437, 14437)\n"
          ]
        }
      ],
      "execution_count": null
    },
    {
      "metadata": {
        "id": "d4d0921f9c34d652"
      },
      "cell_type": "markdown",
      "source": [
        "Pada tahap ini, dilakukan proses penghitungan **tingkat kemiripan antar judul buku** berdasarkan representasi numerik yang telah dibentuk melalui **TF-IDF Vectorization**.\n",
        "\n",
        "##### **Metode yang Digunakan:**\n",
        "\n",
        "* **Cosine Similarity**\n",
        "  Teknik ini digunakan untuk mengukur seberapa mirip dua buah vektor dalam ruang dimensi tinggi. Cosine similarity mengukur sudut antara dua vektor, di mana:\n",
        "\n",
        "  * Nilai **0** menunjukkan **tidak ada kemiripan** sama sekali.\n",
        "  * Nilai **1** menunjukkan **kemiripan sempurna**.\n",
        "\n",
        "##### **Langkah Proses:**\n",
        "\n",
        "* Menggunakan fungsi cosine_similarity dari pustaka **scikit-learn** untuk menghitung skor kemiripan antara setiap pasangan judul buku berdasarkan vektor TF-IDF yang telah terbentuk sebelumnya.\n",
        "\n",
        "##### **Hasil Akhir:**\n",
        "\n",
        "* Diperoleh sebuah **matriks cosine similarity** dengan dimensi **(14.437, 14.437)**. Artinya:\n",
        "\n",
        "  * Terdapat **14.437 judul buku** yang diproses,\n",
        "  * Setiap judul buku dibandingkan kemiripannya dengan semua judul lainnya dalam dataset,\n",
        "  * Setiap nilai pada matriks ini merepresentasikan **tingkat kemiripan antara dua judul buku** berdasarkan isi teks judulnya.\n",
        "\n",
        "---\n",
        "\n",
        "##### **Kegunaan Matriks Cosine Similarity:**\n",
        "\n",
        "Matriks ini akan digunakan sebagai **dasar sistem rekomendasi**, di mana:\n",
        "\n",
        "* Jika seorang pengguna menyukai atau memberi rating tinggi pada sebuah buku, maka sistem akan mencari judul lain yang memiliki skor cosine similarity tinggi terhadap buku tersebut.\n",
        "* Dengan pendekatan ini, sistem dapat memberikan rekomendasi buku **yang memiliki kemiripan konten berdasarkan judul**, meskipun buku tersebut belum pernah diberi rating oleh pengguna lain sebelumnya."
      ],
      "id": "d4d0921f9c34d652"
    },
    {
      "cell_type": "markdown",
      "source": [
        "#### Menghitung Cosine Similarity Antar User"
      ],
      "metadata": {
        "id": "IzJehTxouVt6"
      },
      "id": "IzJehTxouVt6"
    },
    {
      "metadata": {
        "ExecuteTime": {
          "end_time": "2025-05-07T06:07:53.522422Z",
          "start_time": "2025-05-07T06:06:31.538740Z"
        },
        "id": "f0462f938b32340a",
        "colab": {
          "base_uri": "https://localhost:8080/"
        },
        "outputId": "457af756-f319-4a85-c58d-592d919796a8"
      },
      "cell_type": "code",
      "source": [
        "user_similarity = cosine_similarity(user_item_matrix.fillna(0))\n",
        "\n",
        "print('User Similarity Matrix Shape:', user_similarity.shape)"
      ],
      "id": "f0462f938b32340a",
      "outputs": [
        {
          "output_type": "stream",
          "name": "stdout",
          "text": [
            "User Similarity Matrix Shape: (2469, 2469)\n"
          ]
        }
      ],
      "execution_count": null
    },
    {
      "metadata": {
        "id": "4200823655f8a054"
      },
      "cell_type": "markdown",
      "source": [
        "Pada tahap ini, dilakukan penghitungan **skor kemiripan (similarity score)** antar semua pengguna berdasarkan **pola rating mereka terhadap buku** dalam dataset.\n",
        "\n",
        "##### **Teknik yang Digunakan:**\n",
        "\n",
        "* **Cosine Similarity**\n",
        "  Digunakan untuk mengukur tingkat kesamaan antara dua pengguna berdasarkan vektor rating mereka pada User-Item Matrix.\n",
        "  Skor cosine similarity memiliki rentang:\n",
        "\n",
        "  * **0** = tidak ada kemiripan,\n",
        "  * **1** = kemiripan sempurna.\n",
        "\n",
        "##### **Proses:**\n",
        "\n",
        "* Menggunakan fungsi cosine_similarity dari pustaka **scikit-learn**.\n",
        "* **User-Item Matrix** dibentuk terlebih dahulu, di mana setiap baris mewakili pengguna dan setiap kolom mewakili buku.\n",
        "* Karena terdapat banyak nilai kosong (NaN) akibat tidak semua pengguna memberi rating ke semua buku, seluruh nilai NaN diisi dengan **angka 0** sebelum perhitungan dilakukan.\n",
        "* Cosine similarity kemudian dihitung antar setiap pasangan pengguna.\n",
        "\n",
        "##### **Hasil:**\n",
        "\n",
        "* Diperoleh sebuah **User Similarity Matrix** berukuran **(2.469, 2.469)**, yang berarti:\n",
        "\n",
        "  * Terdapat **2.469 pengguna** aktif yang memiliki setidaknya satu rating,\n",
        "  * Setiap pengguna dibandingkan dengan semua pengguna lainnya untuk mengukur tingkat kemiripan pola ratingnya.\n",
        "\n",
        "---\n",
        "\n",
        "##### **Kegunaan Matriks Kemiripan Pengguna:**\n",
        "\n",
        "Matriks ini akan menjadi **fondasi bagi sistem rekomendasi berbasis collaborative filtering (user-based)**, di mana:\n",
        "\n",
        "* Sistem akan merekomendasikan buku yang disukai oleh pengguna lain **yang memiliki kemiripan pola rating tinggi** dengan pengguna target.\n",
        "* Pendekatan ini memungkinkan rekomendasi yang bersifat **personalized**, bahkan jika pengguna belum pernah memberi rating pada banyak buku.\n"
      ],
      "id": "4200823655f8a054"
    },
    {
      "cell_type": "markdown",
      "source": [
        "#### Membuat Fungsi Rekomendasi Berdasarkan Judul Buku\n"
      ],
      "metadata": {
        "id": "FoJKNqmJvSGk"
      },
      "id": "FoJKNqmJvSGk"
    },
    {
      "metadata": {
        "ExecuteTime": {
          "end_time": "2025-05-07T06:07:53.834868Z",
          "start_time": "2025-05-07T06:07:53.820255Z"
        },
        "id": "3888fff33e3c4f40"
      },
      "cell_type": "code",
      "source": [
        "def recommend_books(title, top_n=5):\n",
        "    if title not in books_filtered['Book-Title'].values:\n",
        "        return f\"Buku '{title}' tidak ditemukan di database.\"\n",
        "    idx = books_filtered[books_filtered['Book-Title'] == title].index[0]\n",
        "    sim_scores = list(enumerate(cosine_sim[idx]))\n",
        "    sim_scores = sorted(sim_scores, key=lambda x: x[1], reverse=True)\n",
        "    sim_scores = sim_scores[1:top_n+1]\n",
        "    book_indices = [i[0] for i in sim_scores]\n",
        "    return books_filtered.iloc[book_indices][['Book-Title', 'Book-Author']]"
      ],
      "id": "3888fff33e3c4f40",
      "outputs": [],
      "execution_count": null
    },
    {
      "metadata": {
        "id": "94c5943cb507e15a"
      },
      "cell_type": "markdown",
      "source": [
        "\n",
        "Pada tahap ini, saya membangun fungsi rekomendasi untuk memberikan rekomendasi Top-N buku yang mirip berdasarkan kemiripan judul.\n",
        "\n",
        "**Teknik yang digunakan:**\n",
        "- Menggunakan hasil **Cosine Similarity Matrix**.\n",
        "- Menemukan index buku berdasarkan judul.\n",
        "- Mengurutkan skor kemiripan dan memilih Top-N buku dengan skor tertinggi.\n",
        "\n",
        "**Tujuan:**\n",
        "- Memberikan rekomendasi buku serupa untuk pengguna berdasarkan preferensi terhadap suatu buku tertentu.\n"
      ],
      "id": "94c5943cb507e15a"
    },
    {
      "metadata": {
        "ExecuteTime": {
          "end_time": "2025-05-07T06:07:54.034900Z",
          "start_time": "2025-05-07T06:07:53.961557Z"
        },
        "id": "23770a4be7ff503e",
        "colab": {
          "base_uri": "https://localhost:8080/",
          "height": 206
        },
        "outputId": "0b3f9337-eee0-440b-b458-aad0611b59c4"
      },
      "cell_type": "code",
      "source": [
        "recommend_books('Wild Animus')"
      ],
      "id": "23770a4be7ff503e",
      "outputs": [
        {
          "output_type": "execute_result",
          "data": {
            "text/plain": [
              "             Book-Title      Book-Author\n",
              "812       Into the Wild     Jon Krakauer\n",
              "1314   Call of the Wild      Jack London\n",
              "10213    Wild About You      Robin Wells\n",
              "11254              Wild      Lori Foster\n",
              "2360    A Heart So Wild  Johanna Lindsey"
            ],
            "text/html": [
              "\n",
              "  <div id=\"df-40b3b44a-4799-4abf-82b1-5c4958bef6f6\" class=\"colab-df-container\">\n",
              "    <div>\n",
              "<style scoped>\n",
              "    .dataframe tbody tr th:only-of-type {\n",
              "        vertical-align: middle;\n",
              "    }\n",
              "\n",
              "    .dataframe tbody tr th {\n",
              "        vertical-align: top;\n",
              "    }\n",
              "\n",
              "    .dataframe thead th {\n",
              "        text-align: right;\n",
              "    }\n",
              "</style>\n",
              "<table border=\"1\" class=\"dataframe\">\n",
              "  <thead>\n",
              "    <tr style=\"text-align: right;\">\n",
              "      <th></th>\n",
              "      <th>Book-Title</th>\n",
              "      <th>Book-Author</th>\n",
              "    </tr>\n",
              "  </thead>\n",
              "  <tbody>\n",
              "    <tr>\n",
              "      <th>812</th>\n",
              "      <td>Into the Wild</td>\n",
              "      <td>Jon Krakauer</td>\n",
              "    </tr>\n",
              "    <tr>\n",
              "      <th>1314</th>\n",
              "      <td>Call of the Wild</td>\n",
              "      <td>Jack London</td>\n",
              "    </tr>\n",
              "    <tr>\n",
              "      <th>10213</th>\n",
              "      <td>Wild About You</td>\n",
              "      <td>Robin Wells</td>\n",
              "    </tr>\n",
              "    <tr>\n",
              "      <th>11254</th>\n",
              "      <td>Wild</td>\n",
              "      <td>Lori Foster</td>\n",
              "    </tr>\n",
              "    <tr>\n",
              "      <th>2360</th>\n",
              "      <td>A Heart So Wild</td>\n",
              "      <td>Johanna Lindsey</td>\n",
              "    </tr>\n",
              "  </tbody>\n",
              "</table>\n",
              "</div>\n",
              "    <div class=\"colab-df-buttons\">\n",
              "\n",
              "  <div class=\"colab-df-container\">\n",
              "    <button class=\"colab-df-convert\" onclick=\"convertToInteractive('df-40b3b44a-4799-4abf-82b1-5c4958bef6f6')\"\n",
              "            title=\"Convert this dataframe to an interactive table.\"\n",
              "            style=\"display:none;\">\n",
              "\n",
              "  <svg xmlns=\"http://www.w3.org/2000/svg\" height=\"24px\" viewBox=\"0 -960 960 960\">\n",
              "    <path d=\"M120-120v-720h720v720H120Zm60-500h600v-160H180v160Zm220 220h160v-160H400v160Zm0 220h160v-160H400v160ZM180-400h160v-160H180v160Zm440 0h160v-160H620v160ZM180-180h160v-160H180v160Zm440 0h160v-160H620v160Z\"/>\n",
              "  </svg>\n",
              "    </button>\n",
              "\n",
              "  <style>\n",
              "    .colab-df-container {\n",
              "      display:flex;\n",
              "      gap: 12px;\n",
              "    }\n",
              "\n",
              "    .colab-df-convert {\n",
              "      background-color: #E8F0FE;\n",
              "      border: none;\n",
              "      border-radius: 50%;\n",
              "      cursor: pointer;\n",
              "      display: none;\n",
              "      fill: #1967D2;\n",
              "      height: 32px;\n",
              "      padding: 0 0 0 0;\n",
              "      width: 32px;\n",
              "    }\n",
              "\n",
              "    .colab-df-convert:hover {\n",
              "      background-color: #E2EBFA;\n",
              "      box-shadow: 0px 1px 2px rgba(60, 64, 67, 0.3), 0px 1px 3px 1px rgba(60, 64, 67, 0.15);\n",
              "      fill: #174EA6;\n",
              "    }\n",
              "\n",
              "    .colab-df-buttons div {\n",
              "      margin-bottom: 4px;\n",
              "    }\n",
              "\n",
              "    [theme=dark] .colab-df-convert {\n",
              "      background-color: #3B4455;\n",
              "      fill: #D2E3FC;\n",
              "    }\n",
              "\n",
              "    [theme=dark] .colab-df-convert:hover {\n",
              "      background-color: #434B5C;\n",
              "      box-shadow: 0px 1px 3px 1px rgba(0, 0, 0, 0.15);\n",
              "      filter: drop-shadow(0px 1px 2px rgba(0, 0, 0, 0.3));\n",
              "      fill: #FFFFFF;\n",
              "    }\n",
              "  </style>\n",
              "\n",
              "    <script>\n",
              "      const buttonEl =\n",
              "        document.querySelector('#df-40b3b44a-4799-4abf-82b1-5c4958bef6f6 button.colab-df-convert');\n",
              "      buttonEl.style.display =\n",
              "        google.colab.kernel.accessAllowed ? 'block' : 'none';\n",
              "\n",
              "      async function convertToInteractive(key) {\n",
              "        const element = document.querySelector('#df-40b3b44a-4799-4abf-82b1-5c4958bef6f6');\n",
              "        const dataTable =\n",
              "          await google.colab.kernel.invokeFunction('convertToInteractive',\n",
              "                                                    [key], {});\n",
              "        if (!dataTable) return;\n",
              "\n",
              "        const docLinkHtml = 'Like what you see? Visit the ' +\n",
              "          '<a target=\"_blank\" href=https://colab.research.google.com/notebooks/data_table.ipynb>data table notebook</a>'\n",
              "          + ' to learn more about interactive tables.';\n",
              "        element.innerHTML = '';\n",
              "        dataTable['output_type'] = 'display_data';\n",
              "        await google.colab.output.renderOutput(dataTable, element);\n",
              "        const docLink = document.createElement('div');\n",
              "        docLink.innerHTML = docLinkHtml;\n",
              "        element.appendChild(docLink);\n",
              "      }\n",
              "    </script>\n",
              "  </div>\n",
              "\n",
              "\n",
              "    <div id=\"df-c944e6d2-46e2-4512-a851-e5848a574282\">\n",
              "      <button class=\"colab-df-quickchart\" onclick=\"quickchart('df-c944e6d2-46e2-4512-a851-e5848a574282')\"\n",
              "                title=\"Suggest charts\"\n",
              "                style=\"display:none;\">\n",
              "\n",
              "<svg xmlns=\"http://www.w3.org/2000/svg\" height=\"24px\"viewBox=\"0 0 24 24\"\n",
              "     width=\"24px\">\n",
              "    <g>\n",
              "        <path d=\"M19 3H5c-1.1 0-2 .9-2 2v14c0 1.1.9 2 2 2h14c1.1 0 2-.9 2-2V5c0-1.1-.9-2-2-2zM9 17H7v-7h2v7zm4 0h-2V7h2v10zm4 0h-2v-4h2v4z\"/>\n",
              "    </g>\n",
              "</svg>\n",
              "      </button>\n",
              "\n",
              "<style>\n",
              "  .colab-df-quickchart {\n",
              "      --bg-color: #E8F0FE;\n",
              "      --fill-color: #1967D2;\n",
              "      --hover-bg-color: #E2EBFA;\n",
              "      --hover-fill-color: #174EA6;\n",
              "      --disabled-fill-color: #AAA;\n",
              "      --disabled-bg-color: #DDD;\n",
              "  }\n",
              "\n",
              "  [theme=dark] .colab-df-quickchart {\n",
              "      --bg-color: #3B4455;\n",
              "      --fill-color: #D2E3FC;\n",
              "      --hover-bg-color: #434B5C;\n",
              "      --hover-fill-color: #FFFFFF;\n",
              "      --disabled-bg-color: #3B4455;\n",
              "      --disabled-fill-color: #666;\n",
              "  }\n",
              "\n",
              "  .colab-df-quickchart {\n",
              "    background-color: var(--bg-color);\n",
              "    border: none;\n",
              "    border-radius: 50%;\n",
              "    cursor: pointer;\n",
              "    display: none;\n",
              "    fill: var(--fill-color);\n",
              "    height: 32px;\n",
              "    padding: 0;\n",
              "    width: 32px;\n",
              "  }\n",
              "\n",
              "  .colab-df-quickchart:hover {\n",
              "    background-color: var(--hover-bg-color);\n",
              "    box-shadow: 0 1px 2px rgba(60, 64, 67, 0.3), 0 1px 3px 1px rgba(60, 64, 67, 0.15);\n",
              "    fill: var(--button-hover-fill-color);\n",
              "  }\n",
              "\n",
              "  .colab-df-quickchart-complete:disabled,\n",
              "  .colab-df-quickchart-complete:disabled:hover {\n",
              "    background-color: var(--disabled-bg-color);\n",
              "    fill: var(--disabled-fill-color);\n",
              "    box-shadow: none;\n",
              "  }\n",
              "\n",
              "  .colab-df-spinner {\n",
              "    border: 2px solid var(--fill-color);\n",
              "    border-color: transparent;\n",
              "    border-bottom-color: var(--fill-color);\n",
              "    animation:\n",
              "      spin 1s steps(1) infinite;\n",
              "  }\n",
              "\n",
              "  @keyframes spin {\n",
              "    0% {\n",
              "      border-color: transparent;\n",
              "      border-bottom-color: var(--fill-color);\n",
              "      border-left-color: var(--fill-color);\n",
              "    }\n",
              "    20% {\n",
              "      border-color: transparent;\n",
              "      border-left-color: var(--fill-color);\n",
              "      border-top-color: var(--fill-color);\n",
              "    }\n",
              "    30% {\n",
              "      border-color: transparent;\n",
              "      border-left-color: var(--fill-color);\n",
              "      border-top-color: var(--fill-color);\n",
              "      border-right-color: var(--fill-color);\n",
              "    }\n",
              "    40% {\n",
              "      border-color: transparent;\n",
              "      border-right-color: var(--fill-color);\n",
              "      border-top-color: var(--fill-color);\n",
              "    }\n",
              "    60% {\n",
              "      border-color: transparent;\n",
              "      border-right-color: var(--fill-color);\n",
              "    }\n",
              "    80% {\n",
              "      border-color: transparent;\n",
              "      border-right-color: var(--fill-color);\n",
              "      border-bottom-color: var(--fill-color);\n",
              "    }\n",
              "    90% {\n",
              "      border-color: transparent;\n",
              "      border-bottom-color: var(--fill-color);\n",
              "    }\n",
              "  }\n",
              "</style>\n",
              "\n",
              "      <script>\n",
              "        async function quickchart(key) {\n",
              "          const quickchartButtonEl =\n",
              "            document.querySelector('#' + key + ' button');\n",
              "          quickchartButtonEl.disabled = true;  // To prevent multiple clicks.\n",
              "          quickchartButtonEl.classList.add('colab-df-spinner');\n",
              "          try {\n",
              "            const charts = await google.colab.kernel.invokeFunction(\n",
              "                'suggestCharts', [key], {});\n",
              "          } catch (error) {\n",
              "            console.error('Error during call to suggestCharts:', error);\n",
              "          }\n",
              "          quickchartButtonEl.classList.remove('colab-df-spinner');\n",
              "          quickchartButtonEl.classList.add('colab-df-quickchart-complete');\n",
              "        }\n",
              "        (() => {\n",
              "          let quickchartButtonEl =\n",
              "            document.querySelector('#df-c944e6d2-46e2-4512-a851-e5848a574282 button');\n",
              "          quickchartButtonEl.style.display =\n",
              "            google.colab.kernel.accessAllowed ? 'block' : 'none';\n",
              "        })();\n",
              "      </script>\n",
              "    </div>\n",
              "\n",
              "    </div>\n",
              "  </div>\n"
            ],
            "application/vnd.google.colaboratory.intrinsic+json": {
              "type": "dataframe",
              "summary": "{\n  \"name\": \"recommend_books('Wild Animus')\",\n  \"rows\": 5,\n  \"fields\": [\n    {\n      \"column\": \"Book-Title\",\n      \"properties\": {\n        \"dtype\": \"string\",\n        \"num_unique_values\": 5,\n        \"samples\": [\n          \"Call of the Wild\",\n          \"A Heart So Wild\",\n          \"Wild About You\"\n        ],\n        \"semantic_type\": \"\",\n        \"description\": \"\"\n      }\n    },\n    {\n      \"column\": \"Book-Author\",\n      \"properties\": {\n        \"dtype\": \"string\",\n        \"num_unique_values\": 5,\n        \"samples\": [\n          \"Jack London\",\n          \"Johanna Lindsey\",\n          \"Robin Wells\"\n        ],\n        \"semantic_type\": \"\",\n        \"description\": \"\"\n      }\n    }\n  ]\n}"
            }
          },
          "metadata": {},
          "execution_count": 60
        }
      ],
      "execution_count": null
    },
    {
      "metadata": {
        "id": "fe9ff2fd7af986f1"
      },
      "cell_type": "markdown",
      "source": [
        "#### Contoh Hasil Rekomendasi Top-5 Buku (Menggunakan Content-Based Filtering)\n",
        "\n",
        "Untuk menguji performa sistem rekomendasi **Content-Based Filtering**, dilakukan pengujian dengan memberikan sebuah judul buku sebagai input:\n",
        "\n",
        "**Input Buku:**\n",
        ">Wild Animus\n",
        "\n",
        "Sistem kemudian mencari **5 judul buku lain** yang paling mirip secara teks berdasarkan teknik **TF-IDF Vectorization** dan **Cosine Similarity**, yang dihitung dari kolom **judul buku (Book-Title)**.\n",
        "\n",
        "---\n",
        "\n",
        "#### **Hasil Rekomendasi Top-5 Buku:**\n",
        "\n",
        "| No | Book-Title       | Book-Author     |\n",
        "| -- | ---------------- | --------------- |\n",
        "| 1  | Into the Wild    | Jon Krakauer    |\n",
        "| 2  | Call of the Wild | Jack London     |\n",
        "| 3  | Wild About You   | Robin Wells     |\n",
        "| 4  | Wild             | Lori Foster     |\n",
        "| 5  | A Heart So Wild  | Johanna Lindsey |\n",
        "\n",
        "---\n",
        "\n",
        "### **Interpretasi Hasil:**\n",
        "\n",
        "* Semua buku yang direkomendasikan mengandung kata **\"Wild\"** dalam judulnya, yang sesuai dengan kata kunci utama dari buku input.\n",
        "* Hal ini menunjukkan bahwa sistem berhasil mendeteksi **kemiripan secara tekstual** antar judul.\n",
        "* Meski isi buku dan penulis berbeda, sistem mengidentifikasi pola kata kunci untuk memberikan alternatif yang relevan dari sisi judul.\n",
        "\n",
        "### **Kesimpulan:**\n",
        "\n",
        "Rekomendasi ini membuktikan bahwa **Content-Based Filtering berbasis judul buku** dapat efektif dalam menyarankan buku-buku dengan topik atau tema serupa. Namun, untuk hasil yang lebih kontekstual, pengembangan sistem dengan mempertimbangkan sinopsis, genre, atau kolaborasi antar pengguna masih sangat disarankan.\n",
        "\n"
      ],
      "id": "fe9ff2fd7af986f1"
    },
    {
      "metadata": {
        "id": "9e56364705980d01"
      },
      "cell_type": "markdown",
      "source": [
        "## Model Development dengan User-Based Filtering"
      ],
      "id": "9e56364705980d01"
    },
    {
      "cell_type": "markdown",
      "source": [
        "#### Analisis Fungsi Rekomendasi"
      ],
      "metadata": {
        "id": "jbnYNh7oxmnX"
      },
      "id": "jbnYNh7oxmnX"
    },
    {
      "metadata": {
        "ExecuteTime": {
          "end_time": "2025-05-07T06:07:54.205984Z",
          "start_time": "2025-05-07T06:07:54.193438Z"
        },
        "id": "327022de4258555b"
      },
      "cell_type": "code",
      "source": [
        "def recommend_books_userbased(user_id, user_item_matrix, user_similarity, books_filtered, top_n=5):\n",
        "    if user_id not in user_item_matrix.index:\n",
        "        return f\"User ID {user_id} tidak ditemukan dalam data.\"\n",
        "\n",
        "    idx = user_item_matrix.index.get_loc(user_id)\n",
        "    sim_scores = list(enumerate(user_similarity[idx]))\n",
        "    sim_scores = sorted(sim_scores, key=lambda x: x[1], reverse=True)\n",
        "    similar_users_idx = [i[0] for i in sim_scores[1:6]]\n",
        "    similar_users = user_item_matrix.index[similar_users_idx]\n",
        "    books_recommend = user_item_matrix.loc[similar_users]\n",
        "    books_recommend = books_recommend.mean(axis=0)\n",
        "    books_recommend = books_recommend.sort_values(ascending=False)\n",
        "    user_books = user_item_matrix.loc[user_id]\n",
        "    unseen_books = books_recommend[user_books.isna()]\n",
        "    top_books = unseen_books.head(top_n)\n",
        "    recommendations = books_filtered[books_filtered['ISBN'].isin(top_books.index)][['ISBN', 'Book-Title', 'Book-Author']]\n",
        "    recommendations = recommendations.merge(top_books.reset_index(), left_on='ISBN', right_on='isbn')\n",
        "    recommendations = recommendations.rename(columns={0: 'Average-Rating'})\n",
        "    recommendations = recommendations[['ISBN', 'Book-Title', 'Book-Author', 'Average-Rating']]\n",
        "    return recommendations.reset_index(drop=True)\n"
      ],
      "id": "327022de4258555b",
      "outputs": [],
      "execution_count": null
    },
    {
      "metadata": {
        "id": "b3d26b7c6b00b872"
      },
      "cell_type": "markdown",
      "source": [
        "##### **Deskripsi Umum**\n",
        "\n",
        "Fungsi ini dirancang untuk memberikan rekomendasi buku kepada seorang pengguna berdasarkan kemiripan pola preferensi mereka dengan pengguna lain. Pendekatan yang digunakan adalah *User-Based Collaborative Filtering*, yang mengandalkan kedekatan antar pengguna dalam hal perilaku pemberian rating terhadap buku.\n",
        "\n",
        "##### **Metode yang Digunakan**\n",
        "\n",
        "* **User-Based Collaborative Filtering**\n",
        "  Sistem membandingkan preferensi pengguna target dengan pengguna lain menggunakan metrik *cosine similarity* terhadap data rating.\n",
        "* Buku yang memiliki rating tinggi oleh pengguna-pengguna yang mirip, namun belum pernah dinilai oleh pengguna target, akan menjadi kandidat rekomendasi.\n",
        "\n",
        "##### **Tahapan Proses**\n",
        "\n",
        "1. Sistem menghitung skor kemiripan antara pengguna target dan seluruh pengguna lain.\n",
        "2. Memilih lima pengguna paling mirip (tidak termasuk dirinya sendiri).\n",
        "3. Menggabungkan dan menghitung rata-rata rating buku dari lima pengguna tersebut.\n",
        "4. Menyaring buku-buku yang belum pernah diberikan rating oleh pengguna target.\n",
        "5. Mengurutkan hasil dan mengambil *Top-N* buku berdasarkan rata-rata rating tertinggi.\n",
        "6. Menggabungkan ISBN buku dengan data deskriptif seperti judul (*Book-Title*) dan penulis (*Book-Author*).\n",
        "7. Menambahkan kolom nilai rata-rata rating (*Average-Rating*) ke dalam hasil rekomendasi akhir.\n",
        "\n",
        "##### **Tujuan**\n",
        "\n",
        "Fungsi ini bertujuan untuk memberikan saran buku yang relevan dan potensial disukai oleh pengguna, dengan mengacu pada pola kesukaan pengguna lain yang memiliki preferensi serupa.\n"
      ],
      "id": "b3d26b7c6b00b872"
    },
    {
      "cell_type": "markdown",
      "source": [
        "#### Contoh Hasil Rekomendasi User-Based Collaborative Filtering"
      ],
      "metadata": {
        "id": "ZicPP8wGxvG_"
      },
      "id": "ZicPP8wGxvG_"
    },
    {
      "metadata": {
        "ExecuteTime": {
          "end_time": "2025-05-07T06:07:56.617954Z",
          "start_time": "2025-05-07T06:07:54.365153Z"
        },
        "id": "cd6e9695cbb4f556",
        "colab": {
          "base_uri": "https://localhost:8080/",
          "height": 224
        },
        "outputId": "adbc430f-6fb6-47b1-d27a-1a6e3bb57e2a"
      },
      "cell_type": "code",
      "source": [
        "example_user = user_item_matrix.index[9]  # ambil user kesepuluh\n",
        "\n",
        "print(f\"Rekomendasi untuk User ID: {example_user}\")\n",
        "recommend_books_userbased(example_user, user_item_matrix, user_similarity, books_filtered, top_n=5)"
      ],
      "id": "cd6e9695cbb4f556",
      "outputs": [
        {
          "output_type": "stream",
          "name": "stdout",
          "text": [
            "Rekomendasi untuk User ID: 1435\n"
          ]
        },
        {
          "output_type": "execute_result",
          "data": {
            "text/plain": [
              "         ISBN                                         Book-Title  \\\n",
              "0  1592400876  Eats, Shoots &amp; Leaves: The Zero Tolerance ...   \n",
              "1  0451191145                                     Atlas Shrugged   \n",
              "2  0394747232    Maus a Survivors Tale: My Father Bleeds History   \n",
              "3  067942895X       The Complete Collected Poems of Maya Angelou   \n",
              "4  0836270096                                  Magic Eye, Vol. 2   \n",
              "\n",
              "              Book-Author  Average-Rating  \n",
              "0             Lynne Truss            10.0  \n",
              "1                Ayn Rand            10.0  \n",
              "2          Art Spiegelman            10.0  \n",
              "3            MAYA ANGELOU            10.0  \n",
              "4  N.E. Thing Enterprises            10.0  "
            ],
            "text/html": [
              "\n",
              "  <div id=\"df-23625a78-57b6-4a79-b16c-de157435ee47\" class=\"colab-df-container\">\n",
              "    <div>\n",
              "<style scoped>\n",
              "    .dataframe tbody tr th:only-of-type {\n",
              "        vertical-align: middle;\n",
              "    }\n",
              "\n",
              "    .dataframe tbody tr th {\n",
              "        vertical-align: top;\n",
              "    }\n",
              "\n",
              "    .dataframe thead th {\n",
              "        text-align: right;\n",
              "    }\n",
              "</style>\n",
              "<table border=\"1\" class=\"dataframe\">\n",
              "  <thead>\n",
              "    <tr style=\"text-align: right;\">\n",
              "      <th></th>\n",
              "      <th>ISBN</th>\n",
              "      <th>Book-Title</th>\n",
              "      <th>Book-Author</th>\n",
              "      <th>Average-Rating</th>\n",
              "    </tr>\n",
              "  </thead>\n",
              "  <tbody>\n",
              "    <tr>\n",
              "      <th>0</th>\n",
              "      <td>1592400876</td>\n",
              "      <td>Eats, Shoots &amp;amp; Leaves: The Zero Tolerance ...</td>\n",
              "      <td>Lynne Truss</td>\n",
              "      <td>10.0</td>\n",
              "    </tr>\n",
              "    <tr>\n",
              "      <th>1</th>\n",
              "      <td>0451191145</td>\n",
              "      <td>Atlas Shrugged</td>\n",
              "      <td>Ayn Rand</td>\n",
              "      <td>10.0</td>\n",
              "    </tr>\n",
              "    <tr>\n",
              "      <th>2</th>\n",
              "      <td>0394747232</td>\n",
              "      <td>Maus a Survivors Tale: My Father Bleeds History</td>\n",
              "      <td>Art Spiegelman</td>\n",
              "      <td>10.0</td>\n",
              "    </tr>\n",
              "    <tr>\n",
              "      <th>3</th>\n",
              "      <td>067942895X</td>\n",
              "      <td>The Complete Collected Poems of Maya Angelou</td>\n",
              "      <td>MAYA ANGELOU</td>\n",
              "      <td>10.0</td>\n",
              "    </tr>\n",
              "    <tr>\n",
              "      <th>4</th>\n",
              "      <td>0836270096</td>\n",
              "      <td>Magic Eye, Vol. 2</td>\n",
              "      <td>N.E. Thing Enterprises</td>\n",
              "      <td>10.0</td>\n",
              "    </tr>\n",
              "  </tbody>\n",
              "</table>\n",
              "</div>\n",
              "    <div class=\"colab-df-buttons\">\n",
              "\n",
              "  <div class=\"colab-df-container\">\n",
              "    <button class=\"colab-df-convert\" onclick=\"convertToInteractive('df-23625a78-57b6-4a79-b16c-de157435ee47')\"\n",
              "            title=\"Convert this dataframe to an interactive table.\"\n",
              "            style=\"display:none;\">\n",
              "\n",
              "  <svg xmlns=\"http://www.w3.org/2000/svg\" height=\"24px\" viewBox=\"0 -960 960 960\">\n",
              "    <path d=\"M120-120v-720h720v720H120Zm60-500h600v-160H180v160Zm220 220h160v-160H400v160Zm0 220h160v-160H400v160ZM180-400h160v-160H180v160Zm440 0h160v-160H620v160ZM180-180h160v-160H180v160Zm440 0h160v-160H620v160Z\"/>\n",
              "  </svg>\n",
              "    </button>\n",
              "\n",
              "  <style>\n",
              "    .colab-df-container {\n",
              "      display:flex;\n",
              "      gap: 12px;\n",
              "    }\n",
              "\n",
              "    .colab-df-convert {\n",
              "      background-color: #E8F0FE;\n",
              "      border: none;\n",
              "      border-radius: 50%;\n",
              "      cursor: pointer;\n",
              "      display: none;\n",
              "      fill: #1967D2;\n",
              "      height: 32px;\n",
              "      padding: 0 0 0 0;\n",
              "      width: 32px;\n",
              "    }\n",
              "\n",
              "    .colab-df-convert:hover {\n",
              "      background-color: #E2EBFA;\n",
              "      box-shadow: 0px 1px 2px rgba(60, 64, 67, 0.3), 0px 1px 3px 1px rgba(60, 64, 67, 0.15);\n",
              "      fill: #174EA6;\n",
              "    }\n",
              "\n",
              "    .colab-df-buttons div {\n",
              "      margin-bottom: 4px;\n",
              "    }\n",
              "\n",
              "    [theme=dark] .colab-df-convert {\n",
              "      background-color: #3B4455;\n",
              "      fill: #D2E3FC;\n",
              "    }\n",
              "\n",
              "    [theme=dark] .colab-df-convert:hover {\n",
              "      background-color: #434B5C;\n",
              "      box-shadow: 0px 1px 3px 1px rgba(0, 0, 0, 0.15);\n",
              "      filter: drop-shadow(0px 1px 2px rgba(0, 0, 0, 0.3));\n",
              "      fill: #FFFFFF;\n",
              "    }\n",
              "  </style>\n",
              "\n",
              "    <script>\n",
              "      const buttonEl =\n",
              "        document.querySelector('#df-23625a78-57b6-4a79-b16c-de157435ee47 button.colab-df-convert');\n",
              "      buttonEl.style.display =\n",
              "        google.colab.kernel.accessAllowed ? 'block' : 'none';\n",
              "\n",
              "      async function convertToInteractive(key) {\n",
              "        const element = document.querySelector('#df-23625a78-57b6-4a79-b16c-de157435ee47');\n",
              "        const dataTable =\n",
              "          await google.colab.kernel.invokeFunction('convertToInteractive',\n",
              "                                                    [key], {});\n",
              "        if (!dataTable) return;\n",
              "\n",
              "        const docLinkHtml = 'Like what you see? Visit the ' +\n",
              "          '<a target=\"_blank\" href=https://colab.research.google.com/notebooks/data_table.ipynb>data table notebook</a>'\n",
              "          + ' to learn more about interactive tables.';\n",
              "        element.innerHTML = '';\n",
              "        dataTable['output_type'] = 'display_data';\n",
              "        await google.colab.output.renderOutput(dataTable, element);\n",
              "        const docLink = document.createElement('div');\n",
              "        docLink.innerHTML = docLinkHtml;\n",
              "        element.appendChild(docLink);\n",
              "      }\n",
              "    </script>\n",
              "  </div>\n",
              "\n",
              "\n",
              "    <div id=\"df-99e56c09-9bf0-4c3b-a696-7b6d18bf61c3\">\n",
              "      <button class=\"colab-df-quickchart\" onclick=\"quickchart('df-99e56c09-9bf0-4c3b-a696-7b6d18bf61c3')\"\n",
              "                title=\"Suggest charts\"\n",
              "                style=\"display:none;\">\n",
              "\n",
              "<svg xmlns=\"http://www.w3.org/2000/svg\" height=\"24px\"viewBox=\"0 0 24 24\"\n",
              "     width=\"24px\">\n",
              "    <g>\n",
              "        <path d=\"M19 3H5c-1.1 0-2 .9-2 2v14c0 1.1.9 2 2 2h14c1.1 0 2-.9 2-2V5c0-1.1-.9-2-2-2zM9 17H7v-7h2v7zm4 0h-2V7h2v10zm4 0h-2v-4h2v4z\"/>\n",
              "    </g>\n",
              "</svg>\n",
              "      </button>\n",
              "\n",
              "<style>\n",
              "  .colab-df-quickchart {\n",
              "      --bg-color: #E8F0FE;\n",
              "      --fill-color: #1967D2;\n",
              "      --hover-bg-color: #E2EBFA;\n",
              "      --hover-fill-color: #174EA6;\n",
              "      --disabled-fill-color: #AAA;\n",
              "      --disabled-bg-color: #DDD;\n",
              "  }\n",
              "\n",
              "  [theme=dark] .colab-df-quickchart {\n",
              "      --bg-color: #3B4455;\n",
              "      --fill-color: #D2E3FC;\n",
              "      --hover-bg-color: #434B5C;\n",
              "      --hover-fill-color: #FFFFFF;\n",
              "      --disabled-bg-color: #3B4455;\n",
              "      --disabled-fill-color: #666;\n",
              "  }\n",
              "\n",
              "  .colab-df-quickchart {\n",
              "    background-color: var(--bg-color);\n",
              "    border: none;\n",
              "    border-radius: 50%;\n",
              "    cursor: pointer;\n",
              "    display: none;\n",
              "    fill: var(--fill-color);\n",
              "    height: 32px;\n",
              "    padding: 0;\n",
              "    width: 32px;\n",
              "  }\n",
              "\n",
              "  .colab-df-quickchart:hover {\n",
              "    background-color: var(--hover-bg-color);\n",
              "    box-shadow: 0 1px 2px rgba(60, 64, 67, 0.3), 0 1px 3px 1px rgba(60, 64, 67, 0.15);\n",
              "    fill: var(--button-hover-fill-color);\n",
              "  }\n",
              "\n",
              "  .colab-df-quickchart-complete:disabled,\n",
              "  .colab-df-quickchart-complete:disabled:hover {\n",
              "    background-color: var(--disabled-bg-color);\n",
              "    fill: var(--disabled-fill-color);\n",
              "    box-shadow: none;\n",
              "  }\n",
              "\n",
              "  .colab-df-spinner {\n",
              "    border: 2px solid var(--fill-color);\n",
              "    border-color: transparent;\n",
              "    border-bottom-color: var(--fill-color);\n",
              "    animation:\n",
              "      spin 1s steps(1) infinite;\n",
              "  }\n",
              "\n",
              "  @keyframes spin {\n",
              "    0% {\n",
              "      border-color: transparent;\n",
              "      border-bottom-color: var(--fill-color);\n",
              "      border-left-color: var(--fill-color);\n",
              "    }\n",
              "    20% {\n",
              "      border-color: transparent;\n",
              "      border-left-color: var(--fill-color);\n",
              "      border-top-color: var(--fill-color);\n",
              "    }\n",
              "    30% {\n",
              "      border-color: transparent;\n",
              "      border-left-color: var(--fill-color);\n",
              "      border-top-color: var(--fill-color);\n",
              "      border-right-color: var(--fill-color);\n",
              "    }\n",
              "    40% {\n",
              "      border-color: transparent;\n",
              "      border-right-color: var(--fill-color);\n",
              "      border-top-color: var(--fill-color);\n",
              "    }\n",
              "    60% {\n",
              "      border-color: transparent;\n",
              "      border-right-color: var(--fill-color);\n",
              "    }\n",
              "    80% {\n",
              "      border-color: transparent;\n",
              "      border-right-color: var(--fill-color);\n",
              "      border-bottom-color: var(--fill-color);\n",
              "    }\n",
              "    90% {\n",
              "      border-color: transparent;\n",
              "      border-bottom-color: var(--fill-color);\n",
              "    }\n",
              "  }\n",
              "</style>\n",
              "\n",
              "      <script>\n",
              "        async function quickchart(key) {\n",
              "          const quickchartButtonEl =\n",
              "            document.querySelector('#' + key + ' button');\n",
              "          quickchartButtonEl.disabled = true;  // To prevent multiple clicks.\n",
              "          quickchartButtonEl.classList.add('colab-df-spinner');\n",
              "          try {\n",
              "            const charts = await google.colab.kernel.invokeFunction(\n",
              "                'suggestCharts', [key], {});\n",
              "          } catch (error) {\n",
              "            console.error('Error during call to suggestCharts:', error);\n",
              "          }\n",
              "          quickchartButtonEl.classList.remove('colab-df-spinner');\n",
              "          quickchartButtonEl.classList.add('colab-df-quickchart-complete');\n",
              "        }\n",
              "        (() => {\n",
              "          let quickchartButtonEl =\n",
              "            document.querySelector('#df-99e56c09-9bf0-4c3b-a696-7b6d18bf61c3 button');\n",
              "          quickchartButtonEl.style.display =\n",
              "            google.colab.kernel.accessAllowed ? 'block' : 'none';\n",
              "        })();\n",
              "      </script>\n",
              "    </div>\n",
              "\n",
              "    </div>\n",
              "  </div>\n"
            ],
            "application/vnd.google.colaboratory.intrinsic+json": {
              "type": "dataframe",
              "summary": "{\n  \"name\": \"recommend_books_userbased(example_user, user_item_matrix, user_similarity, books_filtered, top_n=5)\",\n  \"rows\": 5,\n  \"fields\": [\n    {\n      \"column\": \"ISBN\",\n      \"properties\": {\n        \"dtype\": \"string\",\n        \"num_unique_values\": 5,\n        \"samples\": [\n          \"0451191145\",\n          \"0836270096\",\n          \"0394747232\"\n        ],\n        \"semantic_type\": \"\",\n        \"description\": \"\"\n      }\n    },\n    {\n      \"column\": \"Book-Title\",\n      \"properties\": {\n        \"dtype\": \"string\",\n        \"num_unique_values\": 5,\n        \"samples\": [\n          \"Atlas Shrugged\",\n          \"Magic Eye, Vol. 2\",\n          \"Maus a Survivors Tale: My Father Bleeds History\"\n        ],\n        \"semantic_type\": \"\",\n        \"description\": \"\"\n      }\n    },\n    {\n      \"column\": \"Book-Author\",\n      \"properties\": {\n        \"dtype\": \"string\",\n        \"num_unique_values\": 5,\n        \"samples\": [\n          \"Ayn Rand\",\n          \"N.E. Thing Enterprises\",\n          \"Art Spiegelman\"\n        ],\n        \"semantic_type\": \"\",\n        \"description\": \"\"\n      }\n    },\n    {\n      \"column\": \"Average-Rating\",\n      \"properties\": {\n        \"dtype\": \"number\",\n        \"std\": 0.0,\n        \"min\": 10.0,\n        \"max\": 10.0,\n        \"num_unique_values\": 1,\n        \"samples\": [\n          10.0\n        ],\n        \"semantic_type\": \"\",\n        \"description\": \"\"\n      }\n    }\n  ]\n}"
            }
          },
          "metadata": {},
          "execution_count": 61
        }
      ],
      "execution_count": null
    },
    {
      "metadata": {
        "id": "2f6ed7c26f947804"
      },
      "cell_type": "markdown",
      "source": [
        "Untuk menguji efektivitas fungsi recommend_books_userbased, saya mencoba menjalankannya pada salah satu pengguna dari dataset.\n",
        "\n",
        "##### **Input:**\n",
        "\n",
        "* **User ID:** 1435\n",
        "  (Dipilih sebagai contoh dari urutan ke-10 dalam user_item_matrix.index)\n",
        "\n",
        "##### **Proses Rekomendasi:**\n",
        "\n",
        "1. Sistem menghitung skor kemiripan (cosine similarity) antara User ID 1435 dengan seluruh pengguna lain.\n",
        "2. Lima pengguna dengan preferensi yang paling mirip dipilih sebagai acuan.\n",
        "3. Rata-rata rating buku dari kelima pengguna tersebut dihitung.\n",
        "4. Sistem menyaring buku-buku yang belum pernah diberi rating oleh User ID 1435.\n",
        "5. Top-5 buku dengan rata-rata rating tertinggi direkomendasikan.\n",
        "6. Informasi ISBN, judul buku, penulis, dan rata-rata rating ditampilkan sebagai hasil akhir.\n",
        "\n",
        "##### **Output:**\n",
        "\n",
        "Berikut adalah 5 rekomendasi buku yang dihasilkan untuk User ID 1435:\n",
        "\n",
        "| No | ISBN       | Book-Title                                                          | Book-Author            | Average-Rating |\n",
        "| -- | ---------- | ------------------------------------------------------------------- | ---------------------- | -------------- |\n",
        "| 1  | 1592400876 | *Eats, Shoots & Leaves: The Zero Tolerance Approach to Punctuation* | Lynne Truss            | 10.0           |\n",
        "| 2  | 0451191145 | *Atlas Shrugged*                                                    | Ayn Rand               | 10.0           |\n",
        "| 3  | 0394747232 | *Maus: A Survivor's Tale: My Father Bleeds History*                 | Art Spiegelman         | 10.0           |\n",
        "| 4  | 067942895X | *The Complete Collected Poems of Maya Angelou*                      | Maya Angelou           | 10.0           |\n",
        "| 5  | 0836270096 | *Magic Eye, Vol. 2*                                                 | N.E. Thing Enterprises | 10.0           |\n",
        "\n",
        "##### **Catatan:**\n",
        "\n",
        "* Seluruh rekomendasi memiliki nilai rata-rata rating sempurna (10.0), menunjukkan konsistensi preferensi dari pengguna-pengguna yang mirip.\n",
        "* Semua ISBN yang direkomendasikan berhasil ditemukan pada data buku books_filtered, sehingga hasilnya lengkap."
      ],
      "id": "2f6ed7c26f947804"
    },
    {
      "metadata": {
        "id": "b7361932e3d9f3c4"
      },
      "cell_type": "markdown",
      "source": [
        "## Model Development dengan Collaborative Filtering menggunakan Keras"
      ],
      "id": "b7361932e3d9f3c4"
    },
    {
      "metadata": {
        "ExecuteTime": {
          "end_time": "2025-05-07T06:08:04.522764Z",
          "start_time": "2025-05-07T06:07:56.960813Z"
        },
        "id": "81e6f157f90b0deb"
      },
      "cell_type": "code",
      "source": [
        "class RecommenderNet(tf.keras.Model):\n",
        "\n",
        "    def __init__(self, num_users, num_books, embedding_size=50, **kwargs):\n",
        "        super(RecommenderNet, self).__init__(**kwargs)\n",
        "        self.num_users = num_users\n",
        "        self.num_books = num_books\n",
        "        self.embedding_size = embedding_size\n",
        "\n",
        "        # User embedding\n",
        "        self.user_embedding = layers.Embedding(\n",
        "            num_users,\n",
        "            embedding_size,\n",
        "            embeddings_initializer='he_normal',\n",
        "            embeddings_regularizer=keras.regularizers.l2(1e-6)\n",
        "        )\n",
        "        self.user_bias = layers.Embedding(num_users, 1)\n",
        "\n",
        "        # Book embedding\n",
        "        self.book_embedding = layers.Embedding(\n",
        "            num_books,\n",
        "            embedding_size,\n",
        "            embeddings_initializer='he_normal',\n",
        "            embeddings_regularizer=keras.regularizers.l2(1e-6)\n",
        "        )\n",
        "        self.book_bias = layers.Embedding(num_books, 1)\n",
        "\n",
        "    def call(self, inputs):\n",
        "        user_vector = self.user_embedding(inputs[:, 0])\n",
        "        user_bias = self.user_bias(inputs[:, 0])\n",
        "        book_vector = self.book_embedding(inputs[:, 1])\n",
        "        book_bias = self.book_bias(inputs[:, 1])\n",
        "\n",
        "        dot_user_book = tf.tensordot(user_vector, book_vector, 2)\n",
        "        x = dot_user_book + user_bias + book_bias\n",
        "\n",
        "        return tf.nn.sigmoid(x)"
      ],
      "id": "81e6f157f90b0deb",
      "outputs": [],
      "execution_count": null
    },
    {
      "metadata": {
        "id": "38c3d68edd3e0bde"
      },
      "cell_type": "markdown",
      "source": [
        "#### Membangun Class Model RecommenderNet\n",
        "\n",
        "saya membangun sebuah model deep learning custom menggunakan TensorFlow/Keras subclassing API.\n",
        "\n",
        "**Spesifikasi Arsitektur:**\n",
        "- **User Embedding Layer**: Membentuk representasi vektor laten untuk setiap user.\n",
        "- **Book Embedding Layer**: Membentuk representasi vektor laten untuk setiap buku.\n",
        "- **Bias Layer**: Menambahkan bias untuk setiap user dan setiap buku.\n",
        "- **Dot Product**: Menghitung tingkat kecocokan antara user dan buku.\n",
        "- **Activation Function**: Sigmoid, untuk membatasi skor prediksi pada rentang [0,1].\n",
        "\n",
        "Model ini bertujuan untuk mempelajari interaksi antara user dan item secara efisien melalui representasi embedding."
      ],
      "id": "38c3d68edd3e0bde"
    },
    {
      "metadata": {
        "ExecuteTime": {
          "end_time": "2025-05-07T06:08:08.203670Z",
          "start_time": "2025-05-07T06:08:04.664737Z"
        },
        "id": "758f30971ff568db"
      },
      "cell_type": "code",
      "source": [
        "# Inisialisasi model\n",
        "model = RecommenderNet(num_users, num_books, embedding_size=50)\n",
        "\n",
        "# Compile model\n",
        "model.compile(\n",
        "    loss=tf.keras.losses.BinaryCrossentropy(),\n",
        "    optimizer=keras.optimizers.Adam(learning_rate=0.001),\n",
        "    metrics=[tf.keras.metrics.RootMeanSquaredError()]\n",
        ")"
      ],
      "id": "758f30971ff568db",
      "outputs": [],
      "execution_count": null
    },
    {
      "metadata": {
        "id": "b63d236773fea1a0"
      },
      "cell_type": "markdown",
      "source": [
        "#### Inisialisasi dan Compile Model RecommenderNet\n",
        "\n",
        "Setelah membangun arsitektur model, saya melakukan inisialisasi dan kompilasi model dengan spesifikasi sebagai berikut:\n",
        "\n",
        "- **Loss Function**: Binary Crossentropy\n",
        "- **Optimizer**: Adam Optimizer (learning rate = 0.001)\n",
        "- **Evaluation Metric**: Root Mean Squared Error (RMSE)\n",
        "\n",
        "Loss function binary crossentropy dipilih karena model memprediksi probabilitas keterkaitan user-buku dalam rentang [0,1].\n",
        "\n",
        "Model siap dilatih setelah proses kompilasi ini."
      ],
      "id": "b63d236773fea1a0"
    },
    {
      "cell_type": "code",
      "source": [
        "# Setup EarlyStopping\n",
        "early_stop = EarlyStopping(\n",
        "    monitor='val_root_mean_squared_error', # Monitor validasi RMSE\n",
        "    patience=5, # Tunggu 5 epoch berturut-turut, kalau nggak improve, stop\n",
        "    restore_best_weights=True # Balikin ke model dengan bobot terbaik\n",
        ")\n",
        "\n",
        "# Retraining dengan EarlyStopping\n",
        "history = model.fit(\n",
        "    x=x_train,\n",
        "    y=y_train,\n",
        "    batch_size=8,\n",
        "    epochs=20,\n",
        "    validation_data=(x_val, y_val),\n",
        "    callbacks=[early_stop]\n",
        ")"
      ],
      "metadata": {
        "colab": {
          "base_uri": "https://localhost:8080/"
        },
        "id": "hImuyINYXirx",
        "outputId": "2d32e378-5897-441e-eba9-5edda903ede4"
      },
      "id": "hImuyINYXirx",
      "execution_count": null,
      "outputs": [
        {
          "output_type": "stream",
          "name": "stdout",
          "text": [
            "Epoch 1/20\n",
            "\u001b[1m9840/9840\u001b[0m \u001b[32m━━━━━━━━━━━━━━━━━━━━\u001b[0m\u001b[37m\u001b[0m \u001b[1m126s\u001b[0m 13ms/step - loss: 0.6380 - root_mean_squared_error: 0.2831 - val_loss: 0.5405 - val_root_mean_squared_error: 0.1886\n",
            "Epoch 2/20\n",
            "\u001b[1m9840/9840\u001b[0m \u001b[32m━━━━━━━━━━━━━━━━━━━━\u001b[0m\u001b[37m\u001b[0m \u001b[1m130s\u001b[0m 13ms/step - loss: 0.5335 - root_mean_squared_error: 0.1799 - val_loss: 0.5361 - val_root_mean_squared_error: 0.1845\n",
            "Epoch 3/20\n",
            "\u001b[1m9840/9840\u001b[0m \u001b[32m━━━━━━━━━━━━━━━━━━━━\u001b[0m\u001b[37m\u001b[0m \u001b[1m180s\u001b[0m 17ms/step - loss: 0.5252 - root_mean_squared_error: 0.1704 - val_loss: 0.5326 - val_root_mean_squared_error: 0.1810\n",
            "Epoch 4/20\n",
            "\u001b[1m9840/9840\u001b[0m \u001b[32m━━━━━━━━━━━━━━━━━━━━\u001b[0m\u001b[37m\u001b[0m \u001b[1m158s\u001b[0m 13ms/step - loss: 0.5209 - root_mean_squared_error: 0.1672 - val_loss: 0.5312 - val_root_mean_squared_error: 0.1799\n",
            "Epoch 5/20\n",
            "\u001b[1m9840/9840\u001b[0m \u001b[32m━━━━━━━━━━━━━━━━━━━━\u001b[0m\u001b[37m\u001b[0m \u001b[1m136s\u001b[0m 12ms/step - loss: 0.5162 - root_mean_squared_error: 0.1626 - val_loss: 0.5304 - val_root_mean_squared_error: 0.1794\n",
            "Epoch 6/20\n",
            "\u001b[1m9840/9840\u001b[0m \u001b[32m━━━━━━━━━━━━━━━━━━━━\u001b[0m\u001b[37m\u001b[0m \u001b[1m145s\u001b[0m 12ms/step - loss: 0.5134 - root_mean_squared_error: 0.1602 - val_loss: 0.5297 - val_root_mean_squared_error: 0.1790\n",
            "Epoch 7/20\n",
            "\u001b[1m9840/9840\u001b[0m \u001b[32m━━━━━━━━━━━━━━━━━━━━\u001b[0m\u001b[37m\u001b[0m \u001b[1m145s\u001b[0m 13ms/step - loss: 0.5135 - root_mean_squared_error: 0.1582 - val_loss: 0.5281 - val_root_mean_squared_error: 0.1773\n",
            "Epoch 8/20\n",
            "\u001b[1m9840/9840\u001b[0m \u001b[32m━━━━━━━━━━━━━━━━━━━━\u001b[0m\u001b[37m\u001b[0m \u001b[1m118s\u001b[0m 12ms/step - loss: 0.5102 - root_mean_squared_error: 0.1558 - val_loss: 0.5281 - val_root_mean_squared_error: 0.1774\n",
            "Epoch 9/20\n",
            "\u001b[1m9840/9840\u001b[0m \u001b[32m━━━━━━━━━━━━━━━━━━━━\u001b[0m\u001b[37m\u001b[0m \u001b[1m142s\u001b[0m 12ms/step - loss: 0.5092 - root_mean_squared_error: 0.1544 - val_loss: 0.5274 - val_root_mean_squared_error: 0.1768\n",
            "Epoch 10/20\n",
            "\u001b[1m9840/9840\u001b[0m \u001b[32m━━━━━━━━━━━━━━━━━━━━\u001b[0m\u001b[37m\u001b[0m \u001b[1m142s\u001b[0m 12ms/step - loss: 0.5070 - root_mean_squared_error: 0.1530 - val_loss: 0.5276 - val_root_mean_squared_error: 0.1772\n",
            "Epoch 11/20\n",
            "\u001b[1m9840/9840\u001b[0m \u001b[32m━━━━━━━━━━━━━━━━━━━━\u001b[0m\u001b[37m\u001b[0m \u001b[1m140s\u001b[0m 12ms/step - loss: 0.5054 - root_mean_squared_error: 0.1515 - val_loss: 0.5273 - val_root_mean_squared_error: 0.1769\n",
            "Epoch 12/20\n",
            "\u001b[1m9840/9840\u001b[0m \u001b[32m━━━━━━━━━━━━━━━━━━━━\u001b[0m\u001b[37m\u001b[0m \u001b[1m113s\u001b[0m 11ms/step - loss: 0.5056 - root_mean_squared_error: 0.1505 - val_loss: 0.5270 - val_root_mean_squared_error: 0.1767\n",
            "Epoch 13/20\n",
            "\u001b[1m9840/9840\u001b[0m \u001b[32m━━━━━━━━━━━━━━━━━━━━\u001b[0m\u001b[37m\u001b[0m \u001b[1m148s\u001b[0m 12ms/step - loss: 0.5045 - root_mean_squared_error: 0.1499 - val_loss: 0.5268 - val_root_mean_squared_error: 0.1765\n",
            "Epoch 14/20\n",
            "\u001b[1m9840/9840\u001b[0m \u001b[32m━━━━━━━━━━━━━━━━━━━━\u001b[0m\u001b[37m\u001b[0m \u001b[1m139s\u001b[0m 12ms/step - loss: 0.5045 - root_mean_squared_error: 0.1499 - val_loss: 0.5268 - val_root_mean_squared_error: 0.1765\n",
            "Epoch 15/20\n",
            "\u001b[1m9840/9840\u001b[0m \u001b[32m━━━━━━━━━━━━━━━━━━━━\u001b[0m\u001b[37m\u001b[0m \u001b[1m122s\u001b[0m 12ms/step - loss: 0.5019 - root_mean_squared_error: 0.1490 - val_loss: 0.5268 - val_root_mean_squared_error: 0.1765\n",
            "Epoch 16/20\n",
            "\u001b[1m9840/9840\u001b[0m \u001b[32m━━━━━━━━━━━━━━━━━━━━\u001b[0m\u001b[37m\u001b[0m \u001b[1m142s\u001b[0m 12ms/step - loss: 0.5023 - root_mean_squared_error: 0.1489 - val_loss: 0.5269 - val_root_mean_squared_error: 0.1764\n",
            "Epoch 17/20\n",
            "\u001b[1m9840/9840\u001b[0m \u001b[32m━━━━━━━━━━━━━━━━━━━━\u001b[0m\u001b[37m\u001b[0m \u001b[1m135s\u001b[0m 12ms/step - loss: 0.5001 - root_mean_squared_error: 0.1473 - val_loss: 0.5270 - val_root_mean_squared_error: 0.1763\n",
            "Epoch 18/20\n",
            "\u001b[1m9840/9840\u001b[0m \u001b[32m━━━━━━━━━━━━━━━━━━━━\u001b[0m\u001b[37m\u001b[0m \u001b[1m141s\u001b[0m 12ms/step - loss: 0.5002 - root_mean_squared_error: 0.1463 - val_loss: 0.5273 - val_root_mean_squared_error: 0.1764\n",
            "Epoch 19/20\n",
            "\u001b[1m9840/9840\u001b[0m \u001b[32m━━━━━━━━━━━━━━━━━━━━\u001b[0m\u001b[37m\u001b[0m \u001b[1m144s\u001b[0m 12ms/step - loss: 0.5001 - root_mean_squared_error: 0.1474 - val_loss: 0.5274 - val_root_mean_squared_error: 0.1764\n",
            "Epoch 20/20\n",
            "\u001b[1m9840/9840\u001b[0m \u001b[32m━━━━━━━━━━━━━━━━━━━━\u001b[0m\u001b[37m\u001b[0m \u001b[1m143s\u001b[0m 12ms/step - loss: 0.5016 - root_mean_squared_error: 0.1473 - val_loss: 0.5278 - val_root_mean_squared_error: 0.1767\n"
          ]
        }
      ]
    },
    {
      "metadata": {
        "id": "9e43f1c885288f76"
      },
      "cell_type": "markdown",
      "source": [
        "Model RecommenderNet dilatih menggunakan data yang telah dibagi menjadi *training set* dan *validation set*, dengan konfigurasi sebagai berikut:\n",
        "\n",
        "##### **Spesifikasi Pelatihan:**\n",
        "\n",
        "* **Batch Size:** 8\n",
        "* **Jumlah Epoch:** Maksimal 20 (dibatasi karena kendala memori Google Colab)\n",
        "* **Optimizer:** Adam\n",
        "* **Loss Function:** Binary Crossentropy\n",
        "* **Metrik Evaluasi:** Root Mean Squared Error (RMSE)\n",
        "* **Regularisasi:** EarlyStopping (patience=5, restore_best_weights=True), untuk menghindari pelatihan berlebih.\n",
        "\n",
        "##### **Hasil Pelatihan:**\n",
        "\n",
        "* RMSE terbaik pada **training set**: **0.1473**\n",
        "* RMSE terbaik pada **validation set**: **0.1763**, dicapai pada **epoch ke-17**\n",
        "* Meskipun *EarlyStopping* diaktifkan, proses pelatihan tidak berhenti sebelum epoch ke-20 karena **masih terjadi sedikit peningkatan performa pada RMSE validasi dalam beberapa epoch terakhir.**\n",
        "* **Batas maksimal 20 epoch ditentukan bukan karena model overfitting atau konvergen lebih awal, melainkan karena kendala teknis di Google Colab yang menyebabkan crash jika melampaui batas tersebut.**\n",
        "\n",
        "##### **Kesimpulan:**\n",
        "\n",
        "* Model menunjukkan **tren pelatihan yang stabil** dengan selisih RMSE antara data pelatihan dan validasi yang kecil, menandakan generalisasi yang baik.\n",
        "* Penggunaan *EarlyStopping* tetap relevan sebagai pengaman, meskipun tidak menghentikan pelatihan lebih awal pada kasus ini.\n",
        "* Kinerja optimal berhasil dicapai meskipun pelatihan dibatasi hanya hingga 20 epoch karena keterbatasan sumber daya komputasi."
      ],
      "id": "9e43f1c885288f76"
    },
    {
      "cell_type": "markdown",
      "source": [
        "### Model-Based Collaborative Filtering (Keras) - Rekomendasi user id acak"
      ],
      "metadata": {
        "id": "jtTCVgdzzlLo"
      },
      "id": "jtTCVgdzzlLo"
    },
    {
      "metadata": {
        "ExecuteTime": {
          "end_time": "2025-05-07T06:39:23.893983Z",
          "start_time": "2025-05-07T06:39:21.634128Z"
        },
        "id": "c7c0cdbde626c86b",
        "outputId": "106ecd8d-74e6-4fb8-91f9-40a6ffa8b3b4",
        "colab": {
          "base_uri": "https://localhost:8080/"
        }
      },
      "cell_type": "code",
      "source": [
        "# Ambil 1 contoh user random\n",
        "user_id = ratings_clean['user_id'].sample(1).iloc[0]\n",
        "print(f\"Testing rekomendasi untuk User ID: {user_id}\")\n",
        "\n",
        "# Cari buku yang pernah dirating user ini\n",
        "books_rated_by_user = ratings_clean[ratings_clean['user_id'] == user_id]\n",
        "\n",
        "# Cari buku yang belum dirating user ini\n",
        "all_isbns = set(ratings_clean['isbn'].unique())\n",
        "rated_isbns = set(books_rated_by_user['isbn'])\n",
        "unrated_isbns = list(all_isbns - rated_isbns)\n",
        "\n",
        "# Encode ISBN yang belum dirated\n",
        "unrated_books_encoded = [isbn_encoded_map.get(x) for x in unrated_isbns if isbn_encoded_map.get(x) is not None]\n",
        "user_encoder = user_id_encoded_map.get(user_id)\n",
        "\n",
        "# Bentuk array prediksi\n",
        "user_book_array = np.hstack(\n",
        "    (np.array([[user_encoder]] * len(unrated_books_encoded)), np.array(unrated_books_encoded).reshape(-1, 1))\n",
        ")\n",
        "\n",
        "# Prediksi rating untuk semua buku yang belum dirated\n",
        "predicted_ratings = model.predict(user_book_array).flatten()\n",
        "\n",
        "# Ambil Top-N rekomendasi\n",
        "top_n = 5\n",
        "top_ratings_indices = predicted_ratings.argsort()[-top_n:][::-1]\n",
        "\n",
        "# id_to_isbn_map untuk decoding\n",
        "recommended_isbns = [id_to_isbn_map.get(unrated_books_encoded[i]) for i in top_ratings_indices]\n",
        "recommended_isbns = [isbn for isbn in recommended_isbns if isbn is not None]\n",
        "\n",
        "# Tampilkan rekomendasi\n",
        "print(f'Top-{top_n} Rekomendasi Buku untuk User {user_id}:')\n",
        "if recommended_isbns:\n",
        "    recommended_books = books[books['ISBN'].isin(recommended_isbns)][['ISBN', 'Book-Title', 'Book-Author']]\n",
        "    print(recommended_books)\n",
        "else:\n",
        "    print(\"Tidak ada rekomendasi yang ditemukan\")"
      ],
      "id": "c7c0cdbde626c86b",
      "outputs": [
        {
          "output_type": "stream",
          "name": "stdout",
          "text": [
            "Testing rekomendasi untuk User ID: 13552\n",
            "\u001b[1m465/465\u001b[0m \u001b[32m━━━━━━━━━━━━━━━━━━━━\u001b[0m\u001b[37m\u001b[0m \u001b[1m1s\u001b[0m 2ms/step\n",
            "Top-5 Rekomendasi Buku untuk User 13552:\n",
            "             ISBN                                         Book-Title  \\\n",
            "10038  0394800389  Fox in Socks (I Can Read It All by Myself Begi...   \n",
            "12762  0618002235     The Two Towers (The Lord of the Rings, Part 2)   \n",
            "46208  089471838X                Natural California: A Postcard Book   \n",
            "64267  0836213319                       Dilbert: A Book of Postcards   \n",
            "79370  0439425220  Harry Potter and the Chamber of Secrets Postca...   \n",
            "\n",
            "                Book-Author  \n",
            "10038             Dr. Seuss  \n",
            "12762      J. R. R. Tolkien  \n",
            "46208  Not Applicable (Na )  \n",
            "64267           Scott Adams  \n",
            "79370         J. K. Rowling  \n"
          ]
        }
      ],
      "execution_count": null
    },
    {
      "metadata": {
        "id": "de2ab5eaa97ea9a3"
      },
      "cell_type": "markdown",
      "source": [
        "Untuk menguji performa model RecommenderNet, dilakukan proses prediksi terhadap buku-buku yang **belum pernah dirating** oleh salah satu pengguna yang dipilih secara acak dari dataset.\n",
        "\n",
        "#### **Langkah-Langkah Pengujian:**\n",
        "\n",
        "1. **Pemilihan User Acak**\n",
        "   User dengan ID **13552** dipilih secara acak sebagai target rekomendasi.\n",
        "\n",
        "2. **Identifikasi Buku yang Pernah Dirating**\n",
        "   Sistem mengambil semua ISBN buku yang telah dirating oleh user ini dari data ratings_clean.\n",
        "\n",
        "3. **Identifikasi Buku yang Belum Dirating**\n",
        "   Semua ISBN yang belum pernah dirating oleh user ini dihimpun dan dikonversi ke bentuk numerik menggunakan isbn_encoded_map.\n",
        "\n",
        "4. **Penyusunan Data Prediksi**\n",
        "   Dibentuk array pasangan [user_encoded, book_encoded] untuk semua buku yang belum dirating agar dapat diproses oleh model.\n",
        "\n",
        "5. **Prediksi Rating**\n",
        "   Model memprediksi skor preferensi user terhadap setiap buku tersebut.\n",
        "\n",
        "6. **Seleksi Rekomendasi**\n",
        "   Sistem memilih **Top-5 buku dengan prediksi skor tertinggi**. ISBN hasil prediksi dikembalikan ke format aslinya menggunakan id_to_isbn_map.\n",
        "\n",
        "7. **Penyajian Rekomendasi**\n",
        "   Rekomendasi ditampilkan dalam bentuk tabel berisi ISBN, judul, dan penulis buku dari dataset books.\n",
        "\n",
        "---\n",
        "\n",
        "#### **Hasil Rekomendasi:**\n",
        "\n",
        "Berikut 5 buku teratas yang diprediksi paling disukai oleh **User ID 13552**:\n",
        "\n",
        "| No | ISBN       | Judul Buku                                                  | Penulis             |\n",
        "| -- | ---------- | ----------------------------------------------------------- | ------------------- |\n",
        "| 1  | 0394800389 | *Fox in Socks (I Can Read It All by Myself Beginner Books)* | Dr. Seuss           |\n",
        "| 2  | 0618002235 | *The Two Towers (The Lord of the Rings, Part 2)*            | J. R. R. Tolkien    |\n",
        "| 3  | 089471838X | *Natural California: A Postcard Book*                       | Not Applicable (Na) |\n",
        "| 4  | 0836213319 | *Dilbert: A Book of Postcards*                              | Scott Adams         |\n",
        "| 5  | 0439425220 | *Harry Potter and the Chamber of Secrets Postcard Book*     | J. K. Rowling       |\n",
        "\n",
        "---\n",
        "\n",
        "#### **Interpretasi Hasil Rekomendasi**\n",
        "\n",
        "1. **Kesesuaian Buku dengan Minat Pengguna**\n",
        "\n",
        "   * Rekomendasi yang muncul seperti *Fox in Socks*, *Harry Potter and the Chamber of Secrets*, dan *The Two Towers* menunjukkan bahwa model mendeteksi **preferensi pengguna terhadap buku anak, fiksi fantasi, atau novel populer**.\n",
        "   * Kehadiran *Dilbert* dan buku bertema **postcard** menunjukkan kemungkinan bahwa user ini juga menyukai buku-buku dengan unsur **visual ringan atau humor**.\n",
        "\n",
        "2. **Relevansi Genre**\n",
        "\n",
        "   * Buku-buku yang direkomendasikan mencerminkan keragaman genre — dari **literatur anak-anak**, **fantasi epik**, hingga **humor dan koleksi ilustrasi** — yang menunjukkan bahwa model mampu menangkap **pola rating dan kesamaan selera** antar pengguna lain dalam data pelatihan.\n",
        "\n",
        "3. **Kualitas Model**\n",
        "\n",
        "   * Semua buku yang direkomendasikan **belum pernah dirating oleh user**, sesuai dengan prinsip sistem rekomendasi personalized.\n",
        "   * Prediksi dilakukan terhadap seluruh buku yang belum dirating, dan model memilih 5 buku dengan **nilai prediksi tertinggi**, menandakan bahwa **model memiliki presisi yang baik dalam mengurutkan preferensi**.\n",
        "\n",
        "4. **Kemungkinan Keterbatasan**\n",
        "\n",
        "   * Beberapa buku seperti *Natural California: A Postcard Book* dicatat memiliki penulis “Not Applicable (Na)”. Ini bisa menunjukkan bahwa:\n",
        "\n",
        "     * Buku tersebut bersifat non-fiksi visual atau koleksi, bukan bacaan naratif.\n",
        "     * Model kemungkinan hanya mempertimbangkan pola interaksi pengguna, **bukan konten buku secara mendalam**, sehingga rekomendasi ini bisa terlihat kurang relevan secara tematik tergantung konteks.\n",
        "\n",
        "---\n",
        "\n",
        "#### Kesimpulan\n",
        "\n",
        "Model RecommenderNet berhasil memberikan rekomendasi **yang personal, variatif, dan berdasarkan prediksi preferensi aktual**, bukan sekadar popularitas umum. Hal ini membuktikan bahwa:\n",
        "\n",
        "* **User ID 13552 kemungkinan menyukai kombinasi antara buku anak-anak, fantasi populer, dan konten ringan.**\n",
        "* Rekomendasi yang dihasilkan relevan secara umum, namun bisa diperkuat lagi dengan menambahkan fitur seperti **genre, deskripsi isi, atau metadata lain (content-based filtering)** untuk menghindari anomali seperti buku non-naratif."
      ],
      "id": "de2ab5eaa97ea9a3"
    },
    {
      "metadata": {
        "id": "97a13ef8c4bc6924"
      },
      "cell_type": "markdown",
      "source": [
        "## Analisis Modeling"
      ],
      "id": "97a13ef8c4bc6924"
    },
    {
      "metadata": {
        "id": "14f214c0d9626e68"
      },
      "cell_type": "markdown",
      "source": [
        "### 1. Content-Based Filtering\n",
        "\n",
        "#### TF-IDF Vectorization\n",
        "**Matriks TF-IDF**: (14.437, 10.949)\n",
        "- **14.437 baris**: Judul buku unik yang diproses\n",
        "- **10.949 kolom**: Kata unik (fitur) setelah pembersihan, tokenisasi, dan penghapusan stop words\n",
        "\n",
        "#### Cosine Similarity\n",
        "**Matriks Cosine Similarity**: (14.437, 14.437)\n",
        "- Mengukur kemiripan antar judul buku\n",
        "- Nilai 0 = tidak mirip, 1 = mirip sempurna\n",
        "- Basis untuk rekomendasi berdasarkan kemiripan konten judul\n",
        "\n",
        "#### Fungsi Rekomendasi\n",
        "**Teknik**: Menggunakan Cosine Similarity Matrix, mencari index buku berdasarkan judul, mengurutkan skor kemiripan dan memilih Top-N buku tertinggi.\n",
        "\n",
        "**Contoh Implementasi**: `recommend_books('Wild Animus')`\n",
        "\n",
        "#### Hasil Rekomendasi Content-Based Filtering\n",
        "\n",
        "**Input**: Wild Animus\n",
        "\n",
        "| No | Book-Title       | Book-Author     |\n",
        "|----|------------------|-----------------|\n",
        "| 1  | Into the Wild    | Jon Krakauer    |\n",
        "| 2  | Call of the Wild | Jack London     |\n",
        "| 3  | Wild About You   | Robin Wells     |\n",
        "| 4  | Wild             | Lori Foster     |\n",
        "| 5  | A Heart So Wild  | Johanna Lindsey |\n",
        "\n",
        "**Interpretasi**: Semua rekomendasi mengandung kata \"Wild\", menunjukkan sistem berhasil mendeteksi kemiripan tekstual antar judul.\n",
        "\n",
        "---\n",
        "\n",
        "### 2. User-Based Collaborative Filtering\n",
        "\n",
        "#### User Similarity Matrix\n",
        "**Dimensi**: (2.469, 2.469)\n",
        "- **2.469 pengguna** aktif dengan minimal satu rating\n",
        "- Menggunakan cosine similarity pada pola rating\n",
        "- Nilai NaN diisi dengan 0 sebelum perhitungan\n",
        "\n",
        "#### Proses Rekomendasi\n",
        "1. Menghitung skor kemiripan pengguna target dengan semua pengguna lain\n",
        "2. Memilih 5 pengguna paling mirip\n",
        "3. Menghitung rata-rata rating buku dari 5 pengguna tersebut\n",
        "4. Menyaring buku yang belum dirating pengguna target\n",
        "5. Mengambil Top-N buku berdasarkan rata-rata rating tertinggi\n",
        "6. Menggabungkan dengan data deskriptif (ISBN, judul, penulis)\n",
        "\n",
        "#### Hasil Rekomendasi User-Based Collaborative Filtering\n",
        "\n",
        "**Input**: User ID 1435\n",
        "\n",
        "| No | ISBN       | Book-Title                                                          | Book-Author            | Average-Rating |\n",
        "|----|------------|---------------------------------------------------------------------|------------------------|----------------|\n",
        "| 1  | 1592400876 | *Eats, Shoots & Leaves: The Zero Tolerance Approach to Punctuation* | Lynne Truss            | 10.0           |\n",
        "| 2  | 0451191145 | *Atlas Shrugged*                                                    | Ayn Rand               | 10.0           |\n",
        "| 3  | 0394747232 | *Maus: A Survivor's Tale: My Father Bleeds History*                 | Art Spiegelman         | 10.0           |\n",
        "| 4  | 067942895X | *The Complete Collected Poems of Maya Angelou*                      | Maya Angelou           | 10.0           |\n",
        "| 5  | 0836270096 | *Magic Eye, Vol. 2*                                                 | N.E. Thing Enterprises | 10.0           |\n",
        "\n",
        "**Catatan**: Rating sempurna (10.0) menunjukkan konsistensi preferensi pengguna dengan pola rating serupa.\n",
        "\n",
        "---\n",
        "\n",
        "### 3. Collaborative FIltering Menggunakan Keras\n",
        "\n",
        "#### Arsitektur Model\n",
        "- **User Embedding Layer**: Representasi vektor laten untuk setiap user\n",
        "- **Book Embedding Layer**: Representasi vektor laten untuk setiap buku  \n",
        "- **Bias Layer**: Bias untuk user dan buku\n",
        "- **Dot Product**: Menghitung kecocokan user-buku\n",
        "- **Activation**: Sigmoid (output rentang 0-1)\n",
        "\n",
        "#### Konfigurasi Training\n",
        "- **Loss Function**: Binary Crossentropy\n",
        "- **Optimizer**: Adam (learning rate = 0.001)\n",
        "- **Batch Size**: 8\n",
        "- **Epochs**: 20 maksimal (keterbatasan Google Colab)\n",
        "- **Metrik**: Root Mean Squared Error (RMSE)\n",
        "- **Regularisasi**: EarlyStopping (patience=5, restore_best_weights=True)\n",
        "\n",
        "#### Hasil Training\n",
        "- **RMSE Training**: 0.1473\n",
        "- **RMSE Validation**: 0.1763 (epoch ke-17)\n",
        "- **Status**: Model stabil dengan generalisasi baik\n",
        "\n",
        "#### Proses Pengujian\n",
        "1. **Pemilihan User**: User ID 13552 (acak)\n",
        "2. **Identifikasi Buku**: Pisahkan buku yang sudah/belum dirating\n",
        "3. **Konversi Data**: ISBN ke format numerik menggunakan encoding map\n",
        "4. **Prediksi Rating**: Model memprediksi skor preferensi\n",
        "5. **Seleksi Top-5**: Buku dengan prediksi skor tertinggi\n",
        "6. **Penyajian**: Konversi kembali ke format ISBN asli dengan data deskriptif\n",
        "\n",
        "#### Hasil Rekomendasi Deep Learning\n",
        "\n",
        "**Input**: User ID 13552\n",
        "\n",
        "| No | ISBN       | Judul Buku                                                  | Penulis             |\n",
        "|----|------------|-------------------------------------------------------------|---------------------|\n",
        "| 1  | 0394800389 | *Fox in Socks (I Can Read It All by Myself Beginner Books)* | Dr. Seuss           |\n",
        "| 2  | 0618002235 | *The Two Towers (The Lord of the Rings, Part 2)*            | J. R. R. Tolkien    |\n",
        "| 3  | 089471838X | *Natural California: A Postcard Book*                       | Not Applicable (Na) |\n",
        "| 4  | 0836213319 | *Dilbert: A Book of Postcards*                              | Scott Adams         |\n",
        "| 5  | 0439425220 | *Harry Potter and the Chamber of Secrets Postcard Book*     | J. K. Rowling       |\n",
        "\n",
        "#### Interpretasi Hasil Deep Learning\n",
        "\n",
        "1. **Kesesuaian dengan Minat**: Model mendeteksi preferensi beragam (buku anak, fiksi fantasi, humor)\n",
        "2. **Relevansi Genre**: Mencerminkan keragaman dari literatur anak-anak hingga fantasi epik\n",
        "3. **Kualitas Model**: Semua rekomendasi belum pernah dirating user, sesuai prinsip personalized recommendation\n",
        "4. **Keterbatasan**: Beberapa buku bersifat visual/koleksi yang mungkin kurang relevan secara tematik\n",
        "\n",
        "---\n",
        "\n",
        "### Kesimpulan\n",
        "\n",
        "1. **Content-Based Filtering**: Efektif untuk kemiripan tekstual judul, cocok untuk cold start problem\n",
        "2. **User-Based Collaborative Filtering**: Memberikan rekomendasi berkualitas tinggi berdasarkan preferensi pengguna serupa\n",
        "3. **Deep Learning (RecommenderNet)**: Menghasilkan rekomendasi personal yang variatif dengan performa stabil dan generalisasi baik\n",
        "\n",
        "**Rekomendasi Pengembangan**: Kombinasi ketiga metode dapat menghasilkan sistem rekomendasi yang lebih komprehensif, dengan penambahan fitur genre, sinopsis, atau metadata lain untuk meningkatkan konteks rekomendasi."
      ],
      "id": "14f214c0d9626e68"
    },
    {
      "metadata": {
        "id": "bf95363c65a2efe8"
      },
      "cell_type": "markdown",
      "source": [
        "## Evaluation"
      ],
      "id": "bf95363c65a2efe8"
    },
    {
      "cell_type": "markdown",
      "source": [
        "### Learning Curve - RMSE"
      ],
      "metadata": {
        "id": "VDx3L-mu3kwp"
      },
      "id": "VDx3L-mu3kwp"
    },
    {
      "metadata": {
        "ExecuteTime": {
          "end_time": "2025-05-07T06:39:24.316273Z",
          "start_time": "2025-05-07T06:39:24.006667Z"
        },
        "id": "3f4afaa663e4c57c",
        "outputId": "85637916-eac7-4a66-e880-c3f4ce5f5993",
        "colab": {
          "base_uri": "https://localhost:8080/",
          "height": 487
        }
      },
      "cell_type": "code",
      "source": [
        "\n",
        "\n",
        "# Plot RMSE training dan validation\n",
        "plt.figure(figsize=(8, 5))\n",
        "plt.plot(history.history['root_mean_squared_error'], label='Train RMSE')\n",
        "plt.plot(history.history['val_root_mean_squared_error'], label='Validation RMSE')\n",
        "plt.title('Learning Curve - RMSE')\n",
        "plt.xlabel('Epoch')\n",
        "plt.ylabel('Root Mean Squared Error')\n",
        "plt.legend()\n",
        "plt.grid(True)\n",
        "plt.show()"
      ],
      "id": "3f4afaa663e4c57c",
      "outputs": [
        {
          "output_type": "display_data",
          "data": {
            "text/plain": [
              "<Figure size 800x500 with 1 Axes>"
            ],
            "image/png": "[encoded data removed]"
          },
          "metadata": {}
        }
      ],
      "execution_count": null
    },
    {
      "metadata": {
        "id": "b1cf1e3bcdc7d693"
      },
      "cell_type": "markdown",
      "source": [
        "Grafik di atas menunjukkan kurva pembelajaran model berdasarkan nilai **Root Mean Squared Error (RMSE)** pada data pelatihan (Train RMSE) dan data validasi (Validation RMSE) selama 20 epoch.\n",
        "\n",
        "Secara umum, **Train RMSE** mengalami penurunan yang konsisten seiring bertambahnya epoch, dari sekitar 0.24 di awal menuju angka mendekati 0.15 di epoch ke-19. Hal ini menunjukkan bahwa model semakin baik dalam mempelajari pola dari data pelatihan.\n",
        "\n",
        "Sementara itu, **Validation RMSE** juga menunjukkan tren penurunan di awal pelatihan, dari sekitar 0.19 ke sekitar 0.178, tetapi stabil dan mulai stagnan setelah sekitar epoch ke-7. Ini menunjukkan bahwa performa model terhadap data yang belum pernah dilihat (out-of-sample) cenderung konstan setelah titik tersebut.\n",
        "\n",
        "Perbedaan antara Train dan Validation RMSE yang semakin melebar menjelang akhir pelatihan dapat mengindikasikan awal dari **overfitting**, di mana model terlalu menyesuaikan diri terhadap data pelatihan dan kehilangan kemampuan generalisasi. Namun, karena selisihnya masih relatif kecil dan Validation RMSE tidak menunjukkan peningkatan yang signifikan, maka overfitting belum terlalu parah dan model masih bisa dikatakan cukup stabil.\n",
        "\n",
        "---\n",
        "\n",
        "#### Kesimpulan:\n",
        "\n",
        "* Model mengalami **peningkatan performa** selama pelatihan.\n",
        "* **RMSE pada data validasi cukup stabil**, menunjukkan model tidak mengalami overfitting yang berat.\n",
        "* **Optimalisasi model dapat dihentikan lebih awal (sekitar epoch ke-10 hingga 12)** untuk mencegah overfitting lebih lanjut dan menghemat waktu komputasi.\n",
        "\n",
        "Jika diperlukan, pendekatan seperti **early stopping** atau **regularisasi tambahan** bisa diterapkan untuk menjaga keseimbangan antara akurasi dan generalisasi model.\n"
      ],
      "id": "b1cf1e3bcdc7d693"
    },
    {
      "cell_type": "markdown",
      "source": [
        "### Insight Evaluasi Content-Based Filtering (Precision@5)"
      ],
      "metadata": {
        "id": "olIHOTD_4GZg"
      },
      "id": "olIHOTD_4GZg"
    },
    {
      "metadata": {
        "ExecuteTime": {
          "end_time": "2025-05-07T06:40:47.019331Z",
          "start_time": "2025-05-07T06:40:44.639635Z"
        },
        "id": "7de9f38aa2d55047",
        "outputId": "4c3bb969-15d4-4d8d-8f67-86b94fbed8eb",
        "colab": {
          "base_uri": "https://localhost:8080/"
        }
      },
      "cell_type": "code",
      "source": [
        "# Fungsi untuk menghitung Precision@K\n",
        "def precision_at_k(recommended_books, relevant_books, k=5):\n",
        "    \"\"\"\n",
        "    Menghitung precision pada Top-K rekomendasi.\n",
        "    recommended_books: list ISBN yang direkomendasikan\n",
        "    relevant_books: list ISBN yang relevan (diberi rating tinggi oleh user)\n",
        "    \"\"\"\n",
        "    if not relevant_books:\n",
        "        return 0.0\n",
        "    recommended_top_k = recommended_books[:k]\n",
        "    hits = len(set(recommended_top_k) & set(relevant_books))  # Buku relevan yang muncul di Top-K\n",
        "    return hits / k\n",
        "\n",
        "# Ambil user aktif yang sudah memberikan minimal 5 rating\n",
        "active_users = ratings_clean['user_id'].value_counts()\n",
        "sample_users = active_users[active_users >= 5].sample(100, random_state=42).index  # Sampling 100 user\n",
        "\n",
        "precision_scores = []\n",
        "\n",
        "# Iterasi untuk setiap user yang diambil\n",
        "for user_id in sample_users:\n",
        "    # Ambil semua rating tinggi (≥7) dari user\n",
        "    user_rated_books = ratings_clean[(ratings_clean['user_id'] == user_id) & (ratings_clean['book_rating'] >= 7)]\n",
        "    relevant_isbns = user_rated_books['isbn'].tolist()  # ISBN yang relevan untuk user\n",
        "\n",
        "    if not relevant_isbns:\n",
        "        continue  # Skip user jika tidak ada buku dengan rating tinggi\n",
        "\n",
        "    # Pilih salah satu buku sebagai input untuk rekomendasi\n",
        "    input_book_isbn = relevant_isbns[0]\n",
        "    input_title = books_filtered[books_filtered['ISBN'] == input_book_isbn]['Book-Title'].values\n",
        "    if len(input_title) == 0:\n",
        "        continue  # Skip jika judul tidak ditemukan\n",
        "\n",
        "    # Cari index dari judul di TF-IDF matrix\n",
        "    idx = books_filtered[books_filtered['Book-Title'] == input_title[0]].index\n",
        "    if len(idx) == 0:\n",
        "        continue  # Skip jika tidak ada index-nya\n",
        "\n",
        "    # Hitung skor kemiripan antara buku input dan seluruh buku\n",
        "    sim_scores = list(enumerate(cosine_sim[idx[0]]))  # cosine_sim dari TF-IDF\n",
        "    sim_scores = sorted(sim_scores, key=lambda x: x[1], reverse=True)  # Urutkan berdasarkan skor similarity\n",
        "    top_indices = [i[0] for i in sim_scores[1:6]]  # Ambil Top-5 (skip index 0 karena itu buku input sendiri)\n",
        "\n",
        "    # Ambil ISBN dari buku rekomendasi\n",
        "    recommended_isbns = books_filtered.iloc[top_indices]['ISBN'].tolist()\n",
        "\n",
        "    # Hitung precision untuk user ini\n",
        "    prec = precision_at_k(recommended_isbns, relevant_isbns)\n",
        "    precision_scores.append(prec)\n",
        "\n",
        "# Hitung rata-rata Precision@5 dari seluruh user\n",
        "avg_precision_at_5 = sum(precision_scores) / len(precision_scores)\n",
        "print(f\"Average Precision@5 for CBF: {avg_precision_at_5:.4f}\")"
      ],
      "id": "7de9f38aa2d55047",
      "outputs": [
        {
          "output_type": "stream",
          "name": "stdout",
          "text": [
            "Average Precision@5 for CBF: 0.0604\n"
          ]
        }
      ],
      "execution_count": null
    },
    {
      "metadata": {
        "id": "7761264c17defa5c"
      },
      "cell_type": "markdown",
      "source": [
        "Berdasarkan hasil evaluasi menggunakan metrik **Precision\\@5**, sistem rekomendasi berbasis Content-Based Filtering menghasilkan rata-rata:\n",
        "\n",
        "* **Average Precision\\@5: 6.04%**\n",
        "\n",
        "#### Interpretasi Hasil:\n",
        "\n",
        "* Rata-rata precision sebesar **6.04%** menunjukkan bahwa dari setiap 5 buku yang direkomendasikan, hanya sekitar **0.3 buku** yang relevan menurut histori rating pengguna.\n",
        "* Sistem masih cenderung merekomendasikan buku dengan judul yang mirip, namun **tidak selalu sesuai dengan preferensi pengguna**.\n",
        "* Pendekatan ini kurang efektif dalam menangkap preferensi pengguna secara menyeluruh karena hanya mengandalkan fitur Book-Title sebagai representasi konten.\n",
        "\n",
        "#### Kemungkinan Penyebab:\n",
        "\n",
        "* **Kemiripan judul tidak mencerminkan kesamaan isi, genre, atau kualitas buku**.\n",
        "* Model hanya menggunakan informasi dari judul buku tanpa mempertimbangkan fitur penting lain seperti **sinopsis, genre, penulis**, atau review.\n",
        "* Adanya banyak buku dengan judul serupa (misalnya edisi berbeda atau versi audio) menyebabkan rekomendasi menjadi redundant atau tidak menarik bagi user.\n",
        "\n",
        "#### Nilai Tambah:\n",
        "\n",
        "Meskipun precision tergolong rendah, pendekatan Content-Based Filtering tetap memiliki manfaat, terutama dalam konteks berikut:\n",
        "\n",
        "* **User baru** (cold-start problem): dapat diberikan rekomendasi tanpa harus menunggu banyak interaksi.\n",
        "* **Buku baru**: bisa langsung direkomendasikan jika memiliki kemiripan konten dengan buku lain yang sudah dikenal pengguna.\n"
      ],
      "id": "7761264c17defa5c"
    },
    {
      "metadata": {
        "id": "e44fb11b715e917b"
      },
      "cell_type": "markdown",
      "source": [
        "## Analisis Evaluasi"
      ],
      "id": "e44fb11b715e917b"
    },
    {
      "metadata": {
        "id": "ab618def3777891e"
      },
      "cell_type": "markdown",
      "source": [
        "### **Evaluation Report**\n",
        "\n",
        "Pada bagian ini, saya mengevaluasi kinerja sistem rekomendasi yang telah dibangun menggunakan dua pendekatan utama: **Content-Based Filtering** dan **Model Collaborative Filtering berbasis TensorFlow Keras**. Evaluasi dilakukan melalui metrik **Root Mean Squared Error (RMSE)** dan **Precision\\@5**, yang mewakili dua aspek penting dalam sistem rekomendasi: akurasi prediksi dan relevansi hasil rekomendasi.\n",
        "\n",
        "---\n",
        "\n",
        "### Metrik Evaluasi: Root Mean Squared Error (RMSE)\n",
        "\n",
        "Untuk mengevaluasi model deep learning yang digunakan dalam Collaborative Filtering, saya menggunakan metrik **Root Mean Squared Error (RMSE)** karena karakteristik data berupa **rating numerik kontinu**.\n",
        "\n",
        "#### **Alasan Pemilihan RMSE:**\n",
        "\n",
        "* Metrik standar untuk regresi, cocok untuk prediksi rating.\n",
        "* Mengukur seberapa jauh hasil prediksi dari nilai aktual dalam satuan rating yang sama.\n",
        "* Lebih sensitif terhadap outlier, sehingga cocok digunakan untuk mengevaluasi error besar yang mungkin muncul.\n",
        "\n",
        "---\n",
        "\n",
        "### Hasil Evaluasi Model (Model-Based CF)\n",
        "\n",
        "* **RMSE pada Data Training**: **\\~0.1517**\n",
        "* **RMSE pada Data Validation**: **\\~0.1835**\n",
        "\n",
        "#### **Interpretasi:**\n",
        "\n",
        "* RMSE yang rendah menunjukkan bahwa model mampu **memahami pola rating pengguna dengan cukup akurat**.\n",
        "* Selisih antara RMSE training dan validation tergolong kecil, menandakan **tidak ada overfitting yang signifikan**.\n",
        "* Model cukup **stabil dan generalizable** terhadap data baru.\n",
        "\n",
        "---\n",
        "\n",
        "### Visualisasi Learning Curve\n",
        "\n",
        "![Learning Curve](image/Learning%20Curve%20-%20RMSE.png)\n",
        "\n",
        "#### **Insight:**\n",
        "\n",
        "* RMSE pada data pelatihan terus menurun dari epoch ke epoch, menunjukkan **proses pembelajaran berjalan baik**.\n",
        "* RMSE pada data validasi menurun di awal, namun mulai **stabil setelah sekitar epoch ke-7**.\n",
        "* Hal ini menandakan bahwa model **sudah mulai konvergen** pada epoch ke-10–12.\n",
        "* Selisih RMSE yang mulai melebar di akhir pelatihan mengindikasikan awal dari **overfitting ringan**, namun masih dalam batas wajar.\n",
        "\n",
        "#### **Rekomendasi:**\n",
        "\n",
        "* Gunakan **Early Stopping** untuk menghentikan pelatihan di titik optimal (sekitar epoch ke-10) guna menghemat waktu dan mencegah overfitting.\n",
        "* Pertimbangkan penerapan **Regularisasi** tambahan jika model lebih kompleks atau dataset lebih besar.\n",
        "\n",
        "---\n",
        "\n",
        "### Content-Based Filtering (Precision\\@5)\n",
        "\n",
        "* **Average Precision\\@5**: **0.0604** atau **6.04%**\n",
        "\n",
        "#### **Interpretasi:**\n",
        "\n",
        "* Rata-rata hanya **1 dari 16** buku (dari Top-5 rekomendasi) yang sesuai preferensi pengguna berdasarkan histori rating.\n",
        "* Ini menunjukkan bahwa pendekatan ini masih **kurang optimal dalam memahami selera pengguna** secara holistik.\n",
        "\n",
        "#### **Insight Tambahan:**\n",
        "\n",
        "* Model hanya memanfaatkan fitur **judul buku**, sehingga banyak rekomendasi yang mirip secara kata, tetapi **tidak relevan secara konteks atau isi**.\n",
        "* Precision rendah kemungkinan besar disebabkan oleh:\n",
        "\n",
        "  * Judul tidak mencerminkan **genre, tema, atau kualitas isi**.\n",
        "  * Tidak adanya fitur **penulis, sinopsis, genre**, atau **embedding semantic** yang lebih representatif.\n",
        "  * **Kemiripan literal**, bukan kemiripan konseptual.\n",
        "\n",
        "---\n",
        "\n",
        "### Keterkaitan Evaluasi dengan Business Understanding\n",
        "\n",
        "Evaluasi sistem rekomendasi ini dikaitkan langsung dengan **permasalahan utama** yang menjadi landasan proyek, serta **tujuan bisnis** yang ingin dicapai.\n",
        "\n",
        "---\n",
        "\n",
        "#### **Problem 1**: Banyaknya pilihan buku membuat pengguna kewalahan dalam memilih\n",
        "\n",
        "**Solusi & Evaluasi:**\n",
        "\n",
        "* Pendekatan **Collaborative Filtering (CF)** dan **Content-Based Filtering (CBF)** berhasil menyajikan **Top-N rekomendasi** yang relevan dengan minat pengguna.\n",
        "* Hasil evaluasi model, terutama dari Model-Based CF dengan **RMSE rendah (\\~0.18)**, menunjukkan bahwa sistem dapat memberikan prediksi yang akurat terhadap preferensi pengguna.\n",
        "* Ini membantu menyederhanakan proses pencarian dan mengurangi kebingungan pengguna saat memilih bacaan.\n",
        "\n",
        "---\n",
        "\n",
        "#### **Problem 2**: Pengguna baru atau pasif sulit dianalisis karena data interaksi minim\n",
        "\n",
        "**Solusi & Evaluasi:**\n",
        "\n",
        "* Pendekatan **Content-Based Filtering** tetap mampu memberikan rekomendasi berdasarkan fitur buku seperti judul, tanpa mengandalkan histori rating.\n",
        "* Meskipun nilai **Precision\\@5 masih rendah (0.0604)**, pendekatan ini efektif dalam **mengatasi cold-start problem**, terutama pada tahap awal penggunaan platform.\n",
        "\n",
        "---\n",
        "\n",
        "#### **Problem 3**: Perlunya pengalaman pengguna yang lebih personal untuk meningkatkan engagement\n",
        "\n",
        "**Solusi & Evaluasi:**\n",
        "\n",
        "* Pendekatan **Model-Based CF** membentuk representasi laten (embedding) dari user dan buku, yang menghasilkan **rekomendasi lebih personal dan mendalam**.\n",
        "* Hal ini didukung oleh **learning curve yang stabil**, serta RMSE yang kecil, menandakan bahwa model memahami pola kompleks dalam preferensi pengguna.\n",
        "* Dengan demikian, sistem mendukung peningkatan **frekuensi dan durasi keterlibatan pengguna** terhadap platform.\n",
        "\n",
        "---\n",
        "\n",
        "#### Hubungan dengan Goals:\n",
        "\n",
        "| Goals                                                  | Bukti dari Evaluasi                                             |\n",
        "| ------------------------------------------------------ | --------------------------------------------------------------- |\n",
        "| Menyediakan rekomendasi relevan                        | RMSE rendah menunjukkan akurasi prediksi yang baik              |\n",
        "| Membantu pengguna menghindari kebingungan saat memilih | Top-N buku relevan berhasil disajikan secara sistematis         |\n",
        "| Meningkatkan engagement pengguna                       | Model personalized (embedding) mendorong interaksi lebih lanjut |\n",
        "| Mendorong eksplorasi genre baru                        | CF mampu mengenali pola minat tersembunyi dari data rating      |\n",
        "\n",
        "---\n",
        "\n",
        "### **Kesimpulan Evaluasi Sistem Rekomendasi**\n",
        "\n",
        "* **Content-Based Filtering** berguna untuk cold-start, namun precision rendah karena keterbatasan fitur.\n",
        "* **Model-Based Collaborative Filtering** memberikan hasil paling akurat dan personal, dibuktikan dengan RMSE rendah dan kurva pembelajaran stabil.\n",
        "* **Kedua pendekatan saling melengkapi**, dan mendukung pencapaian kebutuhan bisnis platform.\n",
        "\n"
      ],
      "id": "ab618def3777891e"
    }
  ],
  "metadata": {
    "kernelspec": {
      "display_name": "Python [conda env:miniconda3-fastfood-env]",
      "language": "python",
      "name": "conda-env-miniconda3-fastfood-env-py"
    },
    "language_info": {
      "codemirror_mode": {
        "name": "ipython",
        "version": 2
      },
      "file_extension": ".py",
      "mimetype": "text/x-python",
      "name": "python",
      "nbconvert_exporter": "python",
      "pygments_lexer": "ipython2",
      "version": "2.7.6"
    },
    "colab": {
      "provenance": [],
      "toc_visible": true
    }
  },
  "nbformat": 4,
  "nbformat_minor": 5
}